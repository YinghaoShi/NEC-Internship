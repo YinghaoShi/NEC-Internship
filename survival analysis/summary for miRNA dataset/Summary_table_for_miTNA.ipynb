{
  "nbformat": 4,
  "nbformat_minor": 0,
  "metadata": {
    "colab": {
      "name": "Summary table for miTNA.ipynb",
      "provenance": [],
      "collapsed_sections": [
        "hTJomy5G9UmA",
        "dRx8Iu0BcgqX",
        "Un1Ev_ebgSmp",
        "-z25_DrWi9yy",
        "mFIZNLauzDIn",
        "YNDfJECs093U",
        "P_kbhHl52-cL",
        "6KrBNiim4Lt3",
        "8wykhLgh5hw3",
        "eb-YzlZM6pOy",
        "9xvhRLS07lMs",
        "J0rmLUfY_fkp",
        "VyJJ-MK1Cwtp",
        "aqb9fvkVDff4",
        "WJ7Pk2rTEN4f",
        "99KFxQ_PFhxv",
        "VRgKPcqHGQtZ",
        "YxH5bKpqG5jt",
        "-Vl_aft-HgIG",
        "mHigpob5IGGN",
        "JTnANTnAIr5Z",
        "q6hu5fiTJQrw",
        "lqZ_pTokKIc3"
      ]
    },
    "kernelspec": {
      "name": "python3",
      "display_name": "Python 3"
    },
    "language_info": {
      "name": "python"
    }
  },
  "cells": [
    {
      "cell_type": "code",
      "metadata": {
        "id": "DjmWN5YhP6_D"
      },
      "source": [
        "import numpy as np\n",
        "import csv\n",
        "import matplotlib.pyplot as plt"
      ],
      "execution_count": 95,
      "outputs": []
    },
    {
      "cell_type": "markdown",
      "metadata": {
        "id": "hTJomy5G9UmA"
      },
      "source": [
        "#Gerneral Function for all"
      ]
    },
    {
      "cell_type": "code",
      "metadata": {
        "id": "KSZ37o0o9ZNX"
      },
      "source": [
        "def Summary(filename):\n",
        "  with open(filename,'rt') as raw_data:\n",
        "    data=np.loadtxt(raw_data,delimiter=',')\n",
        "  \n",
        "  #count censored and uncensored number\n",
        "  censored_number=0\n",
        "  uncensored_number=0\n",
        "  for i in range(len(data)):\n",
        "    if data[i][1]==0:\n",
        "      censored_number+=1\n",
        "  uncensored_number=len(data)-censored_number\n",
        "\n",
        "  #max/min/mean survival time for censored data\n",
        "  survival_time_censored=[]\n",
        "  for i in range(len(data)):\n",
        "    if data[i][1]==0:\n",
        "      survival_time_censored.append(data[i][0])\n",
        "      survival_time_max_censored = np.max(survival_time_censored)\n",
        "      survival_time_min_censored = np.min(survival_time_censored)\n",
        "      survival_time_mean_censored = np.mean(survival_time_censored)\n",
        "  \n",
        "  #max/min/mean survival time for uncensored data\n",
        "  survival_time_uncensored=[]\n",
        "  for i in range(len(data)):\n",
        "    if data[i][1]==1:\n",
        "      survival_time_uncensored.append(data[i][0])\n",
        "      survival_time_max_uncensored = np.max(survival_time_uncensored)\n",
        "      survival_time_min_uncensored = np.min(survival_time_uncensored)\n",
        "      survival_time_mean_uncensored = np.mean(survival_time_uncensored)\n",
        "  \n",
        "  #max/min/mean/var feature value for all the data\n",
        "  feature_max = data.max(axis=0)\n",
        "  feature_max = np.delete(feature_max,[0,1,2])\n",
        "  feature_min = data.min(axis=0)\n",
        "  feature_min = np.delete(feature_min,[0,1,2])\n",
        "  feature_mean = data.mean(axis=0)\n",
        "  feature_mean = np.delete(feature_mean,[0,1,2])\n",
        "  feature_var = data.var(axis=0)\n",
        "  feature_var = np.delete(feature_var,[0,1,2])\n",
        "\n",
        "  return censored_number, uncensored_number, survival_time_max_censored, survival_time_min_censored, survival_time_mean_censored, survival_time_max_uncensored, survival_time_min_uncensored, survival_time_mean_uncensored, feature_max, feature_min, feature_mean, feature_var\n"
      ],
      "execution_count": 2,
      "outputs": []
    },
    {
      "cell_type": "markdown",
      "metadata": {
        "id": "dRx8Iu0BcgqX"
      },
      "source": [
        "#ACC\n",
        "\n",
        "---\n",
        "\n",
        "\n",
        "\n",
        "\n"
      ]
    },
    {
      "cell_type": "code",
      "metadata": {
        "colab": {
          "base_uri": "https://localhost:8080/"
        },
        "id": "AwNlEVoRQcD7",
        "outputId": "34f6022f-cc0a-4b0c-ced4-1f36e86ec099"
      },
      "source": [
        "filename='ACC.csv'\n",
        "with open(filename,'rt') as raw_data:\n",
        "    data_ACC=np.loadtxt(raw_data,delimiter=',')\n",
        "    print(data_ACC.shape)"
      ],
      "execution_count": 3,
      "outputs": [
        {
          "output_type": "stream",
          "text": [
            "(80, 1049)\n"
          ],
          "name": "stdout"
        }
      ]
    },
    {
      "cell_type": "markdown",
      "metadata": {
        "id": "0YB-vXUSTsMu"
      },
      "source": [
        "get the number of cencored number and uncencored number for ACC"
      ]
    },
    {
      "cell_type": "code",
      "metadata": {
        "colab": {
          "base_uri": "https://localhost:8080/"
        },
        "id": "ICcAV6UrQ8X3",
        "outputId": "150a40c0-8185-4413-f9ed-6ddfe2aa71ad"
      },
      "source": [
        "censored_number_ACC=0\n",
        "uncensored_number_ACC=0\n",
        "for i in range(len(data_ACC)):\n",
        "  if data_ACC[i][1]==0:\n",
        "    censored_number_ACC+=1\n",
        "uncensored_number_ACC=len(data_ACC)-censored_number_ACC\n",
        "print(censored_number_ACC)\n",
        "print(uncensored_number_ACC)"
      ],
      "execution_count": 4,
      "outputs": [
        {
          "output_type": "stream",
          "text": [
            "51\n",
            "29\n"
          ],
          "name": "stdout"
        }
      ]
    },
    {
      "cell_type": "markdown",
      "metadata": {
        "id": "UNfz7KvDU_G4"
      },
      "source": [
        "get the max/min/mean survival time for censored data of ACC"
      ]
    },
    {
      "cell_type": "code",
      "metadata": {
        "colab": {
          "base_uri": "https://localhost:8080/"
        },
        "id": "ZvyKFfniSLLU",
        "outputId": "904a7563-e719-4027-af0f-dd4849baeac6"
      },
      "source": [
        "survival_time_censored_ACC=[]\n",
        "for i in range(len(data_ACC)):\n",
        "  if data_ACC[i][1]==0:\n",
        "    survival_time_censored_ACC.append(data_ACC[i][0])\n",
        "    survival_time_max_censored_ACC = np.max(survival_time_censored_ACC)\n",
        "    survival_time_min_censored_ACC = np.min(survival_time_censored_ACC)\n",
        "    survival_time_mean_censored_ACC = np.mean(survival_time_censored_ACC)\n",
        "print(survival_time_max_censored_ACC)\n",
        "print(survival_time_min_censored_ACC)\n",
        "print(survival_time_mean_censored_ACC)"
      ],
      "execution_count": 5,
      "outputs": [
        {
          "output_type": "stream",
          "text": [
            "4673.0\n",
            "383.0\n",
            "1765.0588235294117\n"
          ],
          "name": "stdout"
        }
      ]
    },
    {
      "cell_type": "markdown",
      "metadata": {
        "id": "VLpgKQJHXEs-"
      },
      "source": [
        "get the max/min/mean survival time for uncensored data of ACC"
      ]
    },
    {
      "cell_type": "code",
      "metadata": {
        "colab": {
          "base_uri": "https://localhost:8080/"
        },
        "id": "UXmnETy2V7SF",
        "outputId": "e7e02002-db58-4925-ea79-251067bb8d88"
      },
      "source": [
        "survival_time_uncensored_ACC=[]\n",
        "for i in range(len(data_ACC)):\n",
        "  if data_ACC[i][1]==1:\n",
        "    survival_time_uncensored_ACC.append(data_ACC[i][0])\n",
        "    survival_time_max_uncensored_ACC = np.max(survival_time_uncensored_ACC)\n",
        "    survival_time_min_uncensored_ACC = np.min(survival_time_uncensored_ACC)\n",
        "    survival_time_mean_uncensored_ACC = np.mean(survival_time_uncensored_ACC)\n",
        "print(survival_time_max_uncensored_ACC)\n",
        "print(survival_time_min_uncensored_ACC)\n",
        "print(survival_time_mean_uncensored_ACC)"
      ],
      "execution_count": 6,
      "outputs": [
        {
          "output_type": "stream",
          "text": [
            "2405.0\n",
            "125.0\n",
            "897.7241379310345\n"
          ],
          "name": "stdout"
        }
      ]
    },
    {
      "cell_type": "markdown",
      "metadata": {
        "id": "NSxYX1EtX0Mz"
      },
      "source": [
        "get the max/min/mean/variance feature value for ACC"
      ]
    },
    {
      "cell_type": "code",
      "metadata": {
        "colab": {
          "base_uri": "https://localhost:8080/"
        },
        "id": "LGgG1bqmXgPM",
        "outputId": "12ec1b39-6ec0-4d21-84c4-0cd71c21fe0c"
      },
      "source": [
        "feature_max_ACC = data_ACC.max(axis=0)\n",
        "feature_max_ACC = np.delete(feature_max_ACC,[0,1,2])\n",
        "feature_min_ACC = data_ACC.min(axis=0)\n",
        "feature_min_ACC = np.delete(feature_min_ACC,[0,1,2])\n",
        "feature_mean_ACC = data_ACC.mean(axis=0)\n",
        "feature_mean_ACC = np.delete(feature_mean_ACC,[0,1,2])\n",
        "feature_var_ACC = data_ACC.var(axis=0)\n",
        "feature_var_ACC = np.delete(feature_var_ACC,[0,1,2])\n",
        "print(feature_max_ACC)\n",
        "print(feature_min_ACC)\n",
        "print(feature_mean_ACC)\n",
        "print(feature_var_ACC)"
      ],
      "execution_count": 7,
      "outputs": [
        {
          "output_type": "stream",
          "text": [
            "[3.73723871 3.75083045 3.76485178 ... 5.76807317 3.57605223 3.54153727]\n",
            "[-1.43977007 -1.43680414 -1.43298309 ... -1.3003259  -0.95386253\n",
            " -1.3975996 ]\n",
            "[-1.70002901e-16  3.01841885e-16 -1.41206491e-16 ... -2.35922393e-16\n",
            "  5.55111512e-18 -9.99200722e-17]\n",
            "[0.9875 0.9875 0.9875 ... 0.9875 0.9875 0.9875]\n"
          ],
          "name": "stdout"
        }
      ]
    },
    {
      "cell_type": "markdown",
      "metadata": {
        "id": "Un1Ev_ebgSmp"
      },
      "source": [
        "#BLCA\n",
        "\n",
        "---\n",
        "\n",
        "\n"
      ]
    },
    {
      "cell_type": "code",
      "metadata": {
        "colab": {
          "base_uri": "https://localhost:8080/"
        },
        "id": "JEwJu62ggV8z",
        "outputId": "1270a129-5448-4405-e348-50790640f0c6"
      },
      "source": [
        "filename='BLCA.csv'\n",
        "with open(filename,'rt') as raw_data:\n",
        "    data_BLCA=np.loadtxt(raw_data,delimiter=',')\n",
        "    print(data_BLCA.shape)"
      ],
      "execution_count": 8,
      "outputs": [
        {
          "output_type": "stream",
          "text": [
            "(407, 1049)\n"
          ],
          "name": "stdout"
        }
      ]
    },
    {
      "cell_type": "markdown",
      "metadata": {
        "id": "81Zefbh-gnhQ"
      },
      "source": [
        "get the number of cencored number and uncencored number for BLCA"
      ]
    },
    {
      "cell_type": "code",
      "metadata": {
        "colab": {
          "base_uri": "https://localhost:8080/"
        },
        "id": "nKz_3ZTlgi4N",
        "outputId": "643590f2-92f9-4c17-acfd-ae219ba14956"
      },
      "source": [
        "censored_number_BLCA=0\n",
        "uncensored_number_BLCA=0\n",
        "for i in range(len(data_BLCA)):\n",
        "  if data_BLCA[i][1]==0:\n",
        "    censored_number_BLCA+=1\n",
        "uncensored_number_BLCA=len(data_BLCA)-censored_number_BLCA\n",
        "print(censored_number_BLCA)\n",
        "print(uncensored_number_BLCA)"
      ],
      "execution_count": 9,
      "outputs": [
        {
          "output_type": "stream",
          "text": [
            "229\n",
            "178\n"
          ],
          "name": "stdout"
        }
      ]
    },
    {
      "cell_type": "markdown",
      "metadata": {
        "id": "oaCeqnoFhVuQ"
      },
      "source": [
        "get the max/min/mean survival time for censored data of BCLA"
      ]
    },
    {
      "cell_type": "code",
      "metadata": {
        "colab": {
          "base_uri": "https://localhost:8080/"
        },
        "id": "oQP2E3yhg2T3",
        "outputId": "eadd4d19-f89f-4f16-f926-a6ee87f47a10"
      },
      "source": [
        "survival_time_censored_BLCA=[]\n",
        "for i in range(len(data_BLCA)):\n",
        "  if data_BLCA[i][1]==0:\n",
        "    survival_time_censored_BLCA.append(data_BLCA[i][0])\n",
        "    survival_time_max_censored_BLCA = np.max(survival_time_censored_BLCA)\n",
        "    survival_time_min_censored_BLCA = np.min(survival_time_censored_BLCA)\n",
        "    survival_time_mean_censored_BLCA = np.mean(survival_time_censored_BLCA)\n",
        "print(survival_time_max_censored_BLCA)\n",
        "print(survival_time_min_censored_BLCA)\n",
        "print(survival_time_mean_censored_BLCA)"
      ],
      "execution_count": 10,
      "outputs": [
        {
          "output_type": "stream",
          "text": [
            "5050.0\n",
            "-64.0\n",
            "1019.5152838427948\n"
          ],
          "name": "stdout"
        }
      ]
    },
    {
      "cell_type": "markdown",
      "metadata": {
        "id": "k1rv10o1hx9u"
      },
      "source": [
        "get the max/min/mean survival time for uncensored data of BCLA"
      ]
    },
    {
      "cell_type": "code",
      "metadata": {
        "colab": {
          "base_uri": "https://localhost:8080/"
        },
        "id": "Klqncfk-htDz",
        "outputId": "a3a41da2-c963-4699-c25f-2c8528c82f44"
      },
      "source": [
        "survival_time_uncensored_BLCA=[]\n",
        "for i in range(len(data_BLCA)):\n",
        "  if data_BLCA[i][1]==1:\n",
        "    survival_time_uncensored_BLCA.append(data_BLCA[i][0])\n",
        "    survival_time_max_uncensored_BLCA = np.max(survival_time_uncensored_BLCA)\n",
        "    survival_time_min_uncensored_BLCA = np.min(survival_time_uncensored_BLCA)\n",
        "    survival_time_mean_uncensored_BLCA = np.mean(survival_time_uncensored_BLCA)\n",
        "print(survival_time_max_uncensored_BLCA)\n",
        "print(survival_time_min_uncensored_BLCA)\n",
        "print(survival_time_mean_uncensored_BLCA)"
      ],
      "execution_count": 11,
      "outputs": [
        {
          "output_type": "stream",
          "text": [
            "3183.0\n",
            "19.0\n",
            "557.1516853932584\n"
          ],
          "name": "stdout"
        }
      ]
    },
    {
      "cell_type": "markdown",
      "metadata": {
        "id": "GT6MBTuEiNJn"
      },
      "source": [
        "get the max/min/mean/variance feature value for BCLA"
      ]
    },
    {
      "cell_type": "code",
      "metadata": {
        "colab": {
          "base_uri": "https://localhost:8080/"
        },
        "id": "YwHmUw74iGEt",
        "outputId": "43c1be74-e9c0-4f6e-ffda-cf434d03c793"
      },
      "source": [
        "feature_max_BLCA = data_BLCA.max(axis=0)\n",
        "feature_max_BLCA = np.delete(feature_max_BLCA,[0,1,2])\n",
        "feature_min_BLCA = data_BLCA.min(axis=0)\n",
        "feature_min_BLCA = np.delete(feature_min_BLCA,[0,1,2])\n",
        "feature_mean_BLCA = data_BLCA.mean(axis=0)\n",
        "feature_mean_BLCA = np.delete(feature_mean_BLCA,[0,1,2])\n",
        "feature_var_BLCA = data_BLCA.var(axis=0)\n",
        "feature_var_BLCA = np.delete(feature_var_BLCA,[0,1,2])\n",
        "print(feature_max_BLCA)\n",
        "print(feature_min_BLCA)\n",
        "print(feature_mean_BLCA)\n",
        "print(feature_var_BLCA)"
      ],
      "execution_count": 12,
      "outputs": [
        {
          "output_type": "stream",
          "text": [
            "[ 5.164564    5.15513104  5.17206327 ...  7.08723949 15.12811282\n",
            " 14.24330614]\n",
            "[-1.26555488 -1.26897326 -1.26714278 ... -1.07474611 -0.47569845\n",
            " -0.9054289 ]\n",
            "[-6.12395747e-17 -2.18907611e-16  1.63669242e-18 ...  8.18346210e-19\n",
            "  3.76439257e-17  6.21943119e-17]\n",
            "[0.997543 0.997543 0.997543 ... 0.997543 0.997543 0.997543]\n"
          ],
          "name": "stdout"
        }
      ]
    },
    {
      "cell_type": "markdown",
      "metadata": {
        "id": "-z25_DrWi9yy"
      },
      "source": [
        "#BRCA"
      ]
    },
    {
      "cell_type": "code",
      "metadata": {
        "colab": {
          "base_uri": "https://localhost:8080/"
        },
        "id": "9ijT6pwwil2V",
        "outputId": "13edbcd5-e812-44a4-d228-397bf9e409b2"
      },
      "source": [
        "filename='BRCA.csv'\n",
        "with open(filename,'rt') as raw_data:\n",
        "    data_BRCA=np.loadtxt(raw_data,delimiter=',')\n",
        "    print(data_BRCA.shape)"
      ],
      "execution_count": 13,
      "outputs": [
        {
          "output_type": "stream",
          "text": [
            "(754, 1049)\n"
          ],
          "name": "stdout"
        }
      ]
    },
    {
      "cell_type": "code",
      "metadata": {
        "colab": {
          "base_uri": "https://localhost:8080/"
        },
        "id": "7HApF-WPxfJm",
        "outputId": "7777ca29-b6b2-4e5f-bb6c-89164ae2dd9d"
      },
      "source": [
        "censored_number_BRCA=0\n",
        "uncensored_number_BRCA=0\n",
        "for i in range(len(data_BRCA)):\n",
        "  if data_BRCA[i][1]==0:\n",
        "    censored_number_BRCA+=1\n",
        "uncensored_number_BRCA=len(data_BRCA)-censored_number_BRCA\n",
        "print(censored_number_BRCA)\n",
        "print(uncensored_number_BRCA)"
      ],
      "execution_count": 14,
      "outputs": [
        {
          "output_type": "stream",
          "text": [
            "649\n",
            "105\n"
          ],
          "name": "stdout"
        }
      ]
    },
    {
      "cell_type": "code",
      "metadata": {
        "colab": {
          "base_uri": "https://localhost:8080/"
        },
        "id": "7kkcYnffx2zd",
        "outputId": "5265c38d-fceb-492b-d4a7-ac336fa989ff"
      },
      "source": [
        "survival_time_censored_BRCA=[]\n",
        "for i in range(len(data_BRCA)):\n",
        "  if data_BRCA[i][1]==0:\n",
        "    survival_time_censored_BRCA.append(data_BRCA[i][0])\n",
        "    survival_time_max_censored_BRCA = np.max(survival_time_censored_BRCA)\n",
        "    survival_time_min_censored_BRCA = np.min(survival_time_censored_BRCA)\n",
        "    survival_time_mean_censored_BRCA = np.mean(survival_time_censored_BRCA)\n",
        "print(survival_time_max_censored_BRCA)\n",
        "print(survival_time_min_censored_BRCA)\n",
        "print(survival_time_mean_censored_BRCA)"
      ],
      "execution_count": 15,
      "outputs": [
        {
          "output_type": "stream",
          "text": [
            "5176.0\n",
            "-7.0\n",
            "1139.8551617873652\n"
          ],
          "name": "stdout"
        }
      ]
    },
    {
      "cell_type": "code",
      "metadata": {
        "colab": {
          "base_uri": "https://localhost:8080/"
        },
        "id": "-HTwD8UDyKo5",
        "outputId": "e0aabdde-9c6a-45bc-ce2c-21b2576035e3"
      },
      "source": [
        "survival_time_uncensored_BRCA=[]\n",
        "for i in range(len(data_BRCA)):\n",
        "  if data_BRCA[i][1]==1:\n",
        "    survival_time_uncensored_BRCA.append(data_BRCA[i][0])\n",
        "    survival_time_max_uncensored_BRCA = np.max(survival_time_uncensored_BRCA)\n",
        "    survival_time_min_uncensored_BRCA = np.min(survival_time_uncensored_BRCA)\n",
        "    survival_time_mean_uncensored_BRCA = np.mean(survival_time_uncensored_BRCA)\n",
        "print(survival_time_max_uncensored_BRCA)\n",
        "print(survival_time_min_uncensored_BRCA)\n",
        "print(survival_time_mean_uncensored_BRCA)"
      ],
      "execution_count": 16,
      "outputs": [
        {
          "output_type": "stream",
          "text": [
            "6593.0\n",
            "116.0\n",
            "1557.152380952381\n"
          ],
          "name": "stdout"
        }
      ]
    },
    {
      "cell_type": "code",
      "metadata": {
        "colab": {
          "base_uri": "https://localhost:8080/"
        },
        "id": "v_3hJJ_8yfUa",
        "outputId": "2b2ef1e2-1651-48c3-8b83-c303c4317f5c"
      },
      "source": [
        "feature_max_BRCA = data_BRCA.max(axis=0)\n",
        "feature_max_BRCA = np.delete(feature_max_BRCA,[0,1,2])\n",
        "feature_min_BRCA = data_BRCA.min(axis=0)\n",
        "feature_min_BRCA = np.delete(feature_min_BRCA,[0,1,2])\n",
        "feature_mean_BRCA = data_BRCA.mean(axis=0)\n",
        "feature_mean_BRCA = np.delete(feature_mean_BRCA,[0,1,2])\n",
        "feature_var_BRCA = data_BRCA.var(axis=0)\n",
        "feature_var_BRCA = np.delete(feature_var_BRCA,[0,1,2])\n",
        "print(feature_max_BRCA)\n",
        "print(feature_min_BRCA)\n",
        "print(feature_mean_BRCA)\n",
        "print(feature_var_BRCA)"
      ],
      "execution_count": 17,
      "outputs": [
        {
          "output_type": "stream",
          "text": [
            "[ 8.63741798  8.62921845  8.63214672 ... 13.12707801 10.87890761\n",
            "  7.12460569]\n",
            "[-0.98931659 -0.98734395 -0.99052311 ... -1.22252282 -0.75376646\n",
            " -1.11215565]\n",
            "[-5.68639595e-17 -1.22304907e-17 -5.48485513e-17 ...  1.41722767e-17\n",
            "  1.28029034e-16 -2.39272204e-17]\n",
            "[0.99867374 0.99867374 0.99867374 ... 0.99867374 0.99867374 0.99867374]\n"
          ],
          "name": "stdout"
        }
      ]
    },
    {
      "cell_type": "markdown",
      "metadata": {
        "id": "mFIZNLauzDIn"
      },
      "source": [
        "#CESC"
      ]
    },
    {
      "cell_type": "code",
      "metadata": {
        "colab": {
          "base_uri": "https://localhost:8080/"
        },
        "id": "nkDLzLKKy0hk",
        "outputId": "57093948-1dd2-400d-b029-2f5723822071"
      },
      "source": [
        "filename='CESC.csv'\n",
        "with open(filename,'rt') as raw_data:\n",
        "    data_CESC=np.loadtxt(raw_data,delimiter=',')\n",
        "    print(data_CESC.shape)"
      ],
      "execution_count": 18,
      "outputs": [
        {
          "output_type": "stream",
          "text": [
            "(307, 1049)\n"
          ],
          "name": "stdout"
        }
      ]
    },
    {
      "cell_type": "code",
      "metadata": {
        "colab": {
          "base_uri": "https://localhost:8080/"
        },
        "id": "RwUZ9yDJzPH4",
        "outputId": "aba40d5d-aefc-4714-ab8b-d352dc24e5a8"
      },
      "source": [
        "censored_number_CESC=0\n",
        "uncensored_number_CESC=0\n",
        "for i in range(len(data_CESC)):\n",
        "  if data_CESC[i][1]==0:\n",
        "    censored_number_CESC+=1\n",
        "uncensored_number_CESC=len(data_CESC)-censored_number_CESC\n",
        "print(censored_number_CESC)\n",
        "print(uncensored_number_CESC)"
      ],
      "execution_count": 19,
      "outputs": [
        {
          "output_type": "stream",
          "text": [
            "235\n",
            "72\n"
          ],
          "name": "stdout"
        }
      ]
    },
    {
      "cell_type": "code",
      "metadata": {
        "colab": {
          "base_uri": "https://localhost:8080/"
        },
        "id": "rTB6Ya2yzb8z",
        "outputId": "262e1cb2-e631-4ed4-f207-93ad14c4d524"
      },
      "source": [
        "survival_time_censored_CESC=[]\n",
        "for i in range(len(data_CESC)):\n",
        "  if data_CESC[i][1]==0:\n",
        "    survival_time_censored_CESC.append(data_CESC[i][0])\n",
        "    survival_time_max_censored_CESC = np.max(survival_time_censored_CESC)\n",
        "    survival_time_min_censored_CESC = np.min(survival_time_censored_CESC)\n",
        "    survival_time_mean_censored_CESC = np.mean(survival_time_censored_CESC)\n",
        "print(survival_time_max_censored_CESC)\n",
        "print(survival_time_min_censored_CESC)\n",
        "print(survival_time_mean_censored_CESC)"
      ],
      "execution_count": 20,
      "outputs": [
        {
          "output_type": "stream",
          "text": [
            "6408.0\n",
            "0.0\n",
            "1070.7531914893616\n"
          ],
          "name": "stdout"
        }
      ]
    },
    {
      "cell_type": "code",
      "metadata": {
        "colab": {
          "base_uri": "https://localhost:8080/"
        },
        "id": "TB_kUlqUzs7Y",
        "outputId": "f13c835c-f0a3-4cea-87e9-0604aeca71a4"
      },
      "source": [
        "survival_time_uncensored_CESC=[]\n",
        "for i in range(len(data_CESC)):\n",
        "  if data_CESC[i][1]==1:\n",
        "    survival_time_uncensored_CESC.append(data_CESC[i][0])\n",
        "    survival_time_max_uncensored_CESC = np.max(survival_time_uncensored_CESC)\n",
        "    survival_time_min_uncensored_CESC = np.min(survival_time_uncensored_CESC)\n",
        "    survival_time_mean_uncensored_CESC = np.mean(survival_time_uncensored_CESC)\n",
        "print(survival_time_max_uncensored_CESC)\n",
        "print(survival_time_min_uncensored_CESC)\n",
        "print(survival_time_mean_uncensored_CESC)"
      ],
      "execution_count": 21,
      "outputs": [
        {
          "output_type": "stream",
          "text": [
            "4086.0\n",
            "14.0\n",
            "881.3194444444445\n"
          ],
          "name": "stdout"
        }
      ]
    },
    {
      "cell_type": "code",
      "metadata": {
        "colab": {
          "base_uri": "https://localhost:8080/"
        },
        "id": "oTxxu_gh0flQ",
        "outputId": "3599949d-9581-4e55-cf1a-b273498e4b7c"
      },
      "source": [
        "feature_max_CESC = data_CESC.max(axis=0)\n",
        "feature_max_CESC = np.delete(feature_max_CESC,[0,1,2])\n",
        "feature_min_CESC = data_CESC.min(axis=0)\n",
        "feature_min_CESC = np.delete(feature_min_CESC,[0,1,2])\n",
        "feature_mean_CESC = data_CESC.mean(axis=0)\n",
        "feature_mean_CESC = np.delete(feature_mean_CESC,[0,1,2])\n",
        "feature_var_CESC = data_CESC.var(axis=0)\n",
        "feature_var_CESC = np.delete(feature_var_CESC,[0,1,2])\n",
        "print(feature_max_CESC)\n",
        "print(feature_min_CESC)\n",
        "print(feature_mean_CESC)\n",
        "print(feature_var_CESC)"
      ],
      "execution_count": 22,
      "outputs": [
        {
          "output_type": "stream",
          "text": [
            "[3.83871424 3.83556638 3.82236973 ... 4.36904752 7.19896088 3.9045487 ]\n",
            "[-1.42182958 -1.41950675 -1.42226628 ... -1.48607083 -0.78174858\n",
            " -1.26028281]\n",
            "[-8.10065008e-17  3.90567058e-17 -5.26180619e-17 ... -1.35613562e-16\n",
            "  1.05959396e-16 -1.13915392e-17]\n",
            "[0.99674267 0.99674267 0.99674267 ... 0.99674267 0.99674267 0.99674267]\n"
          ],
          "name": "stdout"
        }
      ]
    },
    {
      "cell_type": "markdown",
      "metadata": {
        "id": "YNDfJECs093U"
      },
      "source": [
        "#CHOL"
      ]
    },
    {
      "cell_type": "code",
      "metadata": {
        "colab": {
          "base_uri": "https://localhost:8080/"
        },
        "id": "SYinYzft0zDG",
        "outputId": "1dd3c8cf-f51d-42e2-b595-af06baa82f11"
      },
      "source": [
        "filename='CHOL.csv'\n",
        "with open(filename,'rt') as raw_data:\n",
        "    data_CHOL=np.loadtxt(raw_data,delimiter=',')\n",
        "    print(data_CHOL.shape)"
      ],
      "execution_count": 23,
      "outputs": [
        {
          "output_type": "stream",
          "text": [
            "(36, 1049)\n"
          ],
          "name": "stdout"
        }
      ]
    },
    {
      "cell_type": "code",
      "metadata": {
        "colab": {
          "base_uri": "https://localhost:8080/"
        },
        "id": "TL2lcHB91DIx",
        "outputId": "5e624078-10f0-4abd-f6e5-81ac7e98bf49"
      },
      "source": [
        "censored_number_CHOL=0\n",
        "uncensored_number_CHOL=0\n",
        "for i in range(len(data_CHOL)):\n",
        "  if data_CHOL[i][1]==0:\n",
        "    censored_number_CHOL+=1\n",
        "uncensored_number_CHOL=len(data_CHOL)-censored_number_CHOL\n",
        "print(censored_number_CHOL)\n",
        "print(uncensored_number_CHOL)"
      ],
      "execution_count": 24,
      "outputs": [
        {
          "output_type": "stream",
          "text": [
            "18\n",
            "18\n"
          ],
          "name": "stdout"
        }
      ]
    },
    {
      "cell_type": "code",
      "metadata": {
        "colab": {
          "base_uri": "https://localhost:8080/"
        },
        "id": "RUF_zH3e1FxV",
        "outputId": "1a1ee551-4d94-4f89-a161-e54bddebf41b"
      },
      "source": [
        "survival_time_censored_CHOL=[]\n",
        "for i in range(len(data_CHOL)):\n",
        "  if data_CHOL[i][1]==0:\n",
        "    survival_time_censored_CHOL.append(data_CHOL[i][0])\n",
        "    survival_time_max_censored_CHOL = np.max(survival_time_censored_CHOL)\n",
        "    survival_time_min_censored_CHOL = np.min(survival_time_censored_CHOL)\n",
        "    survival_time_mean_censored_CHOL = np.mean(survival_time_censored_CHOL)\n",
        "print(survival_time_max_censored_CHOL)\n",
        "print(survival_time_min_censored_CHOL)\n",
        "print(survival_time_mean_censored_CHOL)"
      ],
      "execution_count": 25,
      "outputs": [
        {
          "output_type": "stream",
          "text": [
            "1976.0\n",
            "10.0\n",
            "936.5555555555555\n"
          ],
          "name": "stdout"
        }
      ]
    },
    {
      "cell_type": "code",
      "metadata": {
        "colab": {
          "base_uri": "https://localhost:8080/"
        },
        "id": "FYVmnZB81ITs",
        "outputId": "36699b8b-be65-442d-c706-a5c7984ac355"
      },
      "source": [
        "survival_time_uncensored_CHOL=[]\n",
        "for i in range(len(data_CHOL)):\n",
        "  if data_CHOL[i][1]==1:\n",
        "    survival_time_uncensored_CHOL.append(data_CHOL[i][0])\n",
        "    survival_time_max_uncensored_CHOL = np.max(survival_time_uncensored_CHOL)\n",
        "    survival_time_min_uncensored_CHOL = np.min(survival_time_uncensored_CHOL)\n",
        "    survival_time_mean_uncensored_CHOL = np.mean(survival_time_uncensored_CHOL)\n",
        "print(survival_time_max_uncensored_CHOL)\n",
        "print(survival_time_min_uncensored_CHOL)\n",
        "print(survival_time_mean_uncensored_CHOL)"
      ],
      "execution_count": 26,
      "outputs": [
        {
          "output_type": "stream",
          "text": [
            "1939.0\n",
            "21.0\n",
            "592.9444444444445\n"
          ],
          "name": "stdout"
        }
      ]
    },
    {
      "cell_type": "code",
      "metadata": {
        "colab": {
          "base_uri": "https://localhost:8080/"
        },
        "id": "KVds33Zd1Kqy",
        "outputId": "ee17fafd-85f4-46a8-df7a-8a9cf45c9fc5"
      },
      "source": [
        "feature_max_CHOL = data_CHOL.max(axis=0)\n",
        "feature_max_CHOL = np.delete(feature_max_CHOL,[0,1,2])\n",
        "feature_min_CHOL = data_CHOL.min(axis=0)\n",
        "feature_min_CHOL = np.delete(feature_min_CHOL,[0,1,2])\n",
        "feature_mean_CHOL = data_CHOL.mean(axis=0)\n",
        "feature_mean_CHOL = np.delete(feature_mean_CHOL,[0,1,2])\n",
        "feature_var_CHOL = data_CHOL.var(axis=0)\n",
        "feature_var_CHOL = np.delete(feature_var_CHOL,[0,1,2])\n",
        "print(feature_max_CHOL)\n",
        "print(feature_min_CHOL)\n",
        "print(feature_mean_CHOL)\n",
        "print(feature_var_CHOL)"
      ],
      "execution_count": 27,
      "outputs": [
        {
          "output_type": "stream",
          "text": [
            "[2.12435574 2.14063352 2.13984401 ... 3.45963618 2.08258732 2.4783589 ]\n",
            "[-1.7381638  -1.73861821 -1.73169044 ... -1.5139721  -1.44124998\n",
            " -1.56974926]\n",
            "[ 1.18539438e-16  6.24500451e-17 -1.01963191e-16 ... -3.51570624e-16\n",
            "  2.31296463e-16 -4.62592927e-16]\n",
            "[0.97222222 0.97222222 0.97222222 ... 0.97222222 0.97222222 0.97222222]\n"
          ],
          "name": "stdout"
        }
      ]
    },
    {
      "cell_type": "markdown",
      "metadata": {
        "id": "P_kbhHl52-cL"
      },
      "source": [
        "#ESCA"
      ]
    },
    {
      "cell_type": "code",
      "metadata": {
        "colab": {
          "base_uri": "https://localhost:8080/"
        },
        "id": "I1Yq6s-p2IJX",
        "outputId": "e6f045de-0d85-42e5-f70d-69b4824a06d5"
      },
      "source": [
        "filename='ESCA.csv'\n",
        "with open(filename,'rt') as raw_data:\n",
        "    data_ESCA=np.loadtxt(raw_data,delimiter=',')\n",
        "    print(data_ESCA.shape)"
      ],
      "execution_count": 28,
      "outputs": [
        {
          "output_type": "stream",
          "text": [
            "(184, 1049)\n"
          ],
          "name": "stdout"
        }
      ]
    },
    {
      "cell_type": "code",
      "metadata": {
        "colab": {
          "base_uri": "https://localhost:8080/"
        },
        "id": "twiNL2zj3Csu",
        "outputId": "b22aff77-ff1a-4046-f593-5abf1f60d467"
      },
      "source": [
        "censored_number_ESCA=0\n",
        "uncensored_number_ESCA=0\n",
        "for i in range(len(data_ESCA)):\n",
        "  if data_ESCA[i][1]==0:\n",
        "    censored_number_ESCA+=1\n",
        "uncensored_number_ESCA=len(data_ESCA)-censored_number_ESCA\n",
        "print(censored_number_ESCA)\n",
        "print(uncensored_number_ESCA)"
      ],
      "execution_count": 29,
      "outputs": [
        {
          "output_type": "stream",
          "text": [
            "107\n",
            "77\n"
          ],
          "name": "stdout"
        }
      ]
    },
    {
      "cell_type": "code",
      "metadata": {
        "colab": {
          "base_uri": "https://localhost:8080/"
        },
        "id": "3pXdOY8i3FE1",
        "outputId": "cb751861-1b96-4b48-9c8d-e17925e83c5b"
      },
      "source": [
        "survival_time_censored_ESCA=[]\n",
        "for i in range(len(data_ESCA)):\n",
        "  if data_ESCA[i][1]==0:\n",
        "    survival_time_censored_ESCA.append(data_ESCA[i][0])\n",
        "    survival_time_max_censored_ESCA = np.max(survival_time_censored_ESCA)\n",
        "    survival_time_min_censored_ESCA = np.min(survival_time_censored_ESCA)\n",
        "    survival_time_mean_censored_ESCA = np.mean(survival_time_censored_ESCA)\n",
        "print(survival_time_max_censored_ESCA)\n",
        "print(survival_time_min_censored_ESCA)\n",
        "print(survival_time_mean_censored_ESCA)"
      ],
      "execution_count": 30,
      "outputs": [
        {
          "output_type": "stream",
          "text": [
            "3714.0\n",
            "4.0\n",
            "571.8317757009346\n"
          ],
          "name": "stdout"
        }
      ]
    },
    {
      "cell_type": "code",
      "metadata": {
        "colab": {
          "base_uri": "https://localhost:8080/"
        },
        "id": "9LlhJLz13Ho9",
        "outputId": "82d0059e-0d17-4b58-9859-49d74fc54737"
      },
      "source": [
        "survival_time_uncensored_ESCA=[]\n",
        "for i in range(len(data_ESCA)):\n",
        "  if data_ESCA[i][1]==1:\n",
        "    survival_time_uncensored_ESCA.append(data_ESCA[i][0])\n",
        "    survival_time_max_uncensored_ESCA = np.max(survival_time_uncensored_ESCA)\n",
        "    survival_time_min_uncensored_ESCA = np.min(survival_time_uncensored_ESCA)\n",
        "    survival_time_mean_uncensored_ESCA = np.mean(survival_time_uncensored_ESCA)\n",
        "print(survival_time_max_uncensored_ESCA)\n",
        "print(survival_time_min_uncensored_ESCA)\n",
        "print(survival_time_mean_uncensored_ESCA)"
      ],
      "execution_count": 31,
      "outputs": [
        {
          "output_type": "stream",
          "text": [
            "2532.0\n",
            "9.0\n",
            "495.1818181818182\n"
          ],
          "name": "stdout"
        }
      ]
    },
    {
      "cell_type": "code",
      "metadata": {
        "colab": {
          "base_uri": "https://localhost:8080/"
        },
        "id": "2CCH9Nr03KEY",
        "outputId": "13eb0ef3-ec39-4167-ac8a-2173cc4f3bcf"
      },
      "source": [
        "feature_max_ESCA = data_ESCA.max(axis=0)\n",
        "feature_max_ESCA = np.delete(feature_max_ESCA,[0,1,2])\n",
        "feature_min_ESCA = data_ESCA.min(axis=0)\n",
        "feature_min_ESCA = np.delete(feature_min_ESCA,[0,1,2])\n",
        "feature_mean_ESCA = data_ESCA.mean(axis=0)\n",
        "feature_mean_ESCA = np.delete(feature_mean_ESCA,[0,1,2])\n",
        "feature_var_ESCA = data_ESCA.var(axis=0)\n",
        "feature_var_ESCA = np.delete(feature_var_ESCA,[0,1,2])\n",
        "print(feature_max_ESCA)\n",
        "print(feature_min_ESCA)\n",
        "print(feature_mean_ESCA)\n",
        "print(feature_var_ESCA)"
      ],
      "execution_count": 32,
      "outputs": [
        {
          "output_type": "stream",
          "text": [
            "[7.15188618 7.16162652 7.14430182 ... 7.51442759 4.84259575 4.08091733]\n",
            "[-1.12530285 -1.12317019 -1.13384521 ... -1.18569173 -0.81517654\n",
            " -1.29774556]\n",
            "[ 7.22550039e-17 -1.74980803e-17 -1.62913161e-17 ...  3.25826322e-17\n",
            " -6.60703376e-17 -1.74980803e-17]\n",
            "[0.99456522 0.99456522 0.99456522 ... 0.99456522 0.99456522 0.99456522]\n"
          ],
          "name": "stdout"
        }
      ]
    },
    {
      "cell_type": "markdown",
      "metadata": {
        "id": "6KrBNiim4Lt3"
      },
      "source": [
        "#HNSC"
      ]
    },
    {
      "cell_type": "code",
      "metadata": {
        "colab": {
          "base_uri": "https://localhost:8080/"
        },
        "id": "ENFYVLt-4HeA",
        "outputId": "f6d5422d-de30-4a2b-d94d-cbf404b44b5c"
      },
      "source": [
        "filename='HNSC.csv'\n",
        "with open(filename,'rt') as raw_data:\n",
        "    data_HNSC=np.loadtxt(raw_data,delimiter=',')\n",
        "    print(data_HNSC.shape)"
      ],
      "execution_count": 33,
      "outputs": [
        {
          "output_type": "stream",
          "text": [
            "(484, 1049)\n"
          ],
          "name": "stdout"
        }
      ]
    },
    {
      "cell_type": "code",
      "metadata": {
        "colab": {
          "base_uri": "https://localhost:8080/"
        },
        "id": "Cwq7qJhi4Scl",
        "outputId": "37320b78-a374-4c76-fdf2-fac7b74ba8e1"
      },
      "source": [
        "censored_number_HNSC=0\n",
        "uncensored_number_HNSC=0\n",
        "for i in range(len(data_HNSC)):\n",
        "  if data_HNSC[i][1]==0:\n",
        "    censored_number_HNSC+=1\n",
        "uncensored_number_HNSC=len(data_HNSC)-censored_number_HNSC\n",
        "print(censored_number_HNSC)\n",
        "print(uncensored_number_HNSC)"
      ],
      "execution_count": 34,
      "outputs": [
        {
          "output_type": "stream",
          "text": [
            "281\n",
            "203\n"
          ],
          "name": "stdout"
        }
      ]
    },
    {
      "cell_type": "code",
      "metadata": {
        "colab": {
          "base_uri": "https://localhost:8080/"
        },
        "id": "34ZQKDMz4Utx",
        "outputId": "06ce7fbc-b9a1-4e47-b895-b954cfd5834d"
      },
      "source": [
        "survival_time_censored_HNSC=[]\n",
        "for i in range(len(data_HNSC)):\n",
        "  if data_HNSC[i][1]==0:\n",
        "    survival_time_censored_HNSC.append(data_HNSC[i][0])\n",
        "    survival_time_max_censored_HNSC = np.max(survival_time_censored_HNSC)\n",
        "    survival_time_min_censored_HNSC = np.min(survival_time_censored_HNSC)\n",
        "    survival_time_mean_censored_HNSC = np.mean(survival_time_censored_HNSC)\n",
        "print(survival_time_max_censored_HNSC)\n",
        "print(survival_time_min_censored_HNSC)\n",
        "print(survival_time_mean_censored_HNSC)"
      ],
      "execution_count": 35,
      "outputs": [
        {
          "output_type": "stream",
          "text": [
            "5480.0\n",
            "11.0\n",
            "1026.8540925266905\n"
          ],
          "name": "stdout"
        }
      ]
    },
    {
      "cell_type": "code",
      "metadata": {
        "colab": {
          "base_uri": "https://localhost:8080/"
        },
        "id": "s-IxrUSW4XYs",
        "outputId": "854c5014-c2a0-4094-ea6d-00e2ade4a5ae"
      },
      "source": [
        "survival_time_uncensored_HNSC=[]\n",
        "for i in range(len(data_HNSC)):\n",
        "  if data_HNSC[i][1]==1:\n",
        "    survival_time_uncensored_HNSC.append(data_HNSC[i][0])\n",
        "    survival_time_max_uncensored_HNSC = np.max(survival_time_uncensored_HNSC)\n",
        "    survival_time_min_uncensored_HNSC = np.min(survival_time_uncensored_HNSC)\n",
        "    survival_time_mean_uncensored_HNSC = np.mean(survival_time_uncensored_HNSC)\n",
        "print(survival_time_max_uncensored_HNSC)\n",
        "print(survival_time_min_uncensored_HNSC)\n",
        "print(survival_time_mean_uncensored_HNSC)"
      ],
      "execution_count": 36,
      "outputs": [
        {
          "output_type": "stream",
          "text": [
            "6417.0\n",
            "2.0\n",
            "745.1379310344828\n"
          ],
          "name": "stdout"
        }
      ]
    },
    {
      "cell_type": "code",
      "metadata": {
        "colab": {
          "base_uri": "https://localhost:8080/"
        },
        "id": "8a81qyUn4ZiE",
        "outputId": "ba79b607-5d65-4368-f959-8199056e3206"
      },
      "source": [
        "feature_max_HNSC = data_HNSC.max(axis=0)\n",
        "feature_max_HNSC = np.delete(feature_max_HNSC,[0,1,2])\n",
        "feature_min_HNSC = data_HNSC.min(axis=0)\n",
        "feature_min_HNSC = np.delete(feature_min_HNSC,[0,1,2])\n",
        "feature_mean_HNSC = data_HNSC.mean(axis=0)\n",
        "feature_mean_HNSC = np.delete(feature_mean_HNSC,[0,1,2])\n",
        "feature_var_HNSC = data_HNSC.var(axis=0)\n",
        "feature_var_HNSC = np.delete(feature_var_HNSC,[0,1,2])\n",
        "print(feature_max_HNSC)\n",
        "print(feature_min_HNSC)\n",
        "print(feature_mean_HNSC)\n",
        "print(feature_var_HNSC)"
      ],
      "execution_count": 37,
      "outputs": [
        {
          "output_type": "stream",
          "text": [
            "[5.05235943 5.06922995 5.09446551 ... 4.96310648 8.95656214 5.54232288]\n",
            "[-1.42244978 -1.42215569 -1.41941203 ... -1.56621479 -0.61340095\n",
            " -1.35108457]\n",
            "[ 4.76690542e-17 -2.51319856e-16 -1.76970468e-16 ...  1.15380616e-16\n",
            "  2.04152581e-17 -1.88095636e-16]\n",
            "[0.99793388 0.99793388 0.99793388 ... 0.99793388 0.99793388 0.99793388]\n"
          ],
          "name": "stdout"
        }
      ]
    },
    {
      "cell_type": "markdown",
      "metadata": {
        "id": "8wykhLgh5hw3"
      },
      "source": [
        "#KIRC"
      ]
    },
    {
      "cell_type": "code",
      "metadata": {
        "colab": {
          "base_uri": "https://localhost:8080/"
        },
        "id": "A0JYMH4b5f4n",
        "outputId": "842a7263-1dbc-4383-f667-299f04c471fd"
      },
      "source": [
        "filename='KIRC.csv'\n",
        "with open(filename,'rt') as raw_data:\n",
        "    data_KIRC=np.loadtxt(raw_data,delimiter=',')\n",
        "    print(data_KIRC.shape)"
      ],
      "execution_count": 38,
      "outputs": [
        {
          "output_type": "stream",
          "text": [
            "(254, 1049)\n"
          ],
          "name": "stdout"
        }
      ]
    },
    {
      "cell_type": "code",
      "metadata": {
        "colab": {
          "base_uri": "https://localhost:8080/"
        },
        "id": "3ht7pChx5oxy",
        "outputId": "4710525c-2e1d-4691-c7db-9d7cce531c8d"
      },
      "source": [
        "censored_number_KIRC=0\n",
        "uncensored_number_KIRC=0\n",
        "for i in range(len(data_KIRC)):\n",
        "  if data_KIRC[i][1]==0:\n",
        "    censored_number_KIRC+=1\n",
        "uncensored_number_KIRC=len(data_KIRC)-censored_number_KIRC\n",
        "print(censored_number_KIRC)\n",
        "print(uncensored_number_KIRC)"
      ],
      "execution_count": 39,
      "outputs": [
        {
          "output_type": "stream",
          "text": [
            "178\n",
            "76\n"
          ],
          "name": "stdout"
        }
      ]
    },
    {
      "cell_type": "code",
      "metadata": {
        "colab": {
          "base_uri": "https://localhost:8080/"
        },
        "id": "QSSl4yVY5q7i",
        "outputId": "79def64c-42a6-4606-d00a-9b863276393f"
      },
      "source": [
        "survival_time_censored_KIRC=[]\n",
        "for i in range(len(data_KIRC)):\n",
        "  if data_KIRC[i][1]==0:\n",
        "    survival_time_censored_KIRC.append(data_KIRC[i][0])\n",
        "    survival_time_max_censored_KIRC = np.max(survival_time_censored_KIRC)\n",
        "    survival_time_min_censored_KIRC = np.min(survival_time_censored_KIRC)\n",
        "    survival_time_mean_censored_KIRC = np.mean(survival_time_censored_KIRC)\n",
        "print(survival_time_max_censored_KIRC)\n",
        "print(survival_time_min_censored_KIRC)\n",
        "print(survival_time_mean_censored_KIRC)"
      ],
      "execution_count": 40,
      "outputs": [
        {
          "output_type": "stream",
          "text": [
            "4537.0\n",
            "0.0\n",
            "1506.4494382022472\n"
          ],
          "name": "stdout"
        }
      ]
    },
    {
      "cell_type": "code",
      "metadata": {
        "colab": {
          "base_uri": "https://localhost:8080/"
        },
        "id": "dC0sC86E5s9a",
        "outputId": "fd47439f-7a4a-4f8f-d8f8-d7d695d65671"
      },
      "source": [
        "survival_time_uncensored_KIRC=[]\n",
        "for i in range(len(data_KIRC)):\n",
        "  if data_KIRC[i][1]==1:\n",
        "    survival_time_uncensored_KIRC.append(data_KIRC[i][0])\n",
        "    survival_time_max_uncensored_KIRC = np.max(survival_time_uncensored_KIRC)\n",
        "    survival_time_min_uncensored_KIRC = np.min(survival_time_uncensored_KIRC)\n",
        "    survival_time_mean_uncensored_KIRC = np.mean(survival_time_uncensored_KIRC)\n",
        "print(survival_time_max_uncensored_KIRC)\n",
        "print(survival_time_min_uncensored_KIRC)\n",
        "print(survival_time_mean_uncensored_KIRC)"
      ],
      "execution_count": 41,
      "outputs": [
        {
          "output_type": "stream",
          "text": [
            "3615.0\n",
            "41.0\n",
            "1060.8815789473683\n"
          ],
          "name": "stdout"
        }
      ]
    },
    {
      "cell_type": "code",
      "metadata": {
        "colab": {
          "base_uri": "https://localhost:8080/"
        },
        "id": "pcM__-_Z5u84",
        "outputId": "ac0afcfe-ac7c-4336-b0d1-6493f7c80321"
      },
      "source": [
        "feature_max_KIRC = data_KIRC.max(axis=0)\n",
        "feature_max_KIRC = np.delete(feature_max_KIRC,[0,1,2])\n",
        "feature_min_KIRC = data_KIRC.min(axis=0)\n",
        "feature_min_KIRC = np.delete(feature_min_KIRC,[0,1,2])\n",
        "feature_mean_KIRC = data_KIRC.mean(axis=0)\n",
        "feature_mean_KIRC = np.delete(feature_mean_KIRC,[0,1,2])\n",
        "feature_var_KIRC = data_KIRC.var(axis=0)\n",
        "feature_var_KIRC = np.delete(feature_var_KIRC,[0,1,2])\n",
        "print(feature_max_KIRC)\n",
        "print(feature_min_KIRC)\n",
        "print(feature_mean_KIRC)\n",
        "print(feature_var_KIRC)"
      ],
      "execution_count": 42,
      "outputs": [
        {
          "output_type": "stream",
          "text": [
            "[6.01988927 6.0300912  6.01031853 ... 5.4275262  4.95991926 4.34501329]\n",
            "[-1.04309332 -1.04362874 -1.03942625 ... -1.13316815 -1.04078963\n",
            " -1.60923077]\n",
            "[-4.23982809e-17 -1.13644877e-17  1.63910880e-16 ...  1.29380321e-16\n",
            "  2.08494639e-16 -4.58950463e-17]\n",
            "[0.99606299 0.99606299 0.99606299 ... 0.99606299 0.99606299 0.99606299]\n"
          ],
          "name": "stdout"
        }
      ]
    },
    {
      "cell_type": "markdown",
      "metadata": {
        "id": "eb-YzlZM6pOy"
      },
      "source": [
        "#KIRP"
      ]
    },
    {
      "cell_type": "code",
      "metadata": {
        "colab": {
          "base_uri": "https://localhost:8080/"
        },
        "id": "D5aSvD4u6mKZ",
        "outputId": "e1849a7a-5596-473f-ce80-1109e7253308"
      },
      "source": [
        "filename='KIRP.csv'\n",
        "with open(filename,'rt') as raw_data:\n",
        "    data_KIRP=np.loadtxt(raw_data,delimiter=',')\n",
        "    print(data_KIRP.shape)"
      ],
      "execution_count": 43,
      "outputs": [
        {
          "output_type": "stream",
          "text": [
            "(290, 1049)\n"
          ],
          "name": "stdout"
        }
      ]
    },
    {
      "cell_type": "code",
      "metadata": {
        "colab": {
          "base_uri": "https://localhost:8080/"
        },
        "id": "LjC7NPpI6vC_",
        "outputId": "909a0a68-cda9-4fba-a7eb-179bc6871b29"
      },
      "source": [
        "censored_number_KIRP=0\n",
        "uncensored_number_KIRP=0\n",
        "for i in range(len(data_KIRP)):\n",
        "  if data_KIRP[i][1]==0:\n",
        "    censored_number_KIRP+=1\n",
        "uncensored_number_KIRP=len(data_KIRP)-censored_number_KIRP\n",
        "print(censored_number_KIRP)\n",
        "print(uncensored_number_KIRP)"
      ],
      "execution_count": 44,
      "outputs": [
        {
          "output_type": "stream",
          "text": [
            "246\n",
            "44\n"
          ],
          "name": "stdout"
        }
      ]
    },
    {
      "cell_type": "code",
      "metadata": {
        "colab": {
          "base_uri": "https://localhost:8080/"
        },
        "id": "lgDyE_bt6xO4",
        "outputId": "677a688c-a1d2-4898-a2eb-34ac30b1d668"
      },
      "source": [
        "survival_time_censored_KIRP=[]\n",
        "for i in range(len(data_KIRP)):\n",
        "  if data_KIRP[i][1]==0:\n",
        "    survival_time_censored_KIRP.append(data_KIRP[i][0])\n",
        "    survival_time_max_censored_KIRP = np.max(survival_time_censored_KIRP)\n",
        "    survival_time_min_censored_KIRP = np.min(survival_time_censored_KIRP)\n",
        "    survival_time_mean_censored_KIRP = np.mean(survival_time_censored_KIRP)\n",
        "print(survival_time_max_censored_KIRP)\n",
        "print(survival_time_min_censored_KIRP)\n",
        "print(survival_time_mean_censored_KIRP)"
      ],
      "execution_count": 45,
      "outputs": [
        {
          "output_type": "stream",
          "text": [
            "5925.0\n",
            "0.0\n",
            "1070.219512195122\n"
          ],
          "name": "stdout"
        }
      ]
    },
    {
      "cell_type": "code",
      "metadata": {
        "colab": {
          "base_uri": "https://localhost:8080/"
        },
        "id": "2yAiWV7-6zaN",
        "outputId": "f0d62e2b-d530-4900-ed06-ec885553b60d"
      },
      "source": [
        "survival_time_uncensored_KIRP=[]\n",
        "for i in range(len(data_KIRP)):\n",
        "  if data_KIRP[i][1]==1:\n",
        "    survival_time_uncensored_KIRP.append(data_KIRP[i][0])\n",
        "    survival_time_max_uncensored_KIRP = np.max(survival_time_uncensored_KIRP)\n",
        "    survival_time_min_uncensored_KIRP = np.min(survival_time_uncensored_KIRP)\n",
        "    survival_time_mean_uncensored_KIRP = np.mean(survival_time_uncensored_KIRP)\n",
        "print(survival_time_max_uncensored_KIRP)\n",
        "print(survival_time_min_uncensored_KIRP)\n",
        "print(survival_time_mean_uncensored_KIRP)"
      ],
      "execution_count": 46,
      "outputs": [
        {
          "output_type": "stream",
          "text": [
            "2941.0\n",
            "122.0\n",
            "989.7954545454545\n"
          ],
          "name": "stdout"
        }
      ]
    },
    {
      "cell_type": "code",
      "metadata": {
        "colab": {
          "base_uri": "https://localhost:8080/"
        },
        "id": "rkdYpm1O61cc",
        "outputId": "b9116eb1-91ff-40ed-8176-ed66674b0917"
      },
      "source": [
        "feature_max_KIRP = data_KIRP.max(axis=0)\n",
        "feature_max_KIRP = np.delete(feature_max_KIRP,[0,1,2])\n",
        "feature_min_KIRP = data_KIRP.min(axis=0)\n",
        "feature_min_KIRP = np.delete(feature_min_KIRP,[0,1,2])\n",
        "feature_mean_KIRP = data_KIRP.mean(axis=0)\n",
        "feature_mean_KIRP = np.delete(feature_mean_KIRP,[0,1,2])\n",
        "feature_var_KIRP = data_KIRP.var(axis=0)\n",
        "feature_var_KIRP = np.delete(feature_var_KIRP,[0,1,2])\n",
        "print(feature_max_KIRP)\n",
        "print(feature_min_KIRP)\n",
        "print(feature_mean_KIRP)\n",
        "print(feature_var_KIRP)"
      ],
      "execution_count": 47,
      "outputs": [
        {
          "output_type": "stream",
          "text": [
            "[5.28393319 5.26750174 5.26250401 ... 7.58205478 5.7466898  6.81122563]\n",
            "[-1.32010082 -1.32444252 -1.32118953 ... -1.44720659 -1.09106402\n",
            " -1.28351906]\n",
            "[-1.14946367e-16 -2.22523149e-17  3.16796398e-17 ...  1.01834250e-16\n",
            " -5.58939868e-17  6.42206594e-17]\n",
            "[0.99655172 0.99655172 0.99655172 ... 0.99655172 0.99655172 0.99655172]\n"
          ],
          "name": "stdout"
        }
      ]
    },
    {
      "cell_type": "markdown",
      "metadata": {
        "id": "9xvhRLS07lMs"
      },
      "source": [
        "#LGG"
      ]
    },
    {
      "cell_type": "code",
      "metadata": {
        "colab": {
          "base_uri": "https://localhost:8080/"
        },
        "id": "-TmqR01L7jeq",
        "outputId": "50f195ae-6120-4396-edaa-8c468015b63e"
      },
      "source": [
        "filename='LGG.csv'\n",
        "with open(filename,'rt') as raw_data:\n",
        "    data_LGG=np.loadtxt(raw_data,delimiter=',')\n",
        "    print(data_LGG.shape)"
      ],
      "execution_count": 48,
      "outputs": [
        {
          "output_type": "stream",
          "text": [
            "(510, 1049)\n"
          ],
          "name": "stdout"
        }
      ]
    },
    {
      "cell_type": "code",
      "metadata": {
        "colab": {
          "base_uri": "https://localhost:8080/"
        },
        "id": "DT_kEnYM7t51",
        "outputId": "38b9508c-03da-460c-c913-2eebbf642888"
      },
      "source": [
        "censored_number_LGG=0\n",
        "uncensored_number_LGG=0\n",
        "for i in range(len(data_LGG)):\n",
        "  if data_LGG[i][1]==0:\n",
        "    censored_number_LGG+=1\n",
        "uncensored_number_LGG=len(data_LGG)-censored_number_LGG\n",
        "print(censored_number_LGG)\n",
        "print(uncensored_number_LGG)"
      ],
      "execution_count": 49,
      "outputs": [
        {
          "output_type": "stream",
          "text": [
            "386\n",
            "124\n"
          ],
          "name": "stdout"
        }
      ]
    },
    {
      "cell_type": "code",
      "metadata": {
        "colab": {
          "base_uri": "https://localhost:8080/"
        },
        "id": "j2bKUxTi7vzK",
        "outputId": "94d2b1a6-525f-48f1-9fd6-591cd97d2a9b"
      },
      "source": [
        "survival_time_censored_LGG=[]\n",
        "for i in range(len(data_LGG)):\n",
        "  if data_LGG[i][1]==0:\n",
        "    survival_time_censored_LGG.append(data_LGG[i][0])\n",
        "    survival_time_max_censored_LGG = np.max(survival_time_censored_LGG)\n",
        "    survival_time_min_censored_LGG = np.min(survival_time_censored_LGG)\n",
        "    survival_time_mean_censored_LGG = np.mean(survival_time_censored_LGG)\n",
        "print(survival_time_max_censored_LGG)\n",
        "print(survival_time_min_censored_LGG)\n",
        "print(survival_time_mean_censored_LGG)"
      ],
      "execution_count": 50,
      "outputs": [
        {
          "output_type": "stream",
          "text": [
            "6423.0\n",
            "-1.0\n",
            "883.6683937823834\n"
          ],
          "name": "stdout"
        }
      ]
    },
    {
      "cell_type": "code",
      "metadata": {
        "colab": {
          "base_uri": "https://localhost:8080/"
        },
        "id": "77Vcg7KM7yJ1",
        "outputId": "cd1eb0c9-096f-47a2-84f9-35a148fe828d"
      },
      "source": [
        "survival_time_uncensored_LGG=[]\n",
        "for i in range(len(data_LGG)):\n",
        "  if data_LGG[i][1]==1:\n",
        "    survival_time_uncensored_LGG.append(data_LGG[i][0])\n",
        "    survival_time_max_uncensored_LGG = np.max(survival_time_uncensored_LGG)\n",
        "    survival_time_min_uncensored_LGG = np.min(survival_time_uncensored_LGG)\n",
        "    survival_time_mean_uncensored_LGG = np.mean(survival_time_uncensored_LGG)\n",
        "print(survival_time_max_uncensored_LGG)\n",
        "print(survival_time_min_uncensored_LGG)\n",
        "print(survival_time_mean_uncensored_LGG)"
      ],
      "execution_count": 51,
      "outputs": [
        {
          "output_type": "stream",
          "text": [
            "5166.0\n",
            "7.0\n",
            "1203.032258064516\n"
          ],
          "name": "stdout"
        }
      ]
    },
    {
      "cell_type": "code",
      "metadata": {
        "colab": {
          "base_uri": "https://localhost:8080/"
        },
        "id": "jmb-LIh0708-",
        "outputId": "357ad3c5-0907-4c28-826c-223545bfeb94"
      },
      "source": [
        "feature_max_LGG = data_LGG.max(axis=0)\n",
        "feature_max_LGG = np.delete(feature_max_LGG,[0,1,2])\n",
        "feature_min_LGG = data_LGG.min(axis=0)\n",
        "feature_min_LGG = np.delete(feature_min_LGG,[0,1,2])\n",
        "feature_mean_LGG = data_LGG.mean(axis=0)\n",
        "feature_mean_LGG = np.delete(feature_mean_LGG,[0,1,2])\n",
        "feature_var_LGG = data_LGG.var(axis=0)\n",
        "feature_var_LGG = np.delete(feature_var_LGG,[0,1,2])\n",
        "print(feature_max_LGG)\n",
        "print(feature_min_LGG)\n",
        "print(feature_mean_LGG)\n",
        "print(feature_var_LGG)"
      ],
      "execution_count": 52,
      "outputs": [
        {
          "output_type": "stream",
          "text": [
            "[ 6.18846115  6.19305242  6.18723731 ... 13.70506079  6.70257918\n",
            " 10.32460633]\n",
            "[-1.49904492 -1.49944914 -1.50027446 ... -1.22024709 -1.24393536\n",
            " -1.28101434]\n",
            "[ 1.38777878e-16 -1.29308329e-16  1.91567894e-17 ...  9.20832038e-17\n",
            " -1.00355454e-16  2.43813684e-17]\n",
            "[0.99803922 0.99803922 0.99803922 ... 0.99803922 0.99803922 0.99803922]\n"
          ],
          "name": "stdout"
        }
      ]
    },
    {
      "cell_type": "markdown",
      "metadata": {
        "id": "J0rmLUfY_fkp"
      },
      "source": [
        "#LIHC"
      ]
    },
    {
      "cell_type": "code",
      "metadata": {
        "colab": {
          "base_uri": "https://localhost:8080/"
        },
        "id": "YfXZh0li8tzz",
        "outputId": "a90d82e4-07ab-4dd2-dfd3-3d5f3998472e"
      },
      "source": [
        "censored_number_LIHC, uncensored_number_LIHC, survival_time_max_censored_LIHC, survival_time_min_censored_LIHC, survival_time_mean_censored_LIHC, survival_time_max_uncensored_LIHC, survival_time_min_uncensored_LIHC, survival_time_mean_uncensored_LIHC, feature_max_LIHC, feature_min_LIHC, feature_mean_LIHC, feature_var_LIHC= Summary('LIHC.csv')\n",
        "print(\"censored_number_LIHC:  {}\".format(censored_number_LIHC))\n",
        "print(\"uncensored_number_LIHC:  {}\".format(uncensored_number_LIHC))\n",
        "print(\"survival_time_max_censored_LIHC:  {}\".format(survival_time_max_censored_LIHC))\n",
        "print(\"survival_time_min_censored_LIHC:  {}\".format(survival_time_min_censored_LIHC))\n",
        "print(\"survival_time_mean_censored_LIHC:  {}\".format(survival_time_mean_censored_LIHC))\n",
        "print(\"survival_time_max_uncensored_LIHC:  {}\".format(survival_time_max_uncensored_LIHC))\n",
        "print(\"survival_time_min_uncensored_LIHC:  {}\".format(survival_time_min_uncensored_LIHC))\n",
        "print(\"survival_time_mean_uncensored_LIHC:  {}\".format(survival_time_mean_uncensored_LIHC))\n",
        "print(\"feature_max_LIHC:  {}\".format(feature_max_LIHC))\n",
        "print(\"feature_min_LIHC:  {}\".format(feature_min_LIHC))\n",
        "print(\"feature_mean_LIHC:  {}\".format(feature_mean_LIHC))\n",
        "print(\"feature_var_LIHC:  {}\".format(feature_var_LIHC))"
      ],
      "execution_count": 53,
      "outputs": [
        {
          "output_type": "stream",
          "text": [
            "censored_number_LIHC:  243\n",
            "uncensored_number_LIHC:  128\n",
            "survival_time_max_censored_LIHC:  3675.0\n",
            "survival_time_min_censored_LIHC:  0.0\n",
            "survival_time_mean_censored_LIHC:  885.6502057613169\n",
            "survival_time_max_uncensored_LIHC:  3258.0\n",
            "survival_time_min_uncensored_LIHC:  9.0\n",
            "survival_time_mean_uncensored_LIHC:  657.7578125\n",
            "feature_max_LIHC:  [5.48161941 5.43072416 5.44712856 ... 4.93609818 5.56323586 8.17100446]\n",
            "feature_min_LIHC:  [-1.30207628 -1.3016049  -1.30263069 ... -1.15055065 -1.02804219\n",
            " -0.73553269]\n",
            "feature_mean_LIHC:  [ 3.47131727e-17  8.67829318e-18  1.49027242e-16 ...  1.49476119e-16\n",
            " -4.48877234e-17 -1.53216762e-16]\n",
            "feature_var_LIHC:  [0.99730458 0.99730458 0.99730458 ... 0.99730458 0.99730458 0.99730458]\n"
          ],
          "name": "stdout"
        }
      ]
    },
    {
      "cell_type": "markdown",
      "metadata": {
        "id": "VyJJ-MK1Cwtp"
      },
      "source": [
        "#LUAD"
      ]
    },
    {
      "cell_type": "code",
      "metadata": {
        "colab": {
          "base_uri": "https://localhost:8080/"
        },
        "id": "neY94DanADNp",
        "outputId": "07e9b4af-ca1a-4006-919e-5d49d45b48ca"
      },
      "source": [
        "censored_number_LUAD, uncensored_number_LUAD, survival_time_max_censored_LUAD, survival_time_min_censored_LUAD, survival_time_mean_censored_LUAD, survival_time_max_uncensored_LUAD, survival_time_min_uncensored_LUAD, survival_time_mean_uncensored_LUAD, feature_max_LUAD, feature_min_LUAD, feature_mean_LUAD, feature_var_LUAD= Summary('LUAD.csv')\n",
        "print(\"censored_number_LUAD:  {}\".format(censored_number_LUAD))\n",
        "print(\"uncensored_number_LUAD:  {}\".format(uncensored_number_LUAD))\n",
        "print(\"survival_time_max_censored_LUAD:  {}\".format(survival_time_max_censored_LUAD))\n",
        "print(\"survival_time_min_censored_LUAD:  {}\".format(survival_time_min_censored_LUAD))\n",
        "print(\"survival_time_mean_censored_LUAD:  {}\".format(survival_time_mean_censored_LUAD))\n",
        "print(\"survival_time_max_uncensored_LUAD:  {}\".format(survival_time_max_uncensored_LUAD))\n",
        "print(\"survival_time_min_uncensored_LUAD:  {}\".format(survival_time_min_uncensored_LUAD))\n",
        "print(\"survival_time_mean_uncensored_LUAD:  {}\".format(survival_time_mean_uncensored_LUAD))\n",
        "print(\"feature_max_LUAD:  {}\".format(feature_max_LUAD))\n",
        "print(\"feature_min_LUAD:  {}\".format(feature_min_LUAD))\n",
        "print(\"feature_mean_LUAD:  {}\".format(feature_mean_LUAD))\n",
        "print(\"feature_var_LUAD:  {}\".format(feature_var_LUAD))"
      ],
      "execution_count": 54,
      "outputs": [
        {
          "output_type": "stream",
          "text": [
            "censored_number_LUAD:  284\n",
            "uncensored_number_LUAD:  157\n",
            "survival_time_max_censored_LUAD:  7248.0\n",
            "survival_time_min_censored_LUAD:  0.0\n",
            "survival_time_mean_censored_LUAD:  951.887323943662\n",
            "survival_time_max_uncensored_LUAD:  4961.0\n",
            "survival_time_min_uncensored_LUAD:  4.0\n",
            "survival_time_mean_uncensored_LUAD:  802.4585987261147\n",
            "feature_max_LUAD:  [ 4.55871068  4.55930303  4.52204212 ...  8.00093944 11.50451896\n",
            " 17.88838622]\n",
            "feature_min_LUAD:  [-1.30652267 -1.30539246 -1.30585642 ... -1.06853339 -0.92802706\n",
            " -0.6217144 ]\n",
            "feature_mean_LUAD:  [-1.12281059e-16 -9.28962123e-17 -9.88123667e-17 ...  1.59358543e-16\n",
            " -5.03502505e-19  1.45763975e-16]\n",
            "feature_var_LUAD:  [0.99773243 0.99773243 0.99773243 ... 0.99773243 0.99773243 0.99773243]\n"
          ],
          "name": "stdout"
        }
      ]
    },
    {
      "cell_type": "markdown",
      "metadata": {
        "id": "aqb9fvkVDff4"
      },
      "source": [
        "#LUSC"
      ]
    },
    {
      "cell_type": "code",
      "metadata": {
        "colab": {
          "base_uri": "https://localhost:8080/"
        },
        "id": "5hqF-gJUDYLo",
        "outputId": "14a51007-ca1e-4785-a974-42a4f14c1be3"
      },
      "source": [
        "censored_number_LUSC, uncensored_number_LUSC, survival_time_max_censored_LUSC, survival_time_min_censored_LUSC, survival_time_mean_censored_LUSC, survival_time_max_uncensored_LUSC, survival_time_min_uncensored_LUSC, survival_time_mean_uncensored_LUSC, feature_max_LUSC, feature_min_LUSC, feature_mean_LUSC, feature_var_LUSC= Summary('LUSC.csv')\n",
        "print(\"censored_number_LUSC:  {}\".format(censored_number_LUSC))\n",
        "print(\"uncensored_number_LUSC:  {}\".format(uncensored_number_LUSC))\n",
        "print(\"survival_time_max_censored_LUSC:  {}\".format(survival_time_max_censored_LUSC))\n",
        "print(\"survival_time_min_censored_LUSC:  {}\".format(survival_time_min_censored_LUSC))\n",
        "print(\"survival_time_mean_censored_LUSC:  {}\".format(survival_time_mean_censored_LUSC))\n",
        "print(\"survival_time_max_uncensored_LUSC:  {}\".format(survival_time_max_uncensored_LUSC))\n",
        "print(\"survival_time_min_uncensored_LUSC:  {}\".format(survival_time_min_uncensored_LUSC))\n",
        "print(\"survival_time_mean_uncensored_LUSC:  {}\".format(survival_time_mean_uncensored_LUSC))\n",
        "print(\"feature_max_LUSC:  {}\".format(feature_max_LUSC))\n",
        "print(\"feature_min_LUSC:  {}\".format(feature_min_LUSC))\n",
        "print(\"feature_mean_LUSC:  {}\".format(feature_mean_LUSC))\n",
        "print(\"feature_var_LUSC:  {}\".format(feature_var_LUSC))"
      ],
      "execution_count": 55,
      "outputs": [
        {
          "output_type": "stream",
          "text": [
            "censored_number_LUSC:  201\n",
            "uncensored_number_LUSC:  137\n",
            "survival_time_max_censored_LUSC:  4765.0\n",
            "survival_time_min_censored_LUSC:  0.0\n",
            "survival_time_mean_censored_LUSC:  979.2139303482587\n",
            "survival_time_max_uncensored_LUSC:  3838.0\n",
            "survival_time_min_uncensored_LUSC:  1.0\n",
            "survival_time_mean_uncensored_LUSC:  857.5182481751825\n",
            "feature_max_LUSC:  [6.86159568 6.8453267  6.83671938 ... 4.84145248 6.50178794 6.10448185]\n",
            "feature_min_LUSC:  [-1.54151947 -1.54058902 -1.5360801  ... -1.5146679  -0.91822109\n",
            " -1.24364101]\n",
            "feature_mean_LUSC:  [-1.37792473e-16 -2.56205313e-17 -9.41061824e-17 ... -2.77555756e-17\n",
            "  8.91791572e-17 -1.18494957e-16]\n",
            "feature_var_LUSC:  [0.99704142 0.99704142 0.99704142 ... 0.99704142 0.99704142 0.99704142]\n"
          ],
          "name": "stdout"
        }
      ]
    },
    {
      "cell_type": "markdown",
      "metadata": {
        "id": "WJ7Pk2rTEN4f"
      },
      "source": [
        "#MESD"
      ]
    },
    {
      "cell_type": "code",
      "metadata": {
        "colab": {
          "base_uri": "https://localhost:8080/"
        },
        "id": "-4PkbyIKECjs",
        "outputId": "5439bfee-3563-4c59-9413-cc6b0a4ff823"
      },
      "source": [
        "censored_number_MESO, uncensored_number_MESO, survival_time_max_censored_MESO, survival_time_min_censored_MESO, survival_time_mean_censored_MESO, survival_time_max_uncensored_MESO, survival_time_min_uncensored_MESO, survival_time_mean_uncensored_MESO, feature_max_MESO, feature_min_MESO, feature_mean_MESO, feature_var_MESO= Summary('MESO.csv')\n",
        "print(\"censored_number_MESO:  {}\".format(censored_number_MESO))\n",
        "print(\"uncensored_number_MESO:  {}\".format(uncensored_number_MESO))\n",
        "print(\"survival_time_max_censored_MESO:  {}\".format(survival_time_max_censored_MESO))\n",
        "print(\"survival_time_min_censored_MESO:  {}\".format(survival_time_min_censored_MESO))\n",
        "print(\"survival_time_mean_censored_MESO:  {}\".format(survival_time_mean_censored_MESO))\n",
        "print(\"survival_time_max_uncensored_MESO:  {}\".format(survival_time_max_uncensored_MESO))\n",
        "print(\"survival_time_min_uncensored_MESO:  {}\".format(survival_time_min_uncensored_MESO))\n",
        "print(\"survival_time_mean_uncensored_MESO:  {}\".format(survival_time_mean_uncensored_MESO))\n",
        "print(\"feature_max_MESO:  {}\".format(feature_max_MESO))\n",
        "print(\"feature_min_MESO:  {}\".format(feature_min_MESO))\n",
        "print(\"feature_mean_MESO:  {}\".format(feature_mean_MESO))\n",
        "print(\"feature_var_MESO:  {}\".format(feature_var_MESO))"
      ],
      "execution_count": 56,
      "outputs": [
        {
          "output_type": "stream",
          "text": [
            "censored_number_MESO:  13\n",
            "uncensored_number_MESO:  73\n",
            "survival_time_max_censored_MESO:  2359.0\n",
            "survival_time_min_censored_MESO:  -8.0\n",
            "survival_time_mean_censored_MESO:  1090.8461538461538\n",
            "survival_time_max_uncensored_MESO:  2790.0\n",
            "survival_time_min_uncensored_MESO:  20.0\n",
            "survival_time_mean_uncensored_MESO:  584.1369863013699\n",
            "feature_max_MESO:  [4.06564213 4.07828629 4.07880926 ... 3.94646776 5.7588754  5.99988276]\n",
            "feature_min_MESO:  [-1.0934616  -1.09539816 -1.08835355 ... -1.29256566 -0.94250958\n",
            " -1.18476738]\n",
            "feature_mean_MESO:  [-2.45281831e-17  2.98856547e-16  2.13007906e-16 ...  3.46621956e-16\n",
            " -8.26212483e-17  2.01389293e-16]\n",
            "feature_var_MESO:  [0.98837209 0.98837209 0.98837209 ... 0.98837209 0.98837209 0.98837209]\n"
          ],
          "name": "stdout"
        }
      ]
    },
    {
      "cell_type": "markdown",
      "metadata": {
        "id": "99KFxQ_PFhxv"
      },
      "source": [
        "#PAAD"
      ]
    },
    {
      "cell_type": "code",
      "metadata": {
        "colab": {
          "base_uri": "https://localhost:8080/"
        },
        "id": "Clcz3i3wE8yI",
        "outputId": "ae7077ee-2523-4069-da98-0ebbf054c6d0"
      },
      "source": [
        "censored_number_PAAD, uncensored_number_PAAD, survival_time_max_censored_PAAD, survival_time_min_censored_PAAD, survival_time_mean_censored_PAAD, survival_time_max_uncensored_PAAD, survival_time_min_uncensored_PAAD, survival_time_mean_uncensored_PAAD, feature_max_PAAD, feature_min_PAAD, feature_mean_PAAD, feature_var_PAAD= Summary('PAAD.csv')\n",
        "print(\"censored_number_PAAD:  {}\".format(censored_number_PAAD))\n",
        "print(\"uncensored_number_PAAD:  {}\".format(uncensored_number_PAAD))\n",
        "print(\"survival_time_max_censored_PAAD:  {}\".format(survival_time_max_censored_PAAD))\n",
        "print(\"survival_time_min_censored_PAAD:  {}\".format(survival_time_min_censored_PAAD))\n",
        "print(\"survival_time_mean_censored_PAAD:  {}\".format(survival_time_mean_censored_PAAD))\n",
        "print(\"survival_time_max_uncensored_PAAD:  {}\".format(survival_time_max_uncensored_PAAD))\n",
        "print(\"survival_time_min_uncensored_PAAD:  {}\".format(survival_time_min_uncensored_PAAD))\n",
        "print(\"survival_time_mean_uncensored_PAAD:  {}\".format(survival_time_mean_uncensored_PAAD))\n",
        "print(\"feature_max_PAAD:  {}\".format(feature_max_PAAD))\n",
        "print(\"feature_min_PAAD:  {}\".format(feature_min_PAAD))\n",
        "print(\"feature_mean_PAAD:  {}\".format(feature_mean_PAAD))\n",
        "print(\"feature_var_PAAD:  {}\".format(feature_var_PAAD))"
      ],
      "execution_count": 57,
      "outputs": [
        {
          "output_type": "stream",
          "text": [
            "censored_number_PAAD:  85\n",
            "uncensored_number_PAAD:  93\n",
            "survival_time_max_censored_PAAD:  2741.0\n",
            "survival_time_min_censored_PAAD:  0.0\n",
            "survival_time_mean_censored_PAAD:  692.3882352941176\n",
            "survival_time_max_uncensored_PAAD:  2182.0\n",
            "survival_time_min_uncensored_PAAD:  12.0\n",
            "survival_time_mean_uncensored_PAAD:  454.3333333333333\n",
            "feature_max_PAAD:  [5.88873584 5.88288515 5.90330211 ... 5.91481374 6.26651845 5.41149898]\n",
            "feature_min_PAAD:  [-1.21320098 -1.21597158 -1.20911881 ... -1.16950209 -0.9525873\n",
            " -1.44096912]\n",
            "feature_mean_PAAD:  [ 2.18302280e-17 -7.67176584e-17  1.91482286e-16 ... -1.15388348e-16\n",
            " -2.12065072e-17 -1.33476251e-16]\n",
            "feature_var_PAAD:  [0.99438202 0.99438202 0.99438202 ... 0.99438202 0.99438202 0.99438202]\n"
          ],
          "name": "stdout"
        }
      ]
    },
    {
      "cell_type": "markdown",
      "metadata": {
        "id": "VRgKPcqHGQtZ"
      },
      "source": [
        "#SARC"
      ]
    },
    {
      "cell_type": "code",
      "metadata": {
        "colab": {
          "base_uri": "https://localhost:8080/"
        },
        "id": "jig7Az-JGNOY",
        "outputId": "c0f8b83a-b11c-4665-f8b2-64c9414c79d6"
      },
      "source": [
        "censored_number_SARC, uncensored_number_SARC, survival_time_max_censored_SARC, survival_time_min_censored_SARC, survival_time_mean_censored_SARC, survival_time_max_uncensored_SARC, survival_time_min_uncensored_SARC, survival_time_mean_uncensored_SARC, feature_max_SARC, feature_min_SARC, feature_mean_SARC, feature_var_SARC= Summary('SARC.csv')\n",
        "print(\"censored_number_SARC:  {}\".format(censored_number_SARC))\n",
        "print(\"uncensored_number_SARC:  {}\".format(uncensored_number_SARC))\n",
        "print(\"survival_time_max_censored_SARC:  {}\".format(survival_time_max_censored_SARC))\n",
        "print(\"survival_time_min_censored_SARC:  {}\".format(survival_time_min_censored_SARC))\n",
        "print(\"survival_time_mean_censored_SARC:  {}\".format(survival_time_mean_censored_SARC))\n",
        "print(\"survival_time_max_uncensored_SARC:  {}\".format(survival_time_max_uncensored_SARC))\n",
        "print(\"survival_time_min_uncensored_SARC:  {}\".format(survival_time_min_uncensored_SARC))\n",
        "print(\"survival_time_mean_uncensored_SARC:  {}\".format(survival_time_mean_uncensored_SARC))\n",
        "print(\"feature_max_SARC:  {}\".format(feature_max_SARC))\n",
        "print(\"feature_min_SARC:  {}\".format(feature_min_SARC))\n",
        "print(\"feature_mean_SARC:  {}\".format(feature_mean_SARC))\n",
        "print(\"feature_var_SARC:  {}\".format(feature_var_SARC))"
      ],
      "execution_count": 58,
      "outputs": [
        {
          "output_type": "stream",
          "text": [
            "censored_number_SARC:  161\n",
            "uncensored_number_SARC:  98\n",
            "survival_time_max_censored_SARC:  5723.0\n",
            "survival_time_min_censored_SARC:  15.0\n",
            "survival_time_mean_censored_SARC:  1389.9006211180124\n",
            "survival_time_max_uncensored_SARC:  2694.0\n",
            "survival_time_min_uncensored_SARC:  17.0\n",
            "survival_time_mean_uncensored_SARC:  866.0102040816327\n",
            "feature_max_SARC:  [ 4.9146738   4.88529377  4.88409344 ...  6.55645764  6.15118636\n",
            " 10.64997681]\n",
            "feature_min_SARC:  [-1.21521873 -1.21821109 -1.2162383  ... -1.15024919 -0.67441688\n",
            " -0.88607958]\n",
            "feature_mean_SARC:  [ 1.55388358e-16 -1.14022905e-16 -1.67390769e-16 ... -9.05539050e-17\n",
            " -7.54437268e-17 -9.68766037e-17]\n",
            "feature_var_SARC:  [0.996139 0.996139 0.996139 ... 0.996139 0.996139 0.996139]\n"
          ],
          "name": "stdout"
        }
      ]
    },
    {
      "cell_type": "markdown",
      "metadata": {
        "id": "YxH5bKpqG5jt"
      },
      "source": [
        "#SKCM"
      ]
    },
    {
      "cell_type": "code",
      "metadata": {
        "colab": {
          "base_uri": "https://localhost:8080/"
        },
        "id": "l7FLt4oQGx8e",
        "outputId": "9c637462-c2f5-4458-99c1-76e974cc0128"
      },
      "source": [
        "censored_number_SKCM, uncensored_number_SKCM, survival_time_max_censored_SKCM, survival_time_min_censored_SKCM, survival_time_mean_censored_SKCM, survival_time_max_uncensored_SKCM, survival_time_min_uncensored_SKCM, survival_time_mean_uncensored_SKCM, feature_max_SKCM, feature_min_SKCM, feature_mean_SKCM, feature_var_SKCM= Summary('SKCM.csv')\n",
        "print(\"censored_number_SKCM:  {}\".format(censored_number_SKCM))\n",
        "print(\"uncensored_number_SKCM:  {}\".format(uncensored_number_SKCM))\n",
        "print(\"survival_time_max_censored_SKCM:  {}\".format(survival_time_max_censored_SKCM))\n",
        "print(\"survival_time_min_censored_SKCM:  {}\".format(survival_time_min_censored_SKCM))\n",
        "print(\"survival_time_mean_censored_SKCM:  {}\".format(survival_time_mean_censored_SKCM))\n",
        "print(\"survival_time_max_uncensored_SKCM:  {}\".format(survival_time_max_uncensored_SKCM))\n",
        "print(\"survival_time_min_uncensored_SKCM:  {}\".format(survival_time_min_uncensored_SKCM))\n",
        "print(\"survival_time_mean_uncensored_SKCM:  {}\".format(survival_time_mean_uncensored_SKCM))\n",
        "print(\"feature_max_SKCM:  {}\".format(feature_max_SKCM))\n",
        "print(\"feature_min_SKCM:  {}\".format(feature_min_SKCM))\n",
        "print(\"feature_mean_SKCM:  {}\".format(feature_mean_SKCM))\n",
        "print(\"feature_var_SKCM:  {}\".format(feature_var_SKCM))"
      ],
      "execution_count": 59,
      "outputs": [
        {
          "output_type": "stream",
          "text": [
            "censored_number_SKCM:  71\n",
            "uncensored_number_SKCM:  26\n",
            "survival_time_max_censored_SKCM:  1785.0\n",
            "survival_time_min_censored_SKCM:  -2.0\n",
            "survival_time_mean_censored_SKCM:  514.2394366197183\n",
            "survival_time_max_uncensored_SKCM:  1354.0\n",
            "survival_time_min_uncensored_SKCM:  190.0\n",
            "survival_time_mean_uncensored_SKCM:  529.9230769230769\n",
            "feature_max_SKCM:  [4.77503673 4.7611651  4.76473882 ... 5.3443921  7.02900911 3.80688386]\n",
            "feature_min_SKCM:  [-1.10407773 -1.10603179 -1.10209676 ... -1.37525906 -0.61464655\n",
            " -1.35618233]\n",
            "feature_mean_SKCM:  [-3.77704740e-16  1.14455982e-18  1.03582664e-16 ... -2.87856795e-16\n",
            " -8.56989165e-17 -1.19034221e-16]\n",
            "feature_var_SKCM:  [0.98969072 0.98969072 0.98969072 ... 0.98969072 0.98969072 0.98969072]\n"
          ],
          "name": "stdout"
        }
      ]
    },
    {
      "cell_type": "markdown",
      "metadata": {
        "id": "-Vl_aft-HgIG"
      },
      "source": [
        "#STAD"
      ]
    },
    {
      "cell_type": "code",
      "metadata": {
        "colab": {
          "base_uri": "https://localhost:8080/"
        },
        "id": "OJ6SGImWHbu6",
        "outputId": "87893108-0c8a-4dbf-8a40-869add370acd"
      },
      "source": [
        "censored_number_STAD, uncensored_number_STAD, survival_time_max_censored_STAD, survival_time_min_censored_STAD, survival_time_mean_censored_STAD, survival_time_max_uncensored_STAD, survival_time_min_uncensored_STAD, survival_time_mean_uncensored_STAD, feature_max_STAD, feature_min_STAD, feature_mean_STAD, feature_var_STAD= Summary('STAD.csv')\n",
        "print(\"censored_number_STAD:  {}\".format(censored_number_STAD))\n",
        "print(\"uncensored_number_STAD:  {}\".format(uncensored_number_STAD))\n",
        "print(\"survival_time_max_censored_STAD:  {}\".format(survival_time_max_censored_STAD))\n",
        "print(\"survival_time_min_censored_STAD:  {}\".format(survival_time_min_censored_STAD))\n",
        "print(\"survival_time_mean_censored_STAD:  {}\".format(survival_time_mean_censored_STAD))\n",
        "print(\"survival_time_max_uncensored_STAD:  {}\".format(survival_time_max_uncensored_STAD))\n",
        "print(\"survival_time_min_uncensored_STAD:  {}\".format(survival_time_min_uncensored_STAD))\n",
        "print(\"survival_time_mean_uncensored_STAD:  {}\".format(survival_time_mean_uncensored_STAD))\n",
        "print(\"feature_max_STAD:  {}\".format(feature_max_STAD))\n",
        "print(\"feature_min_STAD:  {}\".format(feature_min_STAD))\n",
        "print(\"feature_mean_STAD:  {}\".format(feature_mean_STAD))\n",
        "print(\"feature_var_STAD:  {}\".format(feature_var_STAD))"
      ],
      "execution_count": 60,
      "outputs": [
        {
          "output_type": "stream",
          "text": [
            "censored_number_STAD:  235\n",
            "uncensored_number_STAD:  147\n",
            "survival_time_max_censored_STAD:  3720.0\n",
            "survival_time_min_censored_STAD:  0.0\n",
            "survival_time_mean_censored_STAD:  705.2085106382979\n",
            "survival_time_max_uncensored_STAD:  2197.0\n",
            "survival_time_min_uncensored_STAD:  3.0\n",
            "survival_time_mean_uncensored_STAD:  443.6938775510204\n",
            "feature_max_STAD:  [5.41357017 5.43369453 5.45119661 ... 4.98040986 7.05452427 9.68183812]\n",
            "feature_min_STAD:  [-1.49625486 -1.49374522 -1.49769864 ... -1.63857814 -0.68551451\n",
            " -0.85578953]\n",
            "feature_mean_STAD:  [ 3.19697730e-18  2.08094159e-16 -1.27588458e-16 ... -1.81646437e-17\n",
            "  9.64905875e-17  3.37135788e-17]\n",
            "feature_var_STAD:  [0.9973822 0.9973822 0.9973822 ... 0.9973822 0.9973822 0.9973822]\n"
          ],
          "name": "stdout"
        }
      ]
    },
    {
      "cell_type": "markdown",
      "metadata": {
        "id": "mHigpob5IGGN"
      },
      "source": [
        "#UCEC"
      ]
    },
    {
      "cell_type": "code",
      "metadata": {
        "colab": {
          "base_uri": "https://localhost:8080/"
        },
        "id": "-IdK2fSQH_3e",
        "outputId": "3fac657c-b0da-4e3e-9f86-7dd69b2c0156"
      },
      "source": [
        "censored_number_UCEC, uncensored_number_UCEC, survival_time_max_censored_UCEC, survival_time_min_censored_UCEC, survival_time_mean_censored_UCEC, survival_time_max_uncensored_UCEC, survival_time_min_uncensored_UCEC, survival_time_mean_uncensored_UCEC, feature_max_UCEC, feature_min_UCEC, feature_mean_UCEC, feature_var_UCEC= Summary('UCEC.csv')\n",
        "print(\"censored_number_UCEC:  {}\".format(censored_number_UCEC))\n",
        "print(\"uncensored_number_UCEC:  {}\".format(uncensored_number_UCEC))\n",
        "print(\"survival_time_max_censored_UCEC:  {}\".format(survival_time_max_censored_UCEC))\n",
        "print(\"survival_time_min_censored_UCEC:  {}\".format(survival_time_min_censored_UCEC))\n",
        "print(\"survival_time_mean_censored_UCEC:  {}\".format(survival_time_mean_censored_UCEC))\n",
        "print(\"survival_time_max_uncensored_UCEC:  {}\".format(survival_time_max_uncensored_UCEC))\n",
        "print(\"survival_time_min_uncensored_UCEC:  {}\".format(survival_time_min_uncensored_UCEC))\n",
        "print(\"survival_time_mean_uncensored_UCEC:  {}\".format(survival_time_mean_uncensored_UCEC))\n",
        "print(\"feature_max_UCEC:  {}\".format(feature_max_UCEC))\n",
        "print(\"feature_min_UCEC:  {}\".format(feature_min_UCEC))\n",
        "print(\"feature_mean_UCEC:  {}\".format(feature_mean_UCEC))\n",
        "print(\"feature_var_UCEC:  {}\".format(feature_var_UCEC))"
      ],
      "execution_count": 61,
      "outputs": [
        {
          "output_type": "stream",
          "text": [
            "censored_number_UCEC:  338\n",
            "uncensored_number_UCEC:  72\n",
            "survival_time_max_censored_UCEC:  6859.0\n",
            "survival_time_min_censored_UCEC:  -6.0\n",
            "survival_time_mean_censored_UCEC:  1007.8343195266273\n",
            "survival_time_max_uncensored_UCEC:  3349.0\n",
            "survival_time_min_uncensored_UCEC:  50.0\n",
            "survival_time_mean_uncensored_UCEC:  815.0138888888889\n",
            "feature_max_UCEC:  [4.396196   4.39867606 4.42513226 ... 8.08524546 9.4987559  4.96162441]\n",
            "feature_min_UCEC:  [-1.36542323 -1.36604089 -1.3690383  ... -1.40440446 -0.5961288\n",
            " -1.25526493]\n",
            "feature_mean_UCEC:  [-4.83353195e-17 -7.81217909e-17 -1.71272211e-16 ... -5.89636741e-17\n",
            "  3.16819741e-17  7.25706758e-17]\n",
            "feature_var_UCEC:  [0.99756098 0.99756098 0.99756098 ... 0.99756098 0.99756098 0.99756098]\n"
          ],
          "name": "stdout"
        }
      ]
    },
    {
      "cell_type": "markdown",
      "metadata": {
        "id": "JTnANTnAIr5Z"
      },
      "source": [
        "#UCS"
      ]
    },
    {
      "cell_type": "code",
      "metadata": {
        "colab": {
          "base_uri": "https://localhost:8080/"
        },
        "id": "XINR1y0pInTb",
        "outputId": "53485e7f-0eac-44b2-dbea-fe748900671e"
      },
      "source": [
        "censored_number_UCS, uncensored_number_UCS, survival_time_max_censored_UCS, survival_time_min_censored_UCS, survival_time_mean_censored_UCS, survival_time_max_uncensored_UCS, survival_time_min_uncensored_UCS, survival_time_mean_uncensored_UCS, feature_max_UCS, feature_min_UCS, feature_mean_UCS, feature_var_UCS= Summary('UCS.csv')\n",
        "print(\"censored_number_UCS:  {}\".format(censored_number_UCS))\n",
        "print(\"uncensored_number_UCS:  {}\".format(uncensored_number_UCS))\n",
        "print(\"survival_time_max_censored_UCS:  {}\".format(survival_time_max_censored_UCS))\n",
        "print(\"survival_time_min_censored_UCS:  {}\".format(survival_time_min_censored_UCS))\n",
        "print(\"survival_time_mean_censored_UCS:  {}\".format(survival_time_mean_censored_UCS))\n",
        "print(\"survival_time_max_uncensored_UCS:  {}\".format(survival_time_max_uncensored_UCS))\n",
        "print(\"survival_time_min_uncensored_UCS:  {}\".format(survival_time_min_uncensored_UCS))\n",
        "print(\"survival_time_mean_uncensored_UCS:  {}\".format(survival_time_mean_uncensored_UCS))\n",
        "print(\"feature_max_UCS:  {}\".format(feature_max_UCS))\n",
        "print(\"feature_min_UCS:  {}\".format(feature_min_UCS))\n",
        "print(\"feature_mean_UCS:  {}\".format(feature_mean_UCS))\n",
        "print(\"feature_var_UCS:  {}\".format(feature_var_UCS))"
      ],
      "execution_count": 62,
      "outputs": [
        {
          "output_type": "stream",
          "text": [
            "censored_number_UCS:  22\n",
            "uncensored_number_UCS:  34\n",
            "survival_time_max_censored_UCS:  4269.0\n",
            "survival_time_min_censored_UCS:  0.0\n",
            "survival_time_mean_censored_UCS:  1183.409090909091\n",
            "survival_time_max_uncensored_UCS:  3115.0\n",
            "survival_time_min_uncensored_UCS:  8.0\n",
            "survival_time_mean_uncensored_UCS:  703.4411764705883\n",
            "feature_max_UCS:  [3.61135337 3.63603159 3.62821417 ... 2.85503257 3.50617384 3.52523561]\n",
            "feature_min_UCS:  [-1.13732841 -1.12193829 -1.14221726 ... -1.27029068 -0.92433591\n",
            " -1.49936388]\n",
            "feature_mean_UCS:  [-6.34413157e-17  2.93416085e-16 -1.66533454e-16 ...  2.37904934e-17\n",
            "  1.98254112e-17 -1.48690584e-17]\n",
            "feature_var_UCS:  [0.98214286 0.98214286 0.98214286 ... 0.98214286 0.98214286 0.98214286]\n"
          ],
          "name": "stdout"
        }
      ]
    },
    {
      "cell_type": "markdown",
      "metadata": {
        "id": "q6hu5fiTJQrw"
      },
      "source": [
        "#UVM"
      ]
    },
    {
      "cell_type": "code",
      "metadata": {
        "colab": {
          "base_uri": "https://localhost:8080/"
        },
        "id": "lBU5ylexJLf2",
        "outputId": "f234ab8a-7ce5-4d97-a7bc-d0a025f8f399"
      },
      "source": [
        "censored_number_UVM, uncensored_number_UVM, survival_time_max_censored_UVM, survival_time_min_censored_UVM, survival_time_mean_censored_UVM, survival_time_max_uncensored_UVM, survival_time_min_uncensored_UVM, survival_time_mean_uncensored_UVM, feature_max_UVM, feature_min_UVM, feature_mean_UVM, feature_var_UVM= Summary('UVM.csv')\n",
        "print(\"censored_number_UVM:  {}\".format(censored_number_UVM))\n",
        "print(\"uncensored_number_UVM:  {}\".format(uncensored_number_UVM))\n",
        "print(\"survival_time_max_censored_UVM:  {}\".format(survival_time_max_censored_UVM))\n",
        "print(\"survival_time_min_censored_UVM:  {}\".format(survival_time_min_censored_UVM))\n",
        "print(\"survival_time_mean_censored_UVM:  {}\".format(survival_time_mean_censored_UVM))\n",
        "print(\"survival_time_max_uncensored_UVM:  {}\".format(survival_time_max_uncensored_UVM))\n",
        "print(\"survival_time_min_uncensored_UVM:  {}\".format(survival_time_min_uncensored_UVM))\n",
        "print(\"survival_time_mean_uncensored_UVM:  {}\".format(survival_time_mean_uncensored_UVM))\n",
        "print(\"feature_max_UVM:  {}\".format(feature_max_UVM))\n",
        "print(\"feature_min_UVM:  {}\".format(feature_min_UVM))\n",
        "print(\"feature_mean_UVM:  {}\".format(feature_mean_UVM))\n",
        "print(\"feature_var_UVM:  {}\".format(feature_var_UVM))"
      ],
      "execution_count": 63,
      "outputs": [
        {
          "output_type": "stream",
          "text": [
            "censored_number_UVM:  57\n",
            "uncensored_number_UVM:  23\n",
            "survival_time_max_censored_UVM:  2600.0\n",
            "survival_time_min_censored_UVM:  4.0\n",
            "survival_time_mean_censored_UVM:  861.8771929824561\n",
            "survival_time_max_uncensored_UVM:  1581.0\n",
            "survival_time_min_uncensored_UVM:  40.0\n",
            "survival_time_mean_uncensored_UVM:  693.8695652173913\n",
            "feature_max_UVM:  [3.86794965 3.87879902 3.87036737 ... 5.59489509 4.0949402  3.11093656]\n",
            "feature_min_UVM:  [-1.27453722 -1.27414269 -1.27210602 ... -1.40122754 -1.07135888\n",
            " -1.52219866]\n",
            "feature_mean_UVM:  [-1.24900090e-17  1.04083409e-16 -1.65145675e-16 ... -2.53963517e-16\n",
            " -2.11983209e-16  1.46410661e-16]\n",
            "feature_var_UVM:  [0.9875 0.9875 0.9875 ... 0.9875 0.9875 0.9875]\n"
          ],
          "name": "stdout"
        }
      ]
    },
    {
      "cell_type": "markdown",
      "metadata": {
        "id": "lqZ_pTokKIc3"
      },
      "source": [
        "#write the data into excel"
      ]
    },
    {
      "cell_type": "code",
      "metadata": {
        "id": "U0gNJ0IDWN1B"
      },
      "source": [
        "files=open('test.csv','w')\n",
        "writer=csv.writer(files)"
      ],
      "execution_count": 64,
      "outputs": []
    },
    {
      "cell_type": "code",
      "metadata": {
        "id": "8TH18gRQKb42"
      },
      "source": [
        "column_name=['Cancer name','censored data number','uncensored data number','survival_time_max_censored', 'survival_time_min_censored', 'survival_time_mean_censored',\n",
        "             'survival_time_max_uncensored', 'survival_time_min_uncensored', 'survival_time_mean_uncensored']\n",
        "for i in range(1046):\n",
        "  column_name.append('fea_'+str(i+1)+'_max')\n",
        "  column_name.append('fea_'+str(i+1)+'_min')\n",
        "  column_name.append('fea_'+str(i+1)+'_mean')\n",
        "  column_name.append('fea_'+str(i+1)+'_var')"
      ],
      "execution_count": 65,
      "outputs": []
    },
    {
      "cell_type": "code",
      "metadata": {
        "colab": {
          "base_uri": "https://localhost:8080/"
        },
        "id": "u3zxpu-6WjkX",
        "outputId": "ce9f462f-a444-4b67-e5dd-af694272d7cc"
      },
      "source": [
        "for i in column_name:\n",
        "  i.encode(encoding='UTF-8')\n",
        "writer.writerow(column_name)"
      ],
      "execution_count": 66,
      "outputs": [
        {
          "output_type": "execute_result",
          "data": {
            "text/plain": [
              "51237"
            ]
          },
          "metadata": {
            "tags": []
          },
          "execution_count": 66
        }
      ]
    },
    {
      "cell_type": "code",
      "metadata": {
        "colab": {
          "base_uri": "https://localhost:8080/"
        },
        "id": "c6sz0hurZK_n",
        "outputId": "5984b834-98cd-4458-9519-7cd67e747c37"
      },
      "source": [
        "acc=['ACC']\n",
        "acc.append(str(censored_number_ACC))\n",
        "acc.append(str(uncensored_number_ACC))\n",
        "acc.append(str(survival_time_max_censored_ACC))\n",
        "acc.append(str(survival_time_min_censored_ACC))\n",
        "acc.append(str(survival_time_mean_censored_ACC))\n",
        "acc.append(str(survival_time_max_uncensored_ACC))\n",
        "acc.append(str(survival_time_min_uncensored_ACC))\n",
        "acc.append(str(survival_time_mean_uncensored_ACC))\n",
        "for i in range(len(feature_max_ACC)):\n",
        "  acc.append(str(feature_max_ACC[i]))\n",
        "  acc.append(str(feature_min_ACC[i]))\n",
        "  acc.append(str(feature_mean_ACC[i]))\n",
        "  acc.append(str(feature_var_ACC[i]))\n",
        "for i in acc:\n",
        "  i.encode(encoding='UTF-8')\n",
        "writer.writerow(acc)"
      ],
      "execution_count": 73,
      "outputs": [
        {
          "output_type": "execute_result",
          "data": {
            "text/plain": [
              "65255"
            ]
          },
          "metadata": {
            "tags": []
          },
          "execution_count": 73
        }
      ]
    },
    {
      "cell_type": "code",
      "metadata": {
        "colab": {
          "base_uri": "https://localhost:8080/"
        },
        "id": "i7OK2qkmbKqi",
        "outputId": "eb552c60-5f24-4140-c357-13c17ba17929"
      },
      "source": [
        "blca=['BLCA']\n",
        "blca.append(str(censored_number_BLCA))\n",
        "blca.append(str(uncensored_number_BLCA))\n",
        "blca.append(str(survival_time_max_censored_BLCA))\n",
        "blca.append(str(survival_time_min_censored_BLCA))\n",
        "blca.append(str(survival_time_mean_censored_BLCA))\n",
        "blca.append(str(survival_time_max_uncensored_BLCA))\n",
        "blca.append(str(survival_time_min_uncensored_BLCA))\n",
        "blca.append(str(survival_time_mean_uncensored_BLCA))\n",
        "for i in range(len(feature_max_BLCA)):\n",
        "  blca.append(str(feature_max_BLCA[i]))\n",
        "  blca.append(str(feature_min_BLCA[i]))\n",
        "  blca.append(str(feature_mean_BLCA[i]))\n",
        "  blca.append(str(feature_var_BLCA[i]))\n",
        "for i in blca:\n",
        "  i.encode(encoding='UTF-8')\n",
        "writer.writerow(blca)"
      ],
      "execution_count": 74,
      "outputs": [
        {
          "output_type": "execute_result",
          "data": {
            "text/plain": [
              "70610"
            ]
          },
          "metadata": {
            "tags": []
          },
          "execution_count": 74
        }
      ]
    },
    {
      "cell_type": "code",
      "metadata": {
        "colab": {
          "base_uri": "https://localhost:8080/"
        },
        "id": "02iJzbCecUdh",
        "outputId": "d0474b49-5ee2-4e69-cab5-43db5827aafa"
      },
      "source": [
        "brca=['BRCA']\n",
        "brca.append(str(censored_number_BRCA))\n",
        "brca.append(str(uncensored_number_BRCA))\n",
        "brca.append(str(survival_time_max_censored_BRCA))\n",
        "brca.append(str(survival_time_min_censored_BRCA))\n",
        "brca.append(str(survival_time_mean_censored_BRCA))\n",
        "brca.append(str(survival_time_max_uncensored_BRCA))\n",
        "brca.append(str(survival_time_min_uncensored_BRCA))\n",
        "brca.append(str(survival_time_mean_uncensored_BRCA))\n",
        "for i in range(len(feature_max_BRCA)):\n",
        "  brca.append(str(feature_max_BRCA[i]))\n",
        "  brca.append(str(feature_min_BRCA[i]))\n",
        "  brca.append(str(feature_mean_BRCA[i]))\n",
        "  brca.append(str(feature_var_BRCA[i]))\n",
        "for i in brca:\n",
        "  i.encode(encoding='UTF-8')\n",
        "writer.writerow(brca)"
      ],
      "execution_count": 75,
      "outputs": [
        {
          "output_type": "execute_result",
          "data": {
            "text/plain": [
              "71922"
            ]
          },
          "metadata": {
            "tags": []
          },
          "execution_count": 75
        }
      ]
    },
    {
      "cell_type": "code",
      "metadata": {
        "colab": {
          "base_uri": "https://localhost:8080/"
        },
        "id": "4A7L9le7cwjO",
        "outputId": "bf98ca4a-44fb-4d2a-ec41-b8d0503a1c79"
      },
      "source": [
        "cesc=['CESC']\n",
        "cesc.append(str(censored_number_CESC))\n",
        "cesc.append(str(uncensored_number_CESC))\n",
        "cesc.append(str(survival_time_max_censored_CESC))\n",
        "cesc.append(str(survival_time_min_censored_CESC))\n",
        "cesc.append(str(survival_time_mean_censored_CESC))\n",
        "cesc.append(str(survival_time_max_uncensored_CESC))\n",
        "cesc.append(str(survival_time_min_uncensored_CESC))\n",
        "cesc.append(str(survival_time_mean_uncensored_CESC))\n",
        "for i in range(len(feature_max_CESC)):\n",
        "  cesc.append(str(feature_max_CESC[i]))\n",
        "  cesc.append(str(feature_min_CESC[i]))\n",
        "  cesc.append(str(feature_mean_CESC[i]))\n",
        "  cesc.append(str(feature_var_CESC[i]))\n",
        "for i in cesc:\n",
        "  i.encode(encoding='UTF-8')\n",
        "writer.writerow(cesc)"
      ],
      "execution_count": 76,
      "outputs": [
        {
          "output_type": "execute_result",
          "data": {
            "text/plain": [
              "71334"
            ]
          },
          "metadata": {
            "tags": []
          },
          "execution_count": 76
        }
      ]
    },
    {
      "cell_type": "code",
      "metadata": {
        "colab": {
          "base_uri": "https://localhost:8080/"
        },
        "id": "gXK2CFk3dSvV",
        "outputId": "27d1c0ce-d852-4351-8ea9-6bdf735a0106"
      },
      "source": [
        "chol=['CHOL']\n",
        "chol.append(str(censored_number_CHOL))\n",
        "chol.append(str(uncensored_number_CHOL))\n",
        "chol.append(str(survival_time_max_censored_CHOL))\n",
        "chol.append(str(survival_time_min_censored_CHOL))\n",
        "chol.append(str(survival_time_mean_censored_CHOL))\n",
        "chol.append(str(survival_time_max_uncensored_CHOL))\n",
        "chol.append(str(survival_time_min_uncensored_CHOL))\n",
        "chol.append(str(survival_time_mean_uncensored_CHOL))\n",
        "for i in range(len(feature_max_CHOL)):\n",
        "  chol.append(str(feature_max_CHOL[i]))\n",
        "  chol.append(str(feature_min_CHOL[i]))\n",
        "  chol.append(str(feature_mean_CHOL[i]))\n",
        "  chol.append(str(feature_var_CHOL[i]))\n",
        "for i in chol:\n",
        "  i.encode(encoding='UTF-8')\n",
        "writer.writerow(chol)"
      ],
      "execution_count": 77,
      "outputs": [
        {
          "output_type": "execute_result",
          "data": {
            "text/plain": [
              "62072"
            ]
          },
          "metadata": {
            "tags": []
          },
          "execution_count": 77
        }
      ]
    },
    {
      "cell_type": "code",
      "metadata": {
        "colab": {
          "base_uri": "https://localhost:8080/"
        },
        "id": "nFDVmq0Ud1Ja",
        "outputId": "f75e31d6-d505-48a6-dfe7-80e14a4b5757"
      },
      "source": [
        "esca=['ESCA']\n",
        "esca.append(str(censored_number_ESCA))\n",
        "esca.append(str(uncensored_number_ESCA))\n",
        "esca.append(str(survival_time_max_censored_ESCA))\n",
        "esca.append(str(survival_time_min_censored_ESCA))\n",
        "esca.append(str(survival_time_mean_censored_ESCA))\n",
        "esca.append(str(survival_time_max_uncensored_ESCA))\n",
        "esca.append(str(survival_time_min_uncensored_ESCA))\n",
        "esca.append(str(survival_time_mean_uncensored_ESCA))\n",
        "for i in range(len(feature_max_ESCA)):\n",
        "  esca.append(str(feature_max_ESCA[i]))\n",
        "  esca.append(str(feature_min_ESCA[i]))\n",
        "  esca.append(str(feature_mean_ESCA[i]))\n",
        "  esca.append(str(feature_var_ESCA[i]))\n",
        "for i in esca:\n",
        "  i.encode(encoding='UTF-8')\n",
        "writer.writerow(esca)"
      ],
      "execution_count": 78,
      "outputs": [
        {
          "output_type": "execute_result",
          "data": {
            "text/plain": [
              "68669"
            ]
          },
          "metadata": {
            "tags": []
          },
          "execution_count": 78
        }
      ]
    },
    {
      "cell_type": "code",
      "metadata": {
        "colab": {
          "base_uri": "https://localhost:8080/"
        },
        "id": "a-mFaFsZejEF",
        "outputId": "5432fe6a-ddcb-4e4e-9497-ca8d5807530a"
      },
      "source": [
        "hnsc=['HNSC']\n",
        "hnsc.append(str(censored_number_HNSC))\n",
        "hnsc.append(str(uncensored_number_HNSC))\n",
        "hnsc.append(str(survival_time_max_censored_HNSC))\n",
        "hnsc.append(str(survival_time_min_censored_HNSC))\n",
        "hnsc.append(str(survival_time_mean_censored_HNSC))\n",
        "hnsc.append(str(survival_time_max_uncensored_HNSC))\n",
        "hnsc.append(str(survival_time_min_uncensored_HNSC))\n",
        "hnsc.append(str(survival_time_mean_uncensored_HNSC))\n",
        "for i in range(len(feature_max_HNSC)):\n",
        "  hnsc.append(str(feature_max_HNSC[i]))\n",
        "  hnsc.append(str(feature_min_HNSC[i]))\n",
        "  hnsc.append(str(feature_mean_HNSC[i]))\n",
        "  hnsc.append(str(feature_var_HNSC[i]))\n",
        "for i in hnsc:\n",
        "  i.encode(encoding='UTF-8')\n",
        "writer.writerow(hnsc)"
      ],
      "execution_count": 79,
      "outputs": [
        {
          "output_type": "execute_result",
          "data": {
            "text/plain": [
              "72115"
            ]
          },
          "metadata": {
            "tags": []
          },
          "execution_count": 79
        }
      ]
    },
    {
      "cell_type": "code",
      "metadata": {
        "colab": {
          "base_uri": "https://localhost:8080/"
        },
        "id": "w2Ir9426fdbz",
        "outputId": "d64ab9b3-4cec-41cb-b574-afb904c55d46"
      },
      "source": [
        "kirc=['KIRC']\n",
        "kirc.append(str(censored_number_KIRC))\n",
        "kirc.append(str(uncensored_number_KIRC))\n",
        "kirc.append(str(survival_time_max_censored_KIRC))\n",
        "kirc.append(str(survival_time_min_censored_KIRC))\n",
        "kirc.append(str(survival_time_mean_censored_KIRC))\n",
        "kirc.append(str(survival_time_max_uncensored_KIRC))\n",
        "kirc.append(str(survival_time_min_uncensored_KIRC))\n",
        "kirc.append(str(survival_time_mean_uncensored_KIRC))\n",
        "for i in range(len(feature_max_KIRC)):\n",
        "  kirc.append(str(feature_max_KIRC[i]))\n",
        "  kirc.append(str(feature_min_KIRC[i]))\n",
        "  kirc.append(str(feature_mean_KIRC[i]))\n",
        "  kirc.append(str(feature_var_KIRC[i]))\n",
        "for i in kirc:\n",
        "  i.encode(encoding='UTF-8')\n",
        "writer.writerow(kirc)"
      ],
      "execution_count": 80,
      "outputs": [
        {
          "output_type": "execute_result",
          "data": {
            "text/plain": [
              "66930"
            ]
          },
          "metadata": {
            "tags": []
          },
          "execution_count": 80
        }
      ]
    },
    {
      "cell_type": "code",
      "metadata": {
        "colab": {
          "base_uri": "https://localhost:8080/"
        },
        "id": "RABKJrtCf3_K",
        "outputId": "e5242923-9860-4596-e377-c919797e14e2"
      },
      "source": [
        "kirp=['KIRP']\n",
        "kirp.append(str(censored_number_KIRP))\n",
        "kirp.append(str(uncensored_number_KIRP))\n",
        "kirp.append(str(survival_time_max_censored_KIRP))\n",
        "kirp.append(str(survival_time_min_censored_KIRP))\n",
        "kirp.append(str(survival_time_mean_censored_KIRP))\n",
        "kirp.append(str(survival_time_max_uncensored_KIRP))\n",
        "kirp.append(str(survival_time_min_uncensored_KIRP))\n",
        "kirp.append(str(survival_time_mean_uncensored_KIRP))\n",
        "for i in range(len(feature_max_KIRP)):\n",
        "  kirp.append(str(feature_max_KIRP[i]))\n",
        "  kirp.append(str(feature_min_KIRP[i]))\n",
        "  kirp.append(str(feature_mean_KIRP[i]))\n",
        "  kirp.append(str(feature_var_KIRP[i]))\n",
        "for i in kirp:\n",
        "  i.encode(encoding='UTF-8')\n",
        "writer.writerow(kirp)"
      ],
      "execution_count": 81,
      "outputs": [
        {
          "output_type": "execute_result",
          "data": {
            "text/plain": [
              "67954"
            ]
          },
          "metadata": {
            "tags": []
          },
          "execution_count": 81
        }
      ]
    },
    {
      "cell_type": "code",
      "metadata": {
        "colab": {
          "base_uri": "https://localhost:8080/"
        },
        "id": "oBQHWZ5GgeLd",
        "outputId": "6bd67313-ecf7-4c38-aa7f-15e35b214ff8"
      },
      "source": [
        "lgg=['LGG']\n",
        "lgg.append(str(censored_number_LGG))\n",
        "lgg.append(str(uncensored_number_LGG))\n",
        "lgg.append(str(survival_time_max_censored_LGG))\n",
        "lgg.append(str(survival_time_min_censored_LGG))\n",
        "lgg.append(str(survival_time_mean_censored_LGG))\n",
        "lgg.append(str(survival_time_max_uncensored_LGG))\n",
        "lgg.append(str(survival_time_min_uncensored_LGG))\n",
        "lgg.append(str(survival_time_mean_uncensored_LGG))\n",
        "for i in range(len(feature_max_LGG)):\n",
        "  lgg.append(str(feature_max_LGG[i]))\n",
        "  lgg.append(str(feature_min_LGG[i]))\n",
        "  lgg.append(str(feature_mean_LGG[i]))\n",
        "  lgg.append(str(feature_var_LGG[i]))\n",
        "for i in lgg:\n",
        "  i.encode(encoding='UTF-8')\n",
        "writer.writerow(lgg)"
      ],
      "execution_count": 82,
      "outputs": [
        {
          "output_type": "execute_result",
          "data": {
            "text/plain": [
              "69332"
            ]
          },
          "metadata": {
            "tags": []
          },
          "execution_count": 82
        }
      ]
    },
    {
      "cell_type": "code",
      "metadata": {
        "colab": {
          "base_uri": "https://localhost:8080/"
        },
        "id": "JqhX4HQLhB8I",
        "outputId": "02144228-b5c4-4962-856a-e91974cb605b"
      },
      "source": [
        "lihc=['LIHC']\n",
        "lihc.append(str(censored_number_LIHC))\n",
        "lihc.append(str(uncensored_number_LIHC))\n",
        "lihc.append(str(survival_time_max_censored_LIHC))\n",
        "lihc.append(str(survival_time_min_censored_LIHC))\n",
        "lihc.append(str(survival_time_mean_censored_LIHC))\n",
        "lihc.append(str(survival_time_max_uncensored_LIHC))\n",
        "lihc.append(str(survival_time_min_uncensored_LIHC))\n",
        "lihc.append(str(survival_time_mean_uncensored_LIHC))\n",
        "for i in range(len(feature_max_LIHC)):\n",
        "  lihc.append(str(feature_max_LIHC[i]))\n",
        "  lihc.append(str(feature_min_LIHC[i]))\n",
        "  lihc.append(str(feature_mean_LIHC[i]))\n",
        "  lihc.append(str(feature_var_LIHC[i]))\n",
        "for i in lihc:\n",
        "  i.encode(encoding='UTF-8')\n",
        "writer.writerow(lihc)"
      ],
      "execution_count": 83,
      "outputs": [
        {
          "output_type": "execute_result",
          "data": {
            "text/plain": [
              "69175"
            ]
          },
          "metadata": {
            "tags": []
          },
          "execution_count": 83
        }
      ]
    },
    {
      "cell_type": "code",
      "metadata": {
        "colab": {
          "base_uri": "https://localhost:8080/"
        },
        "id": "dSpze9wthgHt",
        "outputId": "23941917-f10c-4c8d-f3f4-c9c0bb42bfc9"
      },
      "source": [
        "luad=['LUAD']\n",
        "luad.append(str(censored_number_LUAD))\n",
        "luad.append(str(uncensored_number_LUAD))\n",
        "luad.append(str(survival_time_max_censored_LUAD))\n",
        "luad.append(str(survival_time_min_censored_LUAD))\n",
        "luad.append(str(survival_time_mean_censored_LUAD))\n",
        "luad.append(str(survival_time_max_uncensored_LUAD))\n",
        "luad.append(str(survival_time_min_uncensored_LUAD))\n",
        "luad.append(str(survival_time_mean_uncensored_LUAD))\n",
        "for i in range(len(feature_max_LUAD)):\n",
        "  luad.append(str(feature_max_LUAD[i]))\n",
        "  luad.append(str(feature_min_LUAD[i]))\n",
        "  luad.append(str(feature_mean_LUAD[i]))\n",
        "  luad.append(str(feature_var_LUAD[i]))\n",
        "for i in luad:\n",
        "  i.encode(encoding='UTF-8')\n",
        "writer.writerow(luad)"
      ],
      "execution_count": 84,
      "outputs": [
        {
          "output_type": "execute_result",
          "data": {
            "text/plain": [
              "71639"
            ]
          },
          "metadata": {
            "tags": []
          },
          "execution_count": 84
        }
      ]
    },
    {
      "cell_type": "code",
      "metadata": {
        "colab": {
          "base_uri": "https://localhost:8080/"
        },
        "id": "QjC9d6Kbh4QU",
        "outputId": "54ae4f09-c36d-4f6f-98d0-de5508e42b39"
      },
      "source": [
        "lusc=['LUSC']\n",
        "lusc.append(str(censored_number_LUSC))\n",
        "lusc.append(str(uncensored_number_LUSC))\n",
        "lusc.append(str(survival_time_max_censored_LUSC))\n",
        "lusc.append(str(survival_time_min_censored_LUSC))\n",
        "lusc.append(str(survival_time_mean_censored_LUSC))\n",
        "lusc.append(str(survival_time_max_uncensored_LUSC))\n",
        "lusc.append(str(survival_time_min_uncensored_LUSC))\n",
        "lusc.append(str(survival_time_mean_uncensored_LUSC))\n",
        "for i in range(len(feature_max_LUSC)):\n",
        "  lusc.append(str(feature_max_LUSC[i]))\n",
        "  lusc.append(str(feature_min_LUSC[i]))\n",
        "  lusc.append(str(feature_mean_LUSC[i]))\n",
        "  lusc.append(str(feature_var_LUSC[i]))\n",
        "for i in lusc:\n",
        "  i.encode(encoding='UTF-8')\n",
        "writer.writerow(lusc)"
      ],
      "execution_count": 85,
      "outputs": [
        {
          "output_type": "execute_result",
          "data": {
            "text/plain": [
              "70682"
            ]
          },
          "metadata": {
            "tags": []
          },
          "execution_count": 85
        }
      ]
    },
    {
      "cell_type": "code",
      "metadata": {
        "colab": {
          "base_uri": "https://localhost:8080/"
        },
        "id": "1rTHJBwpiTvE",
        "outputId": "67235161-7633-4495-9abe-fb2006300bf9"
      },
      "source": [
        "meso=['MESO']\n",
        "meso.append(str(censored_number_MESO))\n",
        "meso.append(str(uncensored_number_MESO))\n",
        "meso.append(str(survival_time_max_censored_MESO))\n",
        "meso.append(str(survival_time_min_censored_MESO))\n",
        "meso.append(str(survival_time_mean_censored_MESO))\n",
        "meso.append(str(survival_time_max_uncensored_MESO))\n",
        "meso.append(str(survival_time_min_uncensored_MESO))\n",
        "meso.append(str(survival_time_mean_uncensored_MESO))\n",
        "for i in range(len(feature_max_MESO)):\n",
        "  meso.append(str(feature_max_MESO[i]))\n",
        "  meso.append(str(feature_min_MESO[i]))\n",
        "  meso.append(str(feature_mean_MESO[i]))\n",
        "  meso.append(str(feature_var_MESO[i]))\n",
        "for i in meso:\n",
        "  i.encode(encoding='UTF-8')\n",
        "writer.writerow(meso)"
      ],
      "execution_count": 86,
      "outputs": [
        {
          "output_type": "execute_result",
          "data": {
            "text/plain": [
              "65849"
            ]
          },
          "metadata": {
            "tags": []
          },
          "execution_count": 86
        }
      ]
    },
    {
      "cell_type": "code",
      "metadata": {
        "colab": {
          "base_uri": "https://localhost:8080/"
        },
        "id": "A512Q-rgjNzp",
        "outputId": "a2ea6cdf-3dad-4fbe-8f25-6972405026e5"
      },
      "source": [
        "paad=['PAAD']\n",
        "paad.append(str(censored_number_PAAD))\n",
        "paad.append(str(uncensored_number_PAAD))\n",
        "paad.append(str(survival_time_max_censored_PAAD))\n",
        "paad.append(str(survival_time_min_censored_PAAD))\n",
        "paad.append(str(survival_time_mean_censored_PAAD))\n",
        "paad.append(str(survival_time_max_uncensored_PAAD))\n",
        "paad.append(str(survival_time_min_uncensored_PAAD))\n",
        "paad.append(str(survival_time_mean_uncensored_PAAD))\n",
        "for i in range(len(feature_max_PAAD)):\n",
        "  paad.append(str(feature_max_PAAD[i]))\n",
        "  paad.append(str(feature_min_PAAD[i]))\n",
        "  paad.append(str(feature_mean_PAAD[i]))\n",
        "  paad.append(str(feature_var_PAAD[i]))\n",
        "for i in paad:\n",
        "  i.encode(encoding='UTF-8')\n",
        "writer.writerow(paad)"
      ],
      "execution_count": 87,
      "outputs": [
        {
          "output_type": "execute_result",
          "data": {
            "text/plain": [
              "66230"
            ]
          },
          "metadata": {
            "tags": []
          },
          "execution_count": 87
        }
      ]
    },
    {
      "cell_type": "code",
      "metadata": {
        "colab": {
          "base_uri": "https://localhost:8080/"
        },
        "id": "_6dB1jFQjosA",
        "outputId": "4439d973-d0df-4baa-f96d-73614483d363"
      },
      "source": [
        "sarc=['SARC']\n",
        "sarc.append(str(censored_number_SARC))\n",
        "sarc.append(str(uncensored_number_SARC))\n",
        "sarc.append(str(survival_time_max_censored_SARC))\n",
        "sarc.append(str(survival_time_min_censored_SARC))\n",
        "sarc.append(str(survival_time_mean_censored_SARC))\n",
        "sarc.append(str(survival_time_max_uncensored_SARC))\n",
        "sarc.append(str(survival_time_min_uncensored_SARC))\n",
        "sarc.append(str(survival_time_mean_uncensored_SARC))\n",
        "for i in range(len(feature_max_SARC)):\n",
        "  sarc.append(str(feature_max_SARC[i]))\n",
        "  sarc.append(str(feature_min_SARC[i]))\n",
        "  sarc.append(str(feature_mean_SARC[i]))\n",
        "  sarc.append(str(feature_var_SARC[i]))\n",
        "for i in sarc:\n",
        "  i.encode(encoding='UTF-8')\n",
        "writer.writerow(sarc)"
      ],
      "execution_count": 88,
      "outputs": [
        {
          "output_type": "execute_result",
          "data": {
            "text/plain": [
              "68294"
            ]
          },
          "metadata": {
            "tags": []
          },
          "execution_count": 88
        }
      ]
    },
    {
      "cell_type": "code",
      "metadata": {
        "colab": {
          "base_uri": "https://localhost:8080/"
        },
        "id": "qUzFD6KckCnU",
        "outputId": "0f602806-9f91-481b-f612-2518108894a9"
      },
      "source": [
        "skcm=['SKCM']\n",
        "skcm.append(str(censored_number_SKCM))\n",
        "skcm.append(str(uncensored_number_SKCM))\n",
        "skcm.append(str(survival_time_max_censored_SKCM))\n",
        "skcm.append(str(survival_time_min_censored_SKCM))\n",
        "skcm.append(str(survival_time_mean_censored_SKCM))\n",
        "skcm.append(str(survival_time_max_uncensored_SKCM))\n",
        "skcm.append(str(survival_time_min_uncensored_SKCM))\n",
        "skcm.append(str(survival_time_mean_uncensored_SKCM))\n",
        "for i in range(len(feature_max_SKCM)):\n",
        "  skcm.append(str(feature_max_SKCM[i]))\n",
        "  skcm.append(str(feature_min_SKCM[i]))\n",
        "  skcm.append(str(feature_mean_SKCM[i]))\n",
        "  skcm.append(str(feature_var_SKCM[i]))\n",
        "for i in skcm:\n",
        "  i.encode(encoding='UTF-8')\n",
        "writer.writerow(skcm)"
      ],
      "execution_count": 89,
      "outputs": [
        {
          "output_type": "execute_result",
          "data": {
            "text/plain": [
              "67824"
            ]
          },
          "metadata": {
            "tags": []
          },
          "execution_count": 89
        }
      ]
    },
    {
      "cell_type": "code",
      "metadata": {
        "colab": {
          "base_uri": "https://localhost:8080/"
        },
        "id": "RiJeW0Y_kfN2",
        "outputId": "6ea873ea-a6cc-41e8-8682-49ebd1103bf2"
      },
      "source": [
        "stad=['STAD']\n",
        "stad.append(str(censored_number_STAD))\n",
        "stad.append(str(uncensored_number_STAD))\n",
        "stad.append(str(survival_time_max_censored_STAD))\n",
        "stad.append(str(survival_time_min_censored_STAD))\n",
        "stad.append(str(survival_time_mean_censored_STAD))\n",
        "stad.append(str(survival_time_max_uncensored_STAD))\n",
        "stad.append(str(survival_time_min_uncensored_STAD))\n",
        "stad.append(str(survival_time_mean_uncensored_STAD))\n",
        "for i in range(len(feature_max_STAD)):\n",
        "  stad.append(str(feature_max_STAD[i]))\n",
        "  stad.append(str(feature_min_STAD[i]))\n",
        "  stad.append(str(feature_mean_STAD[i]))\n",
        "  stad.append(str(feature_var_STAD[i]))\n",
        "for i in stad:\n",
        "  i.encode(encoding='UTF-8')\n",
        "writer.writerow(stad)"
      ],
      "execution_count": 90,
      "outputs": [
        {
          "output_type": "execute_result",
          "data": {
            "text/plain": [
              "69993"
            ]
          },
          "metadata": {
            "tags": []
          },
          "execution_count": 90
        }
      ]
    },
    {
      "cell_type": "code",
      "metadata": {
        "colab": {
          "base_uri": "https://localhost:8080/"
        },
        "id": "HGuoj2ink9JS",
        "outputId": "f35e6ba1-bd35-4b31-c3b6-d268b2684cc2"
      },
      "source": [
        "ucec=['UCEC']\n",
        "ucec.append(str(censored_number_UCEC))\n",
        "ucec.append(str(uncensored_number_UCEC))\n",
        "ucec.append(str(survival_time_max_censored_UCEC))\n",
        "ucec.append(str(survival_time_min_censored_UCEC))\n",
        "ucec.append(str(survival_time_mean_censored_UCEC))\n",
        "ucec.append(str(survival_time_max_uncensored_UCEC))\n",
        "ucec.append(str(survival_time_min_uncensored_UCEC))\n",
        "ucec.append(str(survival_time_mean_uncensored_UCEC))\n",
        "for i in range(len(feature_max_UCEC)):\n",
        "  ucec.append(str(feature_max_UCEC[i]))\n",
        "  ucec.append(str(feature_min_UCEC[i]))\n",
        "  ucec.append(str(feature_mean_UCEC[i]))\n",
        "  ucec.append(str(feature_var_UCEC[i]))\n",
        "for i in ucec:\n",
        "  i.encode(encoding='UTF-8')\n",
        "writer.writerow(ucec)"
      ],
      "execution_count": 91,
      "outputs": [
        {
          "output_type": "execute_result",
          "data": {
            "text/plain": [
              "72123"
            ]
          },
          "metadata": {
            "tags": []
          },
          "execution_count": 91
        }
      ]
    },
    {
      "cell_type": "code",
      "metadata": {
        "colab": {
          "base_uri": "https://localhost:8080/"
        },
        "id": "IAbDiD5Olaj5",
        "outputId": "e4dd91a4-8041-4a0d-a68d-5a908908ad19"
      },
      "source": [
        "ucs=['UCS']\n",
        "ucs.append(str(censored_number_UCS))\n",
        "ucs.append(str(uncensored_number_UCS))\n",
        "ucs.append(str(survival_time_max_censored_UCS))\n",
        "ucs.append(str(survival_time_min_censored_UCS))\n",
        "ucs.append(str(survival_time_mean_censored_UCS))\n",
        "ucs.append(str(survival_time_max_uncensored_UCS))\n",
        "ucs.append(str(survival_time_min_uncensored_UCS))\n",
        "ucs.append(str(survival_time_mean_uncensored_UCS))\n",
        "for i in range(len(feature_max_UCS)):\n",
        "  ucs.append(str(feature_max_UCS[i]))\n",
        "  ucs.append(str(feature_min_UCS[i]))\n",
        "  ucs.append(str(feature_mean_UCS[i]))\n",
        "  ucs.append(str(feature_var_UCS[i]))\n",
        "for i in ucs:\n",
        "  i.encode(encoding='UTF-8')\n",
        "writer.writerow(ucs)"
      ],
      "execution_count": 92,
      "outputs": [
        {
          "output_type": "execute_result",
          "data": {
            "text/plain": [
              "66604"
            ]
          },
          "metadata": {
            "tags": []
          },
          "execution_count": 92
        }
      ]
    },
    {
      "cell_type": "code",
      "metadata": {
        "colab": {
          "base_uri": "https://localhost:8080/"
        },
        "id": "ytpM67oEl13i",
        "outputId": "040bb8cf-cfb1-4f0c-80ac-2ffc90f61179"
      },
      "source": [
        "uvm=['UVM']\n",
        "uvm.append(str(censored_number_UVM))\n",
        "uvm.append(str(uncensored_number_UVM))\n",
        "uvm.append(str(survival_time_max_censored_UVM))\n",
        "uvm.append(str(survival_time_min_censored_UVM))\n",
        "uvm.append(str(survival_time_mean_censored_UVM))\n",
        "uvm.append(str(survival_time_max_uncensored_UVM))\n",
        "uvm.append(str(survival_time_min_uncensored_UVM))\n",
        "uvm.append(str(survival_time_mean_uncensored_UVM))\n",
        "for i in range(len(feature_max_UVM)):\n",
        "  uvm.append(str(feature_max_UVM[i]))\n",
        "  uvm.append(str(feature_min_UVM[i]))\n",
        "  uvm.append(str(feature_mean_UVM[i]))\n",
        "  uvm.append(str(feature_var_UVM[i]))\n",
        "for i in uvm:\n",
        "  i.encode(encoding='UTF-8')\n",
        "writer.writerow(uvm)"
      ],
      "execution_count": 93,
      "outputs": [
        {
          "output_type": "execute_result",
          "data": {
            "text/plain": [
              "64517"
            ]
          },
          "metadata": {
            "tags": []
          },
          "execution_count": 93
        }
      ]
    },
    {
      "cell_type": "code",
      "metadata": {
        "id": "agOtW2LOmNi7"
      },
      "source": [
        "files.close()"
      ],
      "execution_count": 94,
      "outputs": []
    },
    {
      "cell_type": "markdown",
      "metadata": {
        "id": "O2tihOzZnI2Z"
      },
      "source": [
        "#plot example"
      ]
    },
    {
      "cell_type": "code",
      "metadata": {
        "id": "Xok4XODgmR0y"
      },
      "source": [
        "def feature_mean_plot(filename, feature_num, properties):\n",
        "  with open(filename,'rt') as raw_data:\n",
        "    data=np.loadtxt(raw_data,dtype=str,delimiter=',')\n",
        "  \n",
        "  cancer_distribution=[]\n",
        "  for i in range(len(data[0])):\n",
        "    if data[0][i]=='fea_'+ str(feature_num)+ '_'+ properties:\n",
        "      print(\"i={}\".format(i))\n",
        "      cancer_distribution.append(data[1:,i])\n",
        "  cancer_distribution = np.array(cancer_distribution).astype('float64')\n",
        "  print(cancer_distribution)\n",
        "  plt.plot(np.linspace(1,21,21),cancer_distribution[0],marker='^')\n",
        "  plt.show()"
      ],
      "execution_count": 161,
      "outputs": []
    },
    {
      "cell_type": "code",
      "metadata": {
        "colab": {
          "base_uri": "https://localhost:8080/",
          "height": 395
        },
        "id": "uoaI0NX8pGGl",
        "outputId": "66ebe64f-69aa-4d72-a965-f8a12b588e01"
      },
      "source": [
        "feature_mean_plot('test.csv',10,'mean')"
      ],
      "execution_count": 162,
      "outputs": [
        {
          "output_type": "stream",
          "text": [
            "i=47\n",
            "[[-1.44328993e-16  6.95594278e-18  3.94983191e-17  3.13176918e-16\n",
            "   1.63449501e-16 -8.73772673e-17 -9.10658142e-17 -1.27194843e-16\n",
            "   1.19444684e-16 -5.39873157e-17 -1.29351456e-16 -1.12658686e-17\n",
            "  -6.56936701e-17  1.62660583e-16  2.00214377e-16 -1.65033152e-17\n",
            "   3.20476749e-17  6.32129602e-18  1.36205410e-16  2.22044605e-16\n",
            "  -1.11022302e-17]]\n"
          ],
          "name": "stdout"
        },
        {
          "output_type": "display_data",
          "data": {
            "image/png": "[encoded data removed]",
            "text/plain": [
              "<Figure size 432x288 with 1 Axes>"
            ]
          },
          "metadata": {
            "tags": [],
            "needs_background": "light"
          }
        }
      ]
    },
    {
      "cell_type": "code",
      "metadata": {
        "id": "bygG5vSArcGl"
      },
      "source": [
        ""
      ],
      "execution_count": null,
      "outputs": []
    }
  ]
}