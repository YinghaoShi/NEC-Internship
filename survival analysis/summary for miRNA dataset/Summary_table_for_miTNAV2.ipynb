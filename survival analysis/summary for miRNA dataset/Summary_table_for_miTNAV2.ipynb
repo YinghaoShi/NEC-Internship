{
  "nbformat": 4,
  "nbformat_minor": 0,
  "metadata": {
    "colab": {
      "name": "Summary_table_for_miTNAV2.ipynb",
      "provenance": [],
      "collapsed_sections": []
    },
    "kernelspec": {
      "display_name": "Python 3",
      "language": "python",
      "name": "python3"
    },
    "language_info": {
      "codemirror_mode": {
        "name": "ipython",
        "version": 3
      },
      "file_extension": ".py",
      "mimetype": "text/x-python",
      "name": "python",
      "nbconvert_exporter": "python",
      "pygments_lexer": "ipython3",
      "version": "3.6.12"
    }
  },
  "cells": [
    {
      "cell_type": "code",
      "metadata": {
        "id": "DjmWN5YhP6_D"
      },
      "source": [
        "import numpy as np\n",
        "import csv\n",
        "import matplotlib.pyplot as plt\n",
        "from os import listdir\n",
        "from os.path import isfile, join\n",
        "import pandas as pd"
      ],
      "execution_count": 1,
      "outputs": []
    },
    {
      "cell_type": "markdown",
      "metadata": {
        "id": "hTJomy5G9UmA"
      },
      "source": [
        "#Gerneral Function for all"
      ]
    },
    {
      "cell_type": "code",
      "metadata": {
        "id": "QaCay69Q6Ar3"
      },
      "source": [
        "def Summary(filename):\n",
        "    with open(filename,'rt') as raw_data:\n",
        "        data=np.loadtxt(raw_data,delimiter=',')\n",
        "  \n",
        "    #count censored and uncensored number\n",
        "    censored_number=data[np.where(data[:,1]==0)].shape[0]\n",
        "    #max/min/mean survival time for censored data\n",
        "    uncensored_number=data[np.where(data[:,1]==1)].shape[0]\n",
        "\n",
        "    #max/min/mean survival time for censored data\n",
        "    temp_data =data[np.where(data[:,1]==0),:][0]\n",
        "    survival_time_max_censored = np.max(temp_data[:,0])\n",
        "    survival_time_min_censored = np.min(temp_data[:,0])\n",
        "    survival_time_mean_censored = np.mean(temp_data[:,0])\n",
        "\n",
        "\n",
        "    #max/min/mean survival time for uncensored data\n",
        "    temp_data =data[np.where(data[:,1]==1),:][0]\n",
        "    survival_time_max_uncensored = np.max(temp_data[:,0])\n",
        "    survival_time_min_uncensored = np.min(temp_data[:,0])\n",
        "    survival_time_mean_uncensored = np.mean(temp_data[:,0])\n",
        "\n",
        "\n",
        "    #max/min/mean/var feature value for all the data\n",
        "    feature_max = data.max(axis=0)\n",
        "    feature_max = np.delete(feature_max,[0,1,2])\n",
        "    feature_min = data.min(axis=0)\n",
        "    feature_min = np.delete(feature_min,[0,1,2])\n",
        "    feature_mean = data.mean(axis=0)\n",
        "    feature_mean = np.delete(feature_mean,[0,1,2])\n",
        "    feature_var = data.var(axis=0)\n",
        "    feature_var = np.delete(feature_var,[0,1,2])\n",
        "\n",
        "\n",
        "    return censored_number, uncensored_number, survival_time_max_censored, survival_time_min_censored, survival_time_mean_censored, survival_time_max_uncensored, survival_time_min_uncensored, survival_time_mean_uncensored, feature_max, feature_min, feature_mean, feature_var\n"
      ],
      "execution_count": 2,
      "outputs": []
    },
    {
      "cell_type": "code",
      "metadata": {
        "id": "ACEWhn7g6Ar3"
      },
      "source": [
        "folder = r\"E:\\git\\robust-loss\\miRNA dataset\\Raw dataset (21 types)\"\n",
        "onlyfiles = [f for f in listdir(folder) if isfile(join(folder, f)) and \".csv\" in f]\n",
        "\n"
      ],
      "execution_count": null,
      "outputs": []
    },
    {
      "cell_type": "code",
      "metadata": {
        "id": "2zsOJWyA6Ar4"
      },
      "source": [
        "for f in onlyfiles:\n",
        "    filename= folder+\"\\\\\"+f\n",
        "    censored_number, uncensored_number, survival_time_max_censored, survival_time_min_censored, survival_time_mean_censored, survival_time_max_uncensored, survival_time_min_uncensored, survival_time_mean_uncensored, feature_max, feature_min, feature_mean, feature_var= Summary(filename)\n",
        "    print(f)\n",
        "    print(\"censored_number:  {}\".format(censored_number))\n",
        "    print(\"uncensored_number:  {}\".format(uncensored_number))\n",
        "    print(\"survival_time_max_censored:  {}\".format(survival_time_max_censored))\n",
        "    print(\"survival_time_min_censored:  {}\".format(survival_time_min_censored))\n",
        "    print(\"survival_time_mean_censored:  {}\".format(survival_time_mean_censored))\n",
        "    print(\"survival_time_max_uncensored:  {}\".format(survival_time_max_uncensored))\n",
        "    print(\"survival_time_min_uncensored:  {}\".format(survival_time_min_uncensored))\n",
        "    print(\"survival_time_mean_uncensored:  {}\".format(survival_time_mean_uncensored))\n",
        "    print(\"feature_max:  {}\".format(feature_max))\n",
        "    print(\"feature_min:  {}\".format(feature_min))\n",
        "    print(\"feature_mean:  {}\".format(feature_mean))\n",
        "    print(\"feature_var:  {}\".format(feature_var))\n",
        "    print(\"###############################\")"
      ],
      "execution_count": null,
      "outputs": []
    },
    {
      "cell_type": "code",
      "metadata": {
        "id": "1sIpQI9R6Ar5"
      },
      "source": [
        "column_name=['Cancer_type','censored_count','uncensored_count','censored_survival_time_max', 'censored_survival_time_min', 'censored_survival_time_mean',\n",
        "             'uncensored_survival_time_max', 'uncensored_survival_time_min', 'uncensored_survival_time_mean']\n",
        "for i in range(1046):\n",
        "    column_name.append('fea_'+str(i+1)+'_max')\n",
        "    column_name.append('fea_'+str(i+1)+'_min')\n",
        "    column_name.append('fea_'+str(i+1)+'_mean')\n",
        "    column_name.append('fea_'+str(i+1)+'_var')\n",
        "\n",
        "df = pd.DataFrame( columns = column_name)\n",
        "for f in onlyfiles:\n",
        "    filename= folder+\"\\\\\"+f\n",
        "    censored_number, uncensored_number, survival_time_max_censored, survival_time_min_censored, survival_time_mean_censored, survival_time_max_uncensored, survival_time_min_uncensored, survival_time_mean_uncensored, feature_max, feature_min, feature_mean, feature_var= Summary(filename)\n",
        "    to_append = [f[:-4],censored_number, uncensored_number, survival_time_max_censored, survival_time_min_censored, survival_time_mean_censored, survival_time_max_uncensored, survival_time_min_uncensored, survival_time_mean_uncensored]\n",
        "    for i in range(len(feature_max)):\n",
        "      to_append.append(feature_max[i])\n",
        "      to_append.append(feature_min[i])\n",
        "      to_append.append(feature_mean[i])\n",
        "      to_append.append(feature_var[i])\n",
        "    a_series = pd.Series(to_append, index = df.columns)\n",
        "    df = df.append(a_series, ignore_index=True)\n",
        "    \n",
        "    \n"
      ],
      "execution_count": null,
      "outputs": []
    },
    {
      "cell_type": "code",
      "metadata": {
        "id": "WZmLw0n16Ar6"
      },
      "source": [
        "df"
      ],
      "execution_count": null,
      "outputs": []
    },
    {
      "cell_type": "code",
      "metadata": {
        "id": "G7Hsh4ie6Ar7"
      },
      "source": [
        "df.to_csv(\"data.csv\")"
      ],
      "execution_count": null,
      "outputs": []
    },
    {
      "cell_type": "code",
      "metadata": {
        "id": "bygG5vSArcGl"
      },
      "source": [
        "def feature_mean_plot(filename, feature_num, properties):\n",
        "  with open(filename,'rt') as raw_data:\n",
        "    data=np.loadtxt(raw_data,dtype=str,delimiter=',')\n",
        "  \n",
        "  cancer_distribution=[]\n",
        "  for i in range(len(data[0])):\n",
        "    if data[0][i]=='fea_'+ str(feature_num)+ '_'+ properties:\n",
        "      print(\"i={}\".format(i))\n",
        "      cancer_distribution.append(data[1:,i])\n",
        "  cancer_distribution = np.array(cancer_distribution).astype('float64')\n",
        "  print(cancer_distribution)\n",
        "  plt.plot(np.linspace(1,21,21),cancer_distribution[0],marker='^')\n",
        "  plt.show()"
      ],
      "execution_count": null,
      "outputs": []
    },
    {
      "cell_type": "code",
      "metadata": {
        "id": "iEOZf7hk6Ar8"
      },
      "source": [
        "feature_mean_plot('data.csv',10,'mean')"
      ],
      "execution_count": null,
      "outputs": []
    }
  ]
}