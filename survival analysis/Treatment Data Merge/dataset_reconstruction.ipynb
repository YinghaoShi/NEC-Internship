{
  "nbformat": 4,
  "nbformat_minor": 0,
  "metadata": {
    "colab": {
      "name": "dataset reconstruction.ipynb",
      "provenance": [],
      "collapsed_sections": []
    },
    "kernelspec": {
      "name": "python3",
      "display_name": "Python 3"
    },
    "language_info": {
      "name": "python"
    }
  },
  "cells": [
    {
      "cell_type": "code",
      "metadata": {
        "id": "5GPDC6Kk2qZ5"
      },
      "source": [
        "import numpy as np\n",
        "import pandas as pd"
      ],
      "execution_count": 1,
      "outputs": []
    },
    {
      "cell_type": "code",
      "metadata": {
        "id": "mWyxHI4QAC2Z"
      },
      "source": [
        "filelist=['ACC_ori', 'ACC_ori_deleted',\n",
        "          'BLCA_ori', 'BLCA_ori_deleted',\n",
        "          'BRCA_ori', 'BRCA_ori_deleted',\n",
        "          'CESC_ori', 'CESC_ori_deleted',\n",
        "          'CHOL_ori', 'CHOL_ori_deleted',\n",
        "          'ESCA_ori', 'ESCA_ori_deleted',\n",
        "          'HNSC_ori', 'HNSC_ori_deleted',\n",
        "          'KIRC_ori', 'KIRC_ori_deleted',\n",
        "          'KIRP_ori', 'KIRP_ori_deleted',\n",
        "          'LGG_ori', 'LGG_ori_deleted',\n",
        "          'LIHC_ori', 'LIHC_ori_deleted',\n",
        "          'LUAD_ori', 'LUAD_ori_deleted',\n",
        "          'LUSC_ori', 'LUSC_ori_deleted',\n",
        "          'MESO_ori', 'MESO_ori_deleted',\n",
        "          'PAAD_ori', 'PAAD_ori_deleted',\n",
        "          'SARC_ori', 'SARC_ori_deleted',\n",
        "          'SKCM_ori', 'SKCM_ori_deleted',\n",
        "          'STAD_ori', 'STAD_ori_deleted',\n",
        "          'UCEC_ori', 'UCEC_ori_deleted',\n",
        "          'UCS_ori', 'UCS_ori_deleted',\n",
        "          'UVM_ori', 'UVM_ori_deleted',]"
      ],
      "execution_count": 2,
      "outputs": []
    },
    {
      "cell_type": "code",
      "metadata": {
        "colab": {
          "base_uri": "https://localhost:8080/"
        },
        "id": "x28cRQ8Ci413",
        "outputId": "aa1a00b2-0edd-4574-e5c5-a5ffa31cb890"
      },
      "source": [
        "for filename in filelist:\n",
        "  df=pd.read_csv(filename+\".csv\")\n",
        "  data=np.array(df)\n",
        "  df_=pd.DataFrame(data=data)\n",
        "  names=globals()\n",
        "  for i in range(4,len(data[0])):\n",
        "    names['col'+str(i)]=[]\n",
        "    names['col'+str(i)+'mean']=np.mean(data[:,i])\n",
        "    names['col'+str(i)+'std']=np.std(data[:,i])\n",
        "    for j in range(len(data)):\n",
        "      x=(data[j,i]-names['col'+str(i)+'mean'])/names['col'+str(i)+'std']\n",
        "      if np.isnan(x):\n",
        "        x=0\n",
        "      names['col'+str(i)].append(x)\n",
        "  df_new=pd.DataFrame(columns=df.columns)\n",
        "  for i in range(len(data)):\n",
        "    to_append=[]\n",
        "    to_append.append(data[i,0])\n",
        "    to_append.append(data[i,1])\n",
        "    to_append.append(data[i,2])\n",
        "    to_append.append(data[i,3])\n",
        "    for j in range(4,len(data[0])):\n",
        "      to_append.append(names['col'+str(j)][i])\n",
        "    series=pd.Series(to_append,index=df_new.columns)\n",
        "    df_new=df_new.append(series,ignore_index=True)\n",
        "  df_new.to_csv(\"reconstruction_\"+filename+\".csv\",index=False)"
      ],
      "execution_count": 3,
      "outputs": [
        {
          "output_type": "stream",
          "text": [
            "/usr/local/lib/python3.7/dist-packages/ipykernel_launcher.py:11: RuntimeWarning: invalid value encountered in double_scalars\n",
            "  # This is added back by InteractiveShellApp.init_path()\n"
          ],
          "name": "stderr"
        }
      ]
    },
    {
      "cell_type": "code",
      "metadata": {
        "id": "PLq7Obr6RnHf"
      },
      "source": [
        ""
      ],
      "execution_count": null,
      "outputs": []
    }
  ]
}