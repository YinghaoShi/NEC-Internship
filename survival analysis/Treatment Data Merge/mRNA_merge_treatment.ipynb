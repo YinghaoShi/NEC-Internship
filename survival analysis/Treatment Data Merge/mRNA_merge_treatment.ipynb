{
  "nbformat": 4,
  "nbformat_minor": 0,
  "metadata": {
    "colab": {
      "name": "ACC merge.ipynb",
      "provenance": []
    },
    "kernelspec": {
      "name": "python3",
      "display_name": "Python 3"
    },
    "language_info": {
      "name": "python"
    }
  },
  "cells": [
    {
      "cell_type": "code",
      "metadata": {
        "id": "iEHpiNDhxXfP"
      },
      "source": [
        "import numpy as np\n",
        "import pandas as pd"
      ],
      "execution_count": 1,
      "outputs": []
    },
    {
      "cell_type": "code",
      "metadata": {
        "id": "RtMTMK5wJ37z"
      },
      "source": [
        "filelist=['ACC',\n",
        "          'BLCA',\n",
        "          'BRCA',\n",
        "          'CESC', \n",
        "          'CHOL', \n",
        "          'ESCA',\n",
        "          'HNSC', \n",
        "          'KIRC', \n",
        "          'KIRP', \n",
        "          'LGG', \n",
        "          'LIHC', \n",
        "          'LUAD', \n",
        "          'LUSC', \n",
        "          'MESO', \n",
        "          'PAAD', \n",
        "          'SARC', \n",
        "          'SKCM', \n",
        "          'STAD', \n",
        "          'UCEC', \n",
        "          'UCS', \n",
        "          'UVM']"
      ],
      "execution_count": 2,
      "outputs": []
    },
    {
      "cell_type": "code",
      "metadata": {
        "id": "Oe5-OWLBx5nk"
      },
      "source": [
        "for filename in filelist:  \n",
        "  df=pd.read_csv(filename + \"_treatment.csv\")\n",
        "  df_original=pd.read_csv(\"reconstruction_\"+filename+\"_ori.csv\")\n",
        "  df_new=df.loc[:,['case_submitter_id','treatment_or_therapy','treatment_type']]\n",
        "  two_level_index_series = df_new.set_index([\"case_submitter_id\", \"treatment_type\"])[\"treatment_or_therapy\"]\n",
        "  new_df= two_level_index_series.unstack()\n",
        "  new_df = new_df.rename_axis(columns=None)\n",
        "  new_df = new_df.reset_index()\n",
        "  df_merged=pd.merge(df_original,new_df,left_on='bcr',right_on='case_submitter_id')\n",
        "  df_merged.drop(['case_submitter_id'],axis=1,inplace=True)\n",
        "  df_merged.to_csv(\"merged_\"+filename+\".csv\",index=False)"
      ],
      "execution_count": 3,
      "outputs": []
    },
    {
      "cell_type": "code",
      "metadata": {
        "id": "UumHRoIiLsTl"
      },
      "source": [
        "for filename in filelist:  \n",
        "  df=pd.read_csv(filename + \"_treatment.csv\")\n",
        "  df_original=pd.read_csv(\"reconstruction_\"+filename+\"_ori_deleted.csv\")\n",
        "  df_new=df.loc[:,['case_submitter_id','treatment_or_therapy','treatment_type']]\n",
        "  two_level_index_series = df_new.set_index([\"case_submitter_id\", \"treatment_type\"])[\"treatment_or_therapy\"]\n",
        "  new_df= two_level_index_series.unstack()\n",
        "  new_df = new_df.rename_axis(columns=None)\n",
        "  new_df = new_df.reset_index()\n",
        "  df_merged=pd.merge(df_original,new_df,left_on='bcr',right_on='case_submitter_id')\n",
        "  df_merged.drop(['case_submitter_id'],axis=1,inplace=True)\n",
        "  df_merged.to_csv(\"merged_\"+filename+\"_deleted.csv\",index=False)"
      ],
      "execution_count": 4,
      "outputs": []
    }
  ]
}