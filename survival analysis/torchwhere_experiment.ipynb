{
  "nbformat": 4,
  "nbformat_minor": 0,
  "metadata": {
    "colab": {
      "name": "torchwhere_experiment.ipynb",
      "provenance": []
    },
    "kernelspec": {
      "name": "python3",
      "display_name": "Python 3"
    },
    "language_info": {
      "name": "python"
    }
  },
  "cells": [
    {
      "cell_type": "code",
      "metadata": {
        "id": "u3VIwe3-kaFL"
      },
      "source": [
        "import torch"
      ],
      "execution_count": 1,
      "outputs": []
    },
    {
      "cell_type": "code",
      "metadata": {
        "id": "By-QEbbDqNn3"
      },
      "source": [
        "a = torch.tensor(3.0, requires_grad=True)\n",
        "b = torch.tensor(4.0, requires_grad=True)\n",
        "c = a+b\n",
        "c.retain_grad()\n",
        "d = b+1\n",
        "d.retain_grad()\n",
        "e = c*d\n",
        "e.backward()"
      ],
      "execution_count": 2,
      "outputs": []
    },
    {
      "cell_type": "code",
      "metadata": {
        "colab": {
          "base_uri": "https://localhost:8080/"
        },
        "id": "xV_ajF9Fq2K2",
        "outputId": "99627e21-9bf6-4ebb-cac1-423a183087be"
      },
      "source": [
        "print(a.grad)\n",
        "print(b.grad)\n",
        "print(c.grad)\n",
        "print(d.grad)"
      ],
      "execution_count": 3,
      "outputs": [
        {
          "output_type": "stream",
          "text": [
            "tensor(5.)\n",
            "tensor(12.)\n",
            "tensor(5.)\n",
            "tensor(7.)\n"
          ],
          "name": "stdout"
        }
      ]
    },
    {
      "cell_type": "code",
      "metadata": {
        "colab": {
          "base_uri": "https://localhost:8080/"
        },
        "id": "I6MxTFMLq7Gr",
        "outputId": "3fce4289-bc18-4e53-b7b3-0775a9a47abe"
      },
      "source": [
        "a = torch.tensor(3.0, requires_grad=True)\n",
        "b = torch.tensor(4.0, requires_grad=True)\n",
        "c = torch.tensor(a+b,requires_grad=True)\n",
        "c.retain_grad()\n",
        "c1 = torch.tensor(torch.where(c<torch.tensor(5.0),torch.tensor(5.0),torch.tensor(1.0)),requires_grad=True)\n",
        "c1.retain_grad()\n",
        "d = b+1\n",
        "d.retain_grad()\n",
        "e = c1*d\n",
        "e.backward()"
      ],
      "execution_count": 8,
      "outputs": [
        {
          "output_type": "stream",
          "text": [
            "/usr/local/lib/python3.7/dist-packages/ipykernel_launcher.py:3: UserWarning: To copy construct from a tensor, it is recommended to use sourceTensor.clone().detach() or sourceTensor.clone().detach().requires_grad_(True), rather than torch.tensor(sourceTensor).\n",
            "  This is separate from the ipykernel package so we can avoid doing imports until\n",
            "/usr/local/lib/python3.7/dist-packages/ipykernel_launcher.py:5: UserWarning: To copy construct from a tensor, it is recommended to use sourceTensor.clone().detach() or sourceTensor.clone().detach().requires_grad_(True), rather than torch.tensor(sourceTensor).\n",
            "  \"\"\"\n"
          ],
          "name": "stderr"
        }
      ]
    },
    {
      "cell_type": "code",
      "metadata": {
        "colab": {
          "base_uri": "https://localhost:8080/"
        },
        "id": "HnAGW_J7spVv",
        "outputId": "1d0dd6b5-0a2a-4a8f-f6ba-e146211e83c0"
      },
      "source": [
        "print(a.grad)\n",
        "print(b.grad)\n",
        "print(c.grad)\n",
        "print(c1.grad)\n",
        "print(d.grad)"
      ],
      "execution_count": 9,
      "outputs": [
        {
          "output_type": "stream",
          "text": [
            "None\n",
            "tensor(1.)\n",
            "None\n",
            "tensor(5.)\n",
            "tensor(1.)\n"
          ],
          "name": "stdout"
        }
      ]
    },
    {
      "cell_type": "code",
      "metadata": {
        "id": "MSye6L_tuQ-T"
      },
      "source": [
        ""
      ],
      "execution_count": null,
      "outputs": []
    }
  ]
}