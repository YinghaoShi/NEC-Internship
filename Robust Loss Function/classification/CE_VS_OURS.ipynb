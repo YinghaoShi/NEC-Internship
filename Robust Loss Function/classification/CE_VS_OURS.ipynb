{
  "nbformat": 4,
  "nbformat_minor": 0,
  "metadata": {
    "colab": {
      "name": "CE VS OURS.ipynb",
      "provenance": [],
      "collapsed_sections": []
    },
    "kernelspec": {
      "display_name": "Python 3",
      "language": "python",
      "name": "python3"
    },
    "language_info": {
      "codemirror_mode": {
        "name": "ipython",
        "version": 3
      },
      "file_extension": ".py",
      "mimetype": "text/x-python",
      "name": "python",
      "nbconvert_exporter": "python",
      "pygments_lexer": "ipython3",
      "version": "3.6.12"
    }
  },
  "cells": [
    {
      "cell_type": "code",
      "metadata": {
        "id": "ExigCpjEsCYU"
      },
      "source": [
        "import torch\n",
        "import torch.nn.functional as F\n",
        "import matplotlib.pyplot as plt\n",
        "import torch.utils.data as Data\n",
        "import numpy as np\n",
        "from sklearn.datasets import make_classification\n",
        "from torch.autograd import Variable\n",
        "from sklearn.datasets import make_classification\n",
        "from sklearn.preprocessing import StandardScaler\n",
        "from sklearn.model_selection import train_test_split\n",
        "import pdb"
      ],
      "execution_count": 1,
      "outputs": []
    },
    {
      "cell_type": "code",
      "metadata": {
        "id": "oTmqN0cSsZjJ"
      },
      "source": [
        "def cov(x, rowvar=False, bias=False, ddof=None, aweights=None):\n",
        "    \"\"\"Estimates covariance matrix like numpy.cov\"\"\"\n",
        "    # ensure at least 2D\n",
        "    if x.dim() == 1:\n",
        "        x = x.view(-1, 1)\n",
        "\n",
        "    # treat each column as a data point, each row as a variable\n",
        "    if rowvar and x.shape[0] != 1:\n",
        "        x = x.t()   #tensor.t()矩阵的转置\n",
        "\n",
        "    if ddof is None:\n",
        "        if bias == 0:\n",
        "            ddof = 1\n",
        "        else:\n",
        "            ddof = 0\n",
        "\n",
        "    w = aweights\n",
        "    if w is not None:\n",
        "        if not torch.is_tensor(w):\n",
        "            w = torch.tensor(w, dtype=torch.float)\n",
        "        w_sum = torch.sum(w)\n",
        "        avg = torch.sum(x * (w/w_sum)[:,None], 0)\n",
        "    else:\n",
        "        avg = torch.mean(x, 0)  #torch.mean(x,0) 例子：[4,3]的矩阵对列求和取均值结果为[1,3]的矩阵\n",
        "\n",
        "    # Determine the normalization\n",
        "    if w is None:\n",
        "        fact = x.shape[0] - ddof\n",
        "    elif ddof == 0:\n",
        "        fact = w_sum\n",
        "    elif aweights is None:\n",
        "        fact = w_sum - ddof\n",
        "    else:\n",
        "        fact = w_sum - ddof * torch.sum(w * w) / w_sum\n",
        "\n",
        "    xm = x.sub(avg.expand_as(x))  # tensor下，a=b.sub(c)为a=b-c #x=x.expand_as(y)将x扩展为和y一样的维度  例子：如果x为大小为[1,3]的矩阵，y为[4,3]的矩阵，则拓展后x大小也为[4,3]，且同一列的数值都一样\n",
        "\n",
        "    if w is None:\n",
        "        X_T = xm.t()\n",
        "    else:\n",
        "        X_T = torch.mm(torch.diag(w), xm).t()\n",
        "\n",
        "    c = torch.mm(X_T, xm)\n",
        "    c = c / fact\n",
        "\n",
        "    return c.squeeze() #tensor.squeeze()去掉维度中为1的维度 例子：大小为[1,2,1,3]会变为[2,3]\n",
        "\n",
        "#协方差的求解步骤：(1)对x的每一列求均值   avg=torch.mean(x,0)\n",
        "#               (2)对x的每一行减去均值   y=x.sub(avg.expand_as(x))\n",
        "#               (3)cov=1/(m-1)*y.t()*y\n",
        "\n",
        "\n",
        "def cov_x_y(x,y):\n",
        "    #y = y.view(-1,1)  #tensor增加第二维的方法\n",
        "    x_y = torch.cat((y,x),dim=1) #torch.cat((a,b),0)就是横着拼，得保证列维度相同，所以0就是表示改变的是第一个维度；同理，torch((a,b),1)就是竖着拼，改变的是第二个维度\n",
        "    #a=torch.diag_embed(torch.rand(x_y.shape[1]))\n",
        "    result=cov(x_y)\n",
        "    #print(result.shape)\n",
        "    #print(result)\n",
        "    return result\n",
        "\n",
        "\n",
        "\n",
        "def loss_function(x,y_true,y_pred):\n",
        "    #pdb.set_trace()\n",
        "    cov_true = cov_x_y(x,y_true)\n",
        "    cov_estimate = cov_x_y(x,y_pred)\n",
        "    \n",
        "    #divergence between cov_true and cov_estimate\n",
        "    diff_logm_1 = logm(cov_true)-logm(cov_estimate)\n",
        "    inner_first_term_1 = torch.mm(cov_true, diff_logm_1)\n",
        "    div_1 = torch.trace(inner_first_term_1-cov_true+cov_estimate)\n",
        "    \n",
        "    #divergence between cov_estimate and cov_true\n",
        "    diff_logm_2 = logm(cov_estimate)-logm(cov_true)\n",
        "    inner_first_term_2 = torch.mm(cov_estimate, diff_logm_2)\n",
        "    div_2 = torch.trace(inner_first_term_2-cov_estimate+cov_true)\n",
        "    \n",
        "    div_total = div_1+div_2\n",
        "    return div_total\n",
        "\n",
        "\n",
        "\n",
        "def torch_von_Neumann_divergence(A,B):        \n",
        "    #Divergence = np.trace(np.dot(A, logm(A)) - np.dot(A, logm(B)) - A + B)\n",
        "    dev = A.device \n",
        "    \n",
        "    A = A + torch.diag(torch.rand(A.size()[0],device=dev).uniform_(0.0000001, 0.00001))\n",
        "    B = B + torch.diag(torch.rand(B.size()[0],device=dev).uniform_(0.0000001, 0.00001))\n",
        "\n",
        "\n",
        "    Aeig_val, Aeig_vec = torch.symeig(A,True)    \n",
        "    Beig_val, Beig_vec = torch.symeig(B,True)   \n",
        "    \n",
        "    Aeig_val, Beig_val = Aeig_val.abs(), Beig_val.abs()\n",
        "    #A_val_temp, B_val_temp = Aeig_val.clone(), Beig_val.clone()\n",
        "\n",
        "    z = torch.zeros(Aeig_val.shape, device=dev)\n",
        "    o = torch.ones(Aeig_val.shape, device=dev)\n",
        "    #Aeig_val = torch.where(Aeig_val<1e-7,z,Aeig_val)\n",
        "    #Beig_val = torch.where(Beig_val<1e-7,z,Beig_val)\n",
        "    A_val_temp, B_val_temp = Aeig_val.clone(), Beig_val.clone()\n",
        "    A_val_temp = torch.where(A_val_temp<=0,o,A_val_temp) #torch.where合并o和A_Val_temp，即将A中小于等于0的元素用0代替\n",
        "    B_val_temp = torch.where(B_val_temp<=0,o,B_val_temp)\n",
        "\n",
        "    \n",
        "    part1 = torch.sum(Aeig_val * torch.log(A_val_temp)   - Aeig_val + Beig_val) #矩阵的迹等于矩阵的特征值之和，对角矩阵的特征值等于对角线各元素\n",
        "    lambda_log_theta = Aeig_val.unsqueeze(0).T *torch.log(B_val_temp.unsqueeze(0))\n",
        "    part2 = (torch.matmul(Aeig_vec.T, Beig_vec)**2) * lambda_log_theta\n",
        "    part2 = -part2.sum()\n",
        "\n",
        "    Divergence = part1 + part2\n",
        "    #print(\"time used for computing vm divergence {}\".format(t2-t1))\n",
        "\n",
        "    return Divergence\n",
        "\n",
        "def loss_function_TRE(x,y_true,y_pred):\n",
        "    #pdb.set_trace()\n",
        "    cov_true = cov_x_y(x,y_true)\n",
        "    cov_estimate = cov_x_y(x,y_pred)\n",
        "    \n",
        "    loss = torch_von_Neumann_divergence(cov_true,cov_estimate)+torch_von_Neumann_divergence(cov_estimate,cov_true)\n",
        "    return loss\n"
      ],
      "execution_count": 2,
      "outputs": []
    },
    {
      "cell_type": "code",
      "metadata": {
        "id": "xe17AoZCvk-K"
      },
      "source": [
        "def train_generator(x_train,y_train):\n",
        "    datasets = torch.utils.data.TensorDataset(x_train, y_train)\n",
        "    train_iter = torch.utils.data.DataLoader(datasets, batch_size=20, shuffle=False)\n",
        "    return train_iter"
      ],
      "execution_count": 3,
      "outputs": []
    },
    {
      "cell_type": "code",
      "metadata": {
        "id": "D4ZLUQAlvoHK"
      },
      "source": [
        "noise_rate_choice=[0,0.1,0.2,0.3,0.4,0.5,0.6,0.7,0.8,0.9,1.0]\n",
        "#noise_rate_choice=[1]"
      ],
      "execution_count": 4,
      "outputs": []
    },
    {
      "cell_type": "code",
      "metadata": {
        "id": "YLKQ3lqevp2m"
      },
      "source": [
        "class Net(torch.nn.Module):\n",
        "    def __init__(self, n_feature, n_output):\n",
        "        super(Net, self).__init__()\n",
        "        self.hidden_1= torch.nn.Linear(n_feature,64)   # hidden layer\n",
        "        self.hidden_2 = torch.nn.Linear(64, 32)   # output layer\n",
        "        #self.hidden_3 = torch.nn.Linear(32, 16)\n",
        "        self.predict = torch.nn.Linear(32,n_output)\n",
        "        #self.bat_1=torch.nn.BatchNorm1d(256)\n",
        "        #self.bat_2=torch.nn.BatchNorm1d(128)\n",
        "        #self.bat_3=torch.nn.BatchNorm1d(64)\n",
        "        self.do=torch.nn.Dropout(0.5)\n",
        "\n",
        "    def forward(self, x):\n",
        "        x =torch.tanh(self.hidden_1(x))# activation function for hidden layer\n",
        "        x =torch.tanh(self.hidden_2(x))\n",
        "        #x =torch.tanh(self.hidden_3(x))\n",
        "        #x=self.do(x)\n",
        "        x = self.predict(x)             # linear output\n",
        "        return x"
      ],
      "execution_count": 5,
      "outputs": []
    },
    {
      "cell_type": "code",
      "metadata": {
        "id": "X1IopPLgbaMW"
      },
      "source": [
        "def flip(Y, n_classes, flip_perc, circular_flip = True):\n",
        "    Y = Y.copy()\n",
        "    n, p, size = n_classes-1, flip_perc, Y.shape[0] \n",
        "    flip_vector = np.random.binomial(n, p, size)\n",
        "\n",
        "    if circular_flip:\n",
        "        Y[flip_vector==1] +=1\n",
        "        Y[flip_vector==1] = Y[flip_vector==1]%n_classes\n",
        "    else:\n",
        "        new_Classes = np.random.randint(low=0, high= (n_classes-1), size=sum(flip_vector))\n",
        "        new_Classes[Y[flip_vector==1]==new_Classes] =n_classes-1\n",
        "        Y[flip_vector==1]=new_Classes\n",
        "    return Y"
      ],
      "execution_count": 6,
      "outputs": []
    },
    {
      "cell_type": "code",
      "metadata": {
        "id": "N9k26vUhw2iY"
      },
      "source": [
        "def main(data,labels,number,epochs,noise):\n",
        "  n_classes=2  \n",
        "\n",
        "  loss_total_ours=[[0]*number for _ in range(len(noise))]\n",
        "  loss_total_ce=[[0]*number for _ in range(len(noise))]\n",
        "  mean_loss_ours=[[0] for _ in range(len(noise))]\n",
        "  mean_loss_ce=[[0] for _ in range(len(noise))]\n",
        "\n",
        "  for index in range(len(noise)):\n",
        "    torch.manual_seed(4)  \n",
        "\n",
        "    #generate training data and test data   \n",
        "    X,Y = make_classification(n_samples=1200,\n",
        "        n_features=3, n_informative=3,n_redundant=0, n_repeated=0, n_classes=n_classes, n_clusters_per_class=1,class_sep=1,\n",
        "                                          flip_y=0,weights=[0.5,0.5], random_state=4)\n",
        "\n",
        "    x_train,y_train = X[:1000,:] , Y[:1000] \n",
        "    x_test,y_test = X[1000:,:] , Y[1000:] \n",
        "    \n",
        "    y_train = flip(y_train,n_classes,flip_perc=noise[index],circular_flip=True)\n",
        "    \n",
        "    #transfer numpy to torch\n",
        "    x_test=torch.from_numpy(x_test).float()\n",
        "    y_test=torch.from_numpy(y_test).float()\n",
        "\n",
        "    x_train=torch.from_numpy(x_train).float()\n",
        "    y_train=torch.from_numpy(y_train).float()\n",
        "\n",
        "    #training loop for ours   \n",
        "    net_ours = Net(n_feature=x_train.shape[1], n_output=n_classes)     # define the network\n",
        "    print(\"ours noise level:{}\".format(noise[index]))  # net architecture\n",
        "    optimizer_ours= torch.optim.Adam(net_ours.parameters(), lr=0.0001)\n",
        "    sm=torch.nn.Softmax(dim=1)\n",
        "\n",
        "    for num in range(number):\n",
        "      net_ours.train()\n",
        "      for epoch in range(epochs):\n",
        "        for inputs,labels in train_generator(x_train,y_train):\n",
        "          prediction = net_ours(inputs)     # input x and predict based on x \n",
        "          train_pred = sm(prediction)\n",
        "          label_one_hot=torch.nn.functional.one_hot(labels.to(torch.int64),num_classes=2).long()\n",
        "          loss = loss_function_TRE(inputs,label_one_hot,train_pred)   # must be (1. nn output, 2. target)\n",
        "          optimizer_ours.zero_grad()   # clear gradients for next train\n",
        "          loss.backward()         # backpropagation, compute gradients\n",
        "          optimizer_ours.step()        # apply gradients\n",
        "        \n",
        "      #evaluate the performance on test dataset\n",
        "      net_ours.eval()\n",
        "      output_ours=net_ours(x_test)\n",
        "      _,test_pred_ours=output_ours.max(1)\n",
        "      correct_ours=test_pred_ours.eq(y_test.long()).sum()\n",
        "      loss_total_ours[index][num]=100. *correct_ours/x_test.shape[0]\n",
        "    \n",
        "    #training loop for ce\n",
        "    net_ce = Net(n_feature=x_train.shape[1], n_output=n_classes)     # define the network\n",
        "    print(\"ce noise level:{}\".format(noise[index])) # net architecture\n",
        "    optimizer_ce= torch.optim.Adam(net_ce.parameters(), lr=0.0001)\n",
        "    loss_ce = torch.nn.CrossEntropyLoss()  # this is for regression mean squared loss\n",
        "    \n",
        "    for num in range(number):\n",
        "      net_ce.train()\n",
        "      for epoch in range(epochs):\n",
        "        for inputs,labels in train_generator(x_train,y_train):\n",
        "          prediction = net_ce(inputs)     # input x and predict based on x\n",
        "          loss = loss_ce(prediction,labels.long())\n",
        "          optimizer_ce.zero_grad()   # clear gradients for next train\n",
        "          loss.backward()         # backpropagation, compute gradients\n",
        "          optimizer_ce.step()        # apply gradients\n",
        "\n",
        "      net_ce.eval()\n",
        "      output_ce=net_ce(x_test)\n",
        "      _,test_pred_ce=output_ce.max(1)\n",
        "      correct_ce=test_pred_ce.eq(y_test.long()).sum()\n",
        "      loss_total_ce[index][num]=100. *correct_ce/x_test.shape[0]\n",
        "    \n",
        "  #get the mean loss over number\n",
        "  for row in range(len(noise)):\n",
        "    mean_loss_ours[row]=torch.mean(torch.Tensor(loss_total_ours[row][:]))\n",
        "  \n",
        "  for row in range(len(noise)):\n",
        "    mean_loss_ce[row]=torch.mean(torch.Tensor(loss_total_ce[row][:]))\n",
        "    \n",
        "  print(mean_loss_ours)\n",
        "  print(mean_loss_ce)\n",
        "  plt.plot(noise_rate_choice,mean_loss_ours,'r-',lw=2,label='ours')\n",
        "  plt.plot(noise_rate_choice,mean_loss_ce,'b-',lw=2,label='ce')\n",
        "  plt.xlabel('noise_level')\n",
        "  plt.ylabel('accuracy')\n",
        "  plt.legend()\n",
        "  plt.show()"
      ],
      "execution_count": 8,
      "outputs": []
    },
    {
      "cell_type": "code",
      "metadata": {
        "colab": {
          "base_uri": "https://localhost:8080/",
          "height": 690
        },
        "id": "6QKtCuW_baMa",
        "outputId": "2b86a3ea-3ec3-47ab-b5d7-f422bf1e22a6"
      },
      "source": [
        "main(None,None,1,200,noise_rate_choice)"
      ],
      "execution_count": 9,
      "outputs": [
        {
          "output_type": "stream",
          "text": [
            "ours noise level:0\n",
            "ce noise level:0\n",
            "ours noise level:0.1\n",
            "ce noise level:0.1\n",
            "ours noise level:0.2\n",
            "ce noise level:0.2\n",
            "ours noise level:0.3\n",
            "ce noise level:0.3\n",
            "ours noise level:0.4\n",
            "ce noise level:0.4\n",
            "ours noise level:0.5\n",
            "ce noise level:0.5\n",
            "ours noise level:0.6\n",
            "ce noise level:0.6\n",
            "ours noise level:0.7\n",
            "ce noise level:0.7\n",
            "ours noise level:0.8\n",
            "ce noise level:0.8\n",
            "ours noise level:0.9\n",
            "ce noise level:0.9\n",
            "ours noise level:1.0\n",
            "ce noise level:1.0\n",
            "[tensor(93.5000), tensor(81.), tensor(72.5000), tensor(68.5000), tensor(64.), tensor(54.), tensor(36.5000), tensor(29.5000), tensor(24.5000), tensor(22.5000), tensor(6.5000)]\n",
            "[tensor(96.5000), tensor(94.), tensor(94.), tensor(94.5000), tensor(90.), tensor(76.5000), tensor(9.5000), tensor(8.5000), tensor(6.), tensor(5.5000), tensor(4.)]\n"
          ],
          "name": "stdout"
        },
        {
          "output_type": "display_data",
          "data": {
            "image/png": "[encoded data removed]",
            "text/plain": [
              "<Figure size 432x288 with 1 Axes>"
            ]
          },
          "metadata": {
            "tags": [],
            "needs_background": "light"
          }
        }
      ]
    },
    {
      "cell_type": "code",
      "metadata": {
        "id": "W0PdDip7baMb"
      },
      "source": [
        ""
      ],
      "execution_count": null,
      "outputs": []
    },
    {
      "cell_type": "code",
      "metadata": {
        "id": "1wpMBF57baMb"
      },
      "source": [
        ""
      ],
      "execution_count": null,
      "outputs": []
    },
    {
      "cell_type": "code",
      "metadata": {
        "id": "UXyNPc3fbaMb"
      },
      "source": [
        ""
      ],
      "execution_count": null,
      "outputs": []
    },
    {
      "cell_type": "code",
      "metadata": {
        "id": "TmAiAHdHbaMc"
      },
      "source": [
        ""
      ],
      "execution_count": null,
      "outputs": []
    },
    {
      "cell_type": "code",
      "metadata": {
        "id": "NqvKOEmgbaMc"
      },
      "source": [
        ""
      ],
      "execution_count": null,
      "outputs": []
    },
    {
      "cell_type": "code",
      "metadata": {
        "id": "hhImnO6XbaMc"
      },
      "source": [
        ""
      ],
      "execution_count": null,
      "outputs": []
    },
    {
      "cell_type": "code",
      "metadata": {
        "id": "DGL5POSObaMc"
      },
      "source": [
        ""
      ],
      "execution_count": null,
      "outputs": []
    }
  ]
}