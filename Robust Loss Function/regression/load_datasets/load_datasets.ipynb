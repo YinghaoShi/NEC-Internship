{
  "nbformat": 4,
  "nbformat_minor": 0,
  "metadata": {
    "colab": {
      "name": "load_datasets.ipynb",
      "provenance": []
    },
    "kernelspec": {
      "name": "python3",
      "display_name": "Python 3"
    },
    "language_info": {
      "name": "python"
    }
  },
  "cells": [
    {
      "cell_type": "code",
      "metadata": {
        "id": "qRk0PZulyO8D"
      },
      "source": [
        "import numpy as np\n",
        "import pandas as pd\n",
        "from sklearn.datasets import load_boston\n",
        "from sklearn.datasets import load_diabetes"
      ],
      "execution_count": 1,
      "outputs": []
    },
    {
      "cell_type": "code",
      "metadata": {
        "id": "YofXo3XG0giG"
      },
      "source": [
        "def load_datasets(dataset):\n",
        "  if dataset==1:\n",
        "    x, y = load_boston(return_X_y=True)\n",
        "  if dataset==2:\n",
        "    x, y = load_diabetes(return_X_y=True)\n",
        "  if dataset==3:\n",
        "    data = pd.read_csv('kc_house_data.csv')\n",
        "    features =[\"floors\", \"waterfront\",\"lat\" ,\"bedrooms\" ,\"sqft_basement\" ,\"view\" ,\"bathrooms\",\"sqft_living15\",\"sqft_above\",\"grade\",\"sqft_living\"]  \n",
        "    x = np.array(data[features])\n",
        "    y = np.array(data.price)\n",
        "  if dataset==4:\n",
        "    data = pd.read_csv('ENB2012_data.csv')\n",
        "    features =['X1','X2', 'X3', 'X4', 'X5', 'X6', 'X7', 'X8']\n",
        "    x = np.array(data[features])\n",
        "    y = np.array(data.Y1)\n",
        "  return x,y  "
      ],
      "execution_count": 2,
      "outputs": []
    }
  ]
}