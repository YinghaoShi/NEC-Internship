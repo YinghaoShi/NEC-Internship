{
  "nbformat": 4,
  "nbformat_minor": 0,
  "metadata": {
    "colab": {
      "name": "Untitled8.ipynb",
      "provenance": []
    },
    "kernelspec": {
      "name": "python3",
      "display_name": "Python 3"
    },
    "language_info": {
      "name": "python"
    }
  },
  "cells": [
    {
      "cell_type": "code",
      "metadata": {
        "id": "kYaskc-ol2E5"
      },
      "source": [
        "import numpy as np"
      ],
      "execution_count": 1,
      "outputs": []
    },
    {
      "cell_type": "code",
      "metadata": {
        "id": "NY6Fb2tplkgU"
      },
      "source": [
        "def diagnal_degree(A):\n",
        "  d = len(A)\n",
        "  r1 = np.arange(1,d+1)\n",
        "  r2 = np.array([i**2 for i in r1])\n",
        "  j = np.ones(d)\n",
        "  n = np.matmul(np.matmul(j,A),j.transpose())\n",
        "  sumx = np.matmul(np.matmul(r1,A),j.transpose())\n",
        "  sumy = np.matmul(np.matmul(j,A),r1.transpose())\n",
        "  sumxs = np.matmul(np.matmul(r2,A),j.transpose())\n",
        "  sumys = np.matmul(np.matmul(j,A),r2.transpose())\n",
        "  sumxy = np.matmul(np.matmul(r1,A),r1.transpose())\n",
        "  r = (n*sumxy-sumx*sumy)/(np.sqrt(n*sumxs-(sumx)**2)*np.sqrt(n*sumys-(sumy)**2))\n",
        "  return r"
      ],
      "execution_count": 2,
      "outputs": []
    },
    {
      "cell_type": "code",
      "metadata": {
        "id": "Vq7uSvuImt3D"
      },
      "source": [
        "example1 = np.matrix([[1,0,0,0],\n",
        "           [0,5,0,0],\n",
        "           [0,0,30.5,0],\n",
        "           [0,0,0,3.14]])"
      ],
      "execution_count": 3,
      "outputs": []
    },
    {
      "cell_type": "code",
      "metadata": {
        "id": "5SVVnOhbr37S"
      },
      "source": [
        "example2 = np.matrix([[6,1,0],\n",
        "                      [1,5,2],\n",
        "                      [1,3,6]])"
      ],
      "execution_count": 4,
      "outputs": []
    },
    {
      "cell_type": "code",
      "metadata": {
        "colab": {
          "base_uri": "https://localhost:8080/"
        },
        "id": "I61QtYRkopww",
        "outputId": "6ec322f7-8208-435a-b437-07641ac9a7ea"
      },
      "source": [
        "result1 = diagnal_degree(example1)\n",
        "result1"
      ],
      "execution_count": 5,
      "outputs": [
        {
          "output_type": "execute_result",
          "data": {
            "text/plain": [
              "matrix([[1.]])"
            ]
          },
          "metadata": {
            "tags": []
          },
          "execution_count": 5
        }
      ]
    },
    {
      "cell_type": "code",
      "metadata": {
        "colab": {
          "base_uri": "https://localhost:8080/"
        },
        "id": "WpkOhz7rsvcS",
        "outputId": "cdddbd4e-f243-42a4-9bb1-092c80c38707"
      },
      "source": [
        "result2 = diagnal_degree(example2)\n",
        "result2"
      ],
      "execution_count": 6,
      "outputs": [
        {
          "output_type": "execute_result",
          "data": {
            "text/plain": [
              "matrix([[0.67414921]])"
            ]
          },
          "metadata": {
            "tags": []
          },
          "execution_count": 6
        }
      ]
    },
    {
      "cell_type": "code",
      "metadata": {
        "id": "Yon5ZJygs9Tg"
      },
      "source": [
        ""
      ],
      "execution_count": null,
      "outputs": []
    }
  ]
}