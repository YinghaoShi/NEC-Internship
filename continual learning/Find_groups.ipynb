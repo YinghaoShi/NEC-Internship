{
  "nbformat": 4,
  "nbformat_minor": 0,
  "metadata": {
    "colab": {
      "name": "Find_groups.ipynb",
      "provenance": [],
      "collapsed_sections": []
    },
    "kernelspec": {
      "name": "python3",
      "display_name": "Python 3"
    },
    "language_info": {
      "name": "python"
    }
  },
  "cells": [
    {
      "cell_type": "code",
      "metadata": {
        "id": "8lQVfWlB3ncP"
      },
      "source": [
        "import torch\n",
        "import numpy as np\n",
        "from types import SimpleNamespace\n",
        "import torch.nn.functional as F"
      ],
      "execution_count": 1,
      "outputs": []
    },
    {
      "cell_type": "code",
      "metadata": {
        "id": "42pneA083POm"
      },
      "source": [
        "class Net(torch.nn.Module):\n",
        "    def __init__(self, n_feature, n_output):\n",
        "        super(Net, self).__init__()\n",
        "        self.hidden_1= torch.nn.Linear(n_feature,50)\n",
        "        self.hidden_2 = torch.nn.Linear(50,30)\n",
        "        self.predict = torch.nn.Linear(30,n_output)\n",
        "\n",
        "    def forward(self, x):\n",
        "        x = F.relu(self.hidden_1(x))\n",
        "        x = F.relu(self.hidden_2(x))\n",
        "        x = self.predict(x)\n",
        "        return x"
      ],
      "execution_count": 2,
      "outputs": []
    },
    {
      "cell_type": "code",
      "metadata": {
        "id": "7GTg66HS8Npp"
      },
      "source": [
        "#data generation\n",
        "torch.manual_seed(4) \n",
        "x_train = torch.unsqueeze(torch.linspace(-1, 1, 1000), dim=1)  # x data (tensor), shape=(100, 1)\n",
        "y_train = x_train.pow(2) \n",
        "\n",
        "#training loop for MSE\n",
        "net_mse = Net(n_feature=x_train.shape[1], n_output=1)     # define the network\n",
        "optimizer = torch.optim.Adam(net_mse.parameters(), lr=0.0005)\n",
        "loss_func = torch.nn.MSELoss()  # this is for regression mean squared loss\n",
        "\n",
        "for epoch in range(100):\n",
        "  prediction = net_mse(x_train)     # input x and predict based on x\n",
        "  loss = loss_func(prediction,y_train)\n",
        "  optimizer.zero_grad()   # clear gradients for next train\n",
        "  loss.backward()         # backpropagation, compute gradients\n",
        "  optimizer.step()        # apply gradients"
      ],
      "execution_count": 3,
      "outputs": []
    },
    {
      "cell_type": "code",
      "metadata": {
        "id": "jMggL3in2x8k"
      },
      "source": [
        "def find_groups(args,W_ij_ab,W_ij_bc,debug=False):\n",
        "    \n",
        "    A = (np.abs(W_ij_ab) > args.xi).astype(int)  #设置A值（大于某阈值为1）\n",
        "    B = (np.abs(W_ij_bc) > args.xi).astype(int)  #设置B值（大于某阈值为1）\n",
        "  \n",
        "    layer_a, layer_b, layer_c = W_ij_ab.shape[0], W_ij_ab.shape[1], W_ij_bc.shape[1] #上中下层\n",
        "    #print(\"layer_a:{}\".format(layer_a))\n",
        "    #print(\"layer_b:{}\".format(layer_b))\n",
        "    #print(\"layer_c:{}\".format(layer_c))\n",
        "\n",
        "    #print(\"A:{}\".format(A.shape))\n",
        "    #print(\"B:{}\".format(B.shape))\n",
        "\n",
        "    \n",
        "    q_kc = np.random.dirichlet(np.ones(args.c),size=layer_b) #从dirichelet分布中抽取样本初始化q_kc，return的size为（size，k）\n",
        "    prev = q_kc\n",
        "    #print(\"prev:{}\".format(prev))\n",
        "    diff=0\n",
        "\n",
        "    for t in range(args.iterations):\n",
        "        #print(np.argmax(q_kc,axis=1))\n",
        "        #Eq 8\n",
        "        Pi = q_kc.sum(axis=0)/q_kc.shape[0]\n",
        "\n",
        "        tau_a = A.dot(q_kc)\n",
        "        tau_a = (tau_a/tau_a.sum(axis=0,keepdims=True))\n",
        "\n",
        "        tau_b = q_kc.transpose().dot(B).transpose()\n",
        "        tau_b = (tau_b/tau_b.sum(axis=0,keepdims=True))\n",
        "\n",
        "\n",
        "        #shape check\n",
        "        #print(\"Pi:{}\".format(Pi.shape)) #(3,)\n",
        "        #print(\"tau_a:{}\".format(tau_a.shape)) #(1,3)\n",
        "        #print(\"tau_b:{}\".format(tau_b.shape))  #(30,3)\n",
        "        #print(\"first part shape:{}\".format(np.prod(tau_b[:,1:2]**B.transpose(),axis=0).shape)) #(50,)\n",
        "        #print(\"second part shape:{}\".format(np.prod(tau_a[:,1:2]**A,axis=0).shape))  #(50,)\n",
        "        #print(\"pi something:{}\".format(Pi[1].shape)) #（ ）\n",
        "        #print(\"log part b:{}\".format(np.sum(np.log(tau_b[:,1:2]**B.transpose()),axis=0).shape)) #(50,)\n",
        "        #print(\"log part a:{}\".format(np.sum(np.log(tau_a[:,1:2]**A),axis=0).shape)) #(50,)\n",
        "        #print(\"log part multi:{}\".format((Pi[1]*np.multiply(np.prod(tau_a[:,1:2]**A,axis=0), np.prod(tau_b[:,1:2]**B.transpose(),axis=0))).shape))\n",
        "          \n",
        "\n",
        "        #with log version\n",
        "        log_q_kc =np.array([np.log(Pi[c])+np.sum(np.log(tau_b[:,c:(c+1)]**B.transpose()),axis=0)+np.sum(np.log(tau_a[:,c:(c+1)]**A),axis=0)for c in range(args.c)]) #shape (3,50)\n",
        "        #q_kc_test = np.array([1/((np.exp(log_q_kc - log_q_kc[c,:])).sum(axis=0)) for c in range(args.c)]).transpose() #origin version\n",
        "        q_kc_test=np.array(np.exp(log_q_kc)/np.exp(log_q_kc).sum(axis=0)).transpose()\n",
        "\n",
        "\n",
        "        #non-log version\n",
        "        q_kc_num = np.array([Pi[c] * np.multiply(np.prod(tau_a[:,c:(c+1)]**A,axis=0), np.prod(tau_b[:,c:(c+1)]**B.transpose(),axis=0)) for c in range(args.c)]) #(3,50)\n",
        "        #qdiff=np.exp(log_q_kc)-q_kc_num\n",
        "        #print(\"qdiff:{}\".format(qdiff))  #very small difference\n",
        "        #print(\"qkc_num shape:{}\".format(q_kc_num.shape))\n",
        "        #q_kc = np.array([1/((q_kc_num/q_kc_num[c,:]).sum(axis=0)) for c in range(args.c)]).transpose() #(50,3)\n",
        "        q_kc = np.array(q_kc_num/(q_kc_num.sum(axis=0))).transpose()\n",
        "        \n",
        "\n",
        "        #versions and shape check\n",
        "        #qdiff=q_kc-q_kc_test\n",
        "        #print(\"qdiff:{}\".format(qdiff)) \n",
        "        #print(\"q_kc shape:{}\".format(q_kc.shape)) \n",
        "        #print(\"q_kc:{}\".format(q_kc))\n",
        "        \n",
        "\n",
        "        \n",
        "        memberships = np.argmax(q_kc,axis=1)\n",
        "        #print(\"memberships:{}\".format(memberships))\n",
        "        #if np.where(memberships==memberships[0])[0].shape[0] == memberships.shape[0]:\n",
        "        #    break\n",
        "\n",
        "        diff = (np.abs(prev - q_kc)).sum()  \n",
        "        #print(\"diff:{}\".format(diff))    \n",
        "        if diff< args.threshold:\n",
        "            tau_a = np.where(tau_a==0, 1e-10, tau_a)\n",
        "            tau_b = np.where(tau_b==0, 1e-10, tau_b)\n",
        "\n",
        "            var1 = np.log(Pi[memberships]).sum() \n",
        "            var2 = sum([sum(A[:,i]*np.log(tau_a[:,memberships[i]])) for i in range(memberships.shape[0])]) \n",
        "            var3 = sum([sum(B[i,:]*np.log(tau_b[:,memberships[i]])) for i in range(memberships.shape[0])])\n",
        "            \n",
        "            likelihood = np.log(Pi[memberships]).sum() + \\\n",
        "                sum([sum(A[:,i]*np.log(tau_a[:,memberships[i]])) for i in range(memberships.shape[0])]) + \\\n",
        "                sum([sum(B[i,:]*np.log(tau_b[:,memberships[i]])) for i in range(memberships.shape[0])])\n",
        "\n",
        "            return True,np.argmax(q_kc,axis=1),diff,t,likelihood\n",
        "\n",
        "        prev = q_kc\n",
        "    return False,[-1]*layer_b,diff,t,-np.Inf"
      ],
      "execution_count": 4,
      "outputs": []
    },
    {
      "cell_type": "code",
      "metadata": {
        "colab": {
          "base_uri": "https://localhost:8080/"
        },
        "id": "Yv2K2_0bv8K7",
        "outputId": "25559321-b344-4fcf-f575-6593a70227aa"
      },
      "source": [
        "for i, p in enumerate(net_mse.parameters()):\n",
        "  print(\"index:{}  p:{}\".format(i,p.shape))"
      ],
      "execution_count": 5,
      "outputs": [
        {
          "output_type": "stream",
          "text": [
            "index:0  p:torch.Size([50, 1])\n",
            "index:1  p:torch.Size([50])\n",
            "index:2  p:torch.Size([30, 50])\n",
            "index:3  p:torch.Size([30])\n",
            "index:4  p:torch.Size([1, 30])\n",
            "index:5  p:torch.Size([1])\n"
          ],
          "name": "stdout"
        }
      ]
    },
    {
      "cell_type": "code",
      "metadata": {
        "id": "xUYhlvU422Ya"
      },
      "source": [
        "def creategroups(class_number):\t\t\n",
        "  groups_all=[]\n",
        "  W_ij_ab = None\t\t\t\n",
        "  for i, p in enumerate(net_mse.parameters()): # per layer weight matrix\n",
        "    ''' if len(p.shape)==1:\n",
        "      continue '''\n",
        "    #print(i)\n",
        "    arguments = SimpleNamespace(c=class_number,xi =0.05,iterations=2,threshold=6)\t\t\t\t\n",
        "\n",
        "    args = SimpleNamespace(**vars(arguments))\n",
        "\n",
        "    #index_layer = i // 2 # as w, b are seperate in net.parameters()\n",
        "    groups_layer = []\n",
        "    W_ij_bc = p.data.numpy().transpose()\n",
        "    #W_ij_bc = p.cpu().data.numpy().transpose()\n",
        "    \n",
        "    if i ==2:\n",
        "      #print(index_layer)\t\t\t\t\n",
        "      print(\"ab:{}\".format(W_ij_ab.shape))\n",
        "      print(\"bc:{}\".format(W_ij_bc.shape))\n",
        "      \n",
        "      trials, prev_memberships,prev_likelihood = 0, [], -np.Inf\n",
        "      while True:\n",
        "        converge,memberships,difference,t, likelihood = find_groups(arguments,W_ij_ab,W_ij_bc)\n",
        "        #print(converge)\n",
        "        #print(\"likelihood:{}\".format(likelihood))\n",
        "        if converge:\n",
        "          trials+=1\t\t\t\t\t\t\n",
        "          if likelihood>prev_likelihood:\n",
        "            prev_memberships,prev_likelihood = memberships,likelihood\t\t\t\t\t\t\n",
        "          if trials>10:\n",
        "            for c in range(max(prev_memberships)+1):\t\t\t\t\t\n",
        "              #print(\"something:{}\".format(prev_memberships))\n",
        "              groups_layer.append(np.where(prev_memberships==c)[0])\n",
        "            #print(memberships)\n",
        "            break\n",
        "        class_number = min(max(3,class_number+np.random.randint(-1,2)),int(W_ij_bc.shape[0]/4))\n",
        "      groups_all.append(groups_layer) \n",
        "      \n",
        "    if i == 4:\n",
        "      #print(index_layer)\t\t\t\t\n",
        "      print(\"ab:{}\".format(W_ij_ab.shape))\n",
        "      print(\"bc:{}\".format(W_ij_bc.shape))\n",
        "      \n",
        "      trials, prev_memberships,prev_likelihood = 0, [], -np.Inf\n",
        "      while True:\n",
        "        converge,memberships,difference,t, likelihood = find_groups(arguments,W_ij_ab,W_ij_bc)\n",
        "        #print(converge)\n",
        "        #print(\"likelihood:{}\".format(likelihood))\n",
        "        if converge:\n",
        "          trials+=1\t\t\t\t\t\t\n",
        "          if likelihood>prev_likelihood:\n",
        "            prev_memberships,prev_likelihood = memberships,likelihood\t\t\t\t\t\t\n",
        "          if trials>10:\n",
        "            for c in range(max(prev_memberships)+1):\t\t\t\t\t\n",
        "              #print(\"something:{}\".format(prev_memberships))\n",
        "              groups_layer.append(np.where(prev_memberships==c)[0])\n",
        "            #print(memberships)\n",
        "            break\n",
        "        class_number = min(max(3,class_number+np.random.randint(-1,2)),int(W_ij_bc.shape[0]/4))\n",
        "      groups_all.append(groups_layer)\n",
        "\n",
        "    if i==0 or i==2:\n",
        "      W_ij_ab=W_ij_bc\n",
        "  return groups_all"
      ],
      "execution_count": 6,
      "outputs": []
    },
    {
      "cell_type": "code",
      "metadata": {
        "colab": {
          "base_uri": "https://localhost:8080/"
        },
        "id": "83L1CCzj95CW",
        "outputId": "8c69777e-03b1-4672-8763-abd72745060e"
      },
      "source": [
        "result=creategroups(3)\n",
        "result"
      ],
      "execution_count": 7,
      "outputs": [
        {
          "output_type": "stream",
          "text": [
            "ab:(1, 50)\n",
            "bc:(50, 30)\n",
            "ab:(50, 30)\n",
            "bc:(30, 1)\n"
          ],
          "name": "stdout"
        },
        {
          "output_type": "execute_result",
          "data": {
            "text/plain": [
              "[[array([ 0,  2,  4,  5,  6, 10, 12, 15, 21, 23, 25, 27, 28, 30, 31, 41, 42,\n",
              "         44]),\n",
              "  array([ 1,  3,  8, 11, 13, 14, 16, 19, 20, 29, 33, 36, 39, 40, 43, 45]),\n",
              "  array([ 7,  9, 17, 18, 22, 24, 26, 32, 34, 35, 37, 38, 46, 47, 48, 49])],\n",
              " [array([ 2,  3, 11, 15, 16, 22, 23, 26]),\n",
              "  array([ 0,  1,  5,  9, 12, 13, 14, 18, 19]),\n",
              "  array([17, 20, 27, 28]),\n",
              "  array([ 4,  7,  8, 10, 21, 24, 25]),\n",
              "  array([ 6, 29])]]"
            ]
          },
          "metadata": {
            "tags": []
          },
          "execution_count": 7
        }
      ]
    },
    {
      "cell_type": "code",
      "metadata": {
        "id": "-JuLhnZukps7"
      },
      "source": [
        ""
      ],
      "execution_count": null,
      "outputs": []
    }
  ]
}